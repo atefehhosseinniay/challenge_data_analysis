{
 "cells": [
  {
   "cell_type": "markdown",
   "id": "f7c834e3",
   "metadata": {},
   "source": [
    "# import libraries"
   ]
  },
  {
   "cell_type": "code",
   "execution_count": 1,
   "id": "ad6f4478",
   "metadata": {},
   "outputs": [],
   "source": [
    "import pandas as pd\n",
    "import matplotlib.pyplot as plt\n",
    "import seaborn as sns\n",
    "sns.set(color_codes=True)\n",
    "\n",
    "%matplotlib inline"
   ]
  },
  {
   "cell_type": "markdown",
   "id": "77727018",
   "metadata": {},
   "source": [
    "## mission"
   ]
  },
  {
   "cell_type": "markdown",
   "id": "e4c6d335",
   "metadata": {},
   "source": [
    "\n",
    "\n",
    "Which variable is the target ?\n",
    "\n",
    "How many rows and columns ?\n",
    "\n",
    "What is the correlation between the variables and the target ? (Why might that be?)\n",
    "\n",
    "What is the correlation between the variables and the other variables ? (Why?)\n",
    "\n",
    "Which variables have the greatest influence on the target ?\n",
    "\n",
    "Which variables have the least influence on the target ?\n",
    "\n",
    "How many qualitative and quantitative variables are there ? How would you transform these values into numerical values ?\n",
    "\n",
    "Percentage of missing values per column ?"
   ]
  },
  {
   "cell_type": "markdown",
   "id": "50b5875c",
   "metadata": {},
   "source": [
    "# import cleaned data\n"
   ]
  },
  {
   "cell_type": "code",
   "execution_count": 52,
   "id": "e277f06e",
   "metadata": {},
   "outputs": [
    {
     "data": {
      "text/html": [
       "<div>\n",
       "<style scoped>\n",
       "    .dataframe tbody tr th:only-of-type {\n",
       "        vertical-align: middle;\n",
       "    }\n",
       "\n",
       "    .dataframe tbody tr th {\n",
       "        vertical-align: top;\n",
       "    }\n",
       "\n",
       "    .dataframe thead th {\n",
       "        text-align: right;\n",
       "    }\n",
       "</style>\n",
       "<table border=\"1\" class=\"dataframe\">\n",
       "  <thead>\n",
       "    <tr style=\"text-align: right;\">\n",
       "      <th></th>\n",
       "      <th>Unnamed: 0</th>\n",
       "      <th>location</th>\n",
       "      <th>type</th>\n",
       "      <th>subtype</th>\n",
       "      <th>price</th>\n",
       "      <th>room_number</th>\n",
       "      <th>area</th>\n",
       "      <th>kitchen_equipped</th>\n",
       "      <th>furnished</th>\n",
       "      <th>fireplace</th>\n",
       "      <th>...</th>\n",
       "      <th>terrace_area</th>\n",
       "      <th>garden</th>\n",
       "      <th>garden_area</th>\n",
       "      <th>land_surface</th>\n",
       "      <th>facade_count</th>\n",
       "      <th>swimming_pool</th>\n",
       "      <th>building_condition</th>\n",
       "      <th>city</th>\n",
       "      <th>province</th>\n",
       "      <th>region</th>\n",
       "    </tr>\n",
       "  </thead>\n",
       "  <tbody>\n",
       "    <tr>\n",
       "      <th>0</th>\n",
       "      <td>0</td>\n",
       "      <td>6800</td>\n",
       "      <td>HOUSE</td>\n",
       "      <td>HOUSE</td>\n",
       "      <td>295000</td>\n",
       "      <td>5</td>\n",
       "      <td>460</td>\n",
       "      <td>1</td>\n",
       "      <td>0</td>\n",
       "      <td>0</td>\n",
       "      <td>...</td>\n",
       "      <td>10.0</td>\n",
       "      <td>0</td>\n",
       "      <td>None</td>\n",
       "      <td>321.0</td>\n",
       "      <td>2</td>\n",
       "      <td>0</td>\n",
       "      <td>TO_BE_DONE_UP</td>\n",
       "      <td>Remagne</td>\n",
       "      <td>Luxembourg</td>\n",
       "      <td>Wallonia</td>\n",
       "    </tr>\n",
       "    <tr>\n",
       "      <th>1</th>\n",
       "      <td>1</td>\n",
       "      <td>6800</td>\n",
       "      <td>HOUSE</td>\n",
       "      <td>HOUSE</td>\n",
       "      <td>175000</td>\n",
       "      <td>3</td>\n",
       "      <td>172</td>\n",
       "      <td>0</td>\n",
       "      <td>0</td>\n",
       "      <td>0</td>\n",
       "      <td>...</td>\n",
       "      <td>None</td>\n",
       "      <td>1</td>\n",
       "      <td>1000.0</td>\n",
       "      <td>1254.0</td>\n",
       "      <td>4</td>\n",
       "      <td>0</td>\n",
       "      <td>TO_RENOVATE</td>\n",
       "      <td>Remagne</td>\n",
       "      <td>Luxembourg</td>\n",
       "      <td>Wallonia</td>\n",
       "    </tr>\n",
       "    <tr>\n",
       "      <th>2</th>\n",
       "      <td>2</td>\n",
       "      <td>6800</td>\n",
       "      <td>HOUSE</td>\n",
       "      <td>HOUSE</td>\n",
       "      <td>539000</td>\n",
       "      <td>5</td>\n",
       "      <td>596</td>\n",
       "      <td>1</td>\n",
       "      <td>0</td>\n",
       "      <td>1</td>\n",
       "      <td>...</td>\n",
       "      <td>38.0</td>\n",
       "      <td>1</td>\n",
       "      <td>1300.0</td>\n",
       "      <td>1500.0</td>\n",
       "      <td>4</td>\n",
       "      <td>0</td>\n",
       "      <td>AS_NEW</td>\n",
       "      <td>Remagne</td>\n",
       "      <td>Luxembourg</td>\n",
       "      <td>Wallonia</td>\n",
       "    </tr>\n",
       "    <tr>\n",
       "      <th>3</th>\n",
       "      <td>3</td>\n",
       "      <td>6800</td>\n",
       "      <td>APARTMENT</td>\n",
       "      <td>APARTMENT</td>\n",
       "      <td>154000</td>\n",
       "      <td>2</td>\n",
       "      <td>62</td>\n",
       "      <td>0</td>\n",
       "      <td>0</td>\n",
       "      <td>0</td>\n",
       "      <td>...</td>\n",
       "      <td>6.0</td>\n",
       "      <td>0</td>\n",
       "      <td>None</td>\n",
       "      <td>0.0</td>\n",
       "      <td>4</td>\n",
       "      <td>0</td>\n",
       "      <td>No_information</td>\n",
       "      <td>Remagne</td>\n",
       "      <td>Luxembourg</td>\n",
       "      <td>Wallonia</td>\n",
       "    </tr>\n",
       "    <tr>\n",
       "      <th>4</th>\n",
       "      <td>4</td>\n",
       "      <td>6800</td>\n",
       "      <td>APARTMENT</td>\n",
       "      <td>APARTMENT</td>\n",
       "      <td>179000</td>\n",
       "      <td>2</td>\n",
       "      <td>79</td>\n",
       "      <td>0</td>\n",
       "      <td>0</td>\n",
       "      <td>0</td>\n",
       "      <td>...</td>\n",
       "      <td>6.0</td>\n",
       "      <td>0</td>\n",
       "      <td>None</td>\n",
       "      <td>0.0</td>\n",
       "      <td>4</td>\n",
       "      <td>0</td>\n",
       "      <td>No_information</td>\n",
       "      <td>Remagne</td>\n",
       "      <td>Luxembourg</td>\n",
       "      <td>Wallonia</td>\n",
       "    </tr>\n",
       "    <tr>\n",
       "      <th>...</th>\n",
       "      <td>...</td>\n",
       "      <td>...</td>\n",
       "      <td>...</td>\n",
       "      <td>...</td>\n",
       "      <td>...</td>\n",
       "      <td>...</td>\n",
       "      <td>...</td>\n",
       "      <td>...</td>\n",
       "      <td>...</td>\n",
       "      <td>...</td>\n",
       "      <td>...</td>\n",
       "      <td>...</td>\n",
       "      <td>...</td>\n",
       "      <td>...</td>\n",
       "      <td>...</td>\n",
       "      <td>...</td>\n",
       "      <td>...</td>\n",
       "      <td>...</td>\n",
       "      <td>...</td>\n",
       "      <td>...</td>\n",
       "      <td>...</td>\n",
       "    </tr>\n",
       "    <tr>\n",
       "      <th>15646</th>\n",
       "      <td>15646</td>\n",
       "      <td>4557</td>\n",
       "      <td>HOUSE</td>\n",
       "      <td>COUNTRY_COTTAGE</td>\n",
       "      <td>139000</td>\n",
       "      <td>2</td>\n",
       "      <td>81</td>\n",
       "      <td>1</td>\n",
       "      <td>0</td>\n",
       "      <td>0</td>\n",
       "      <td>...</td>\n",
       "      <td>None</td>\n",
       "      <td>1</td>\n",
       "      <td>350.0</td>\n",
       "      <td>443.0</td>\n",
       "      <td>3</td>\n",
       "      <td>0</td>\n",
       "      <td>TO_RENOVATE</td>\n",
       "      <td>Seny</td>\n",
       "      <td>Liege</td>\n",
       "      <td>Wallonia</td>\n",
       "    </tr>\n",
       "    <tr>\n",
       "      <th>15647</th>\n",
       "      <td>15647</td>\n",
       "      <td>9881</td>\n",
       "      <td>HOUSE</td>\n",
       "      <td>HOUSE</td>\n",
       "      <td>499000</td>\n",
       "      <td>6</td>\n",
       "      <td>274</td>\n",
       "      <td>1</td>\n",
       "      <td>0</td>\n",
       "      <td>0</td>\n",
       "      <td>...</td>\n",
       "      <td>None</td>\n",
       "      <td>1</td>\n",
       "      <td>None</td>\n",
       "      <td>1036.0</td>\n",
       "      <td>3</td>\n",
       "      <td>0</td>\n",
       "      <td>TO_RENOVATE</td>\n",
       "      <td>Bellem</td>\n",
       "      <td>East_Flanders</td>\n",
       "      <td>Flanders</td>\n",
       "    </tr>\n",
       "    <tr>\n",
       "      <th>15648</th>\n",
       "      <td>15648</td>\n",
       "      <td>6851</td>\n",
       "      <td>HOUSE</td>\n",
       "      <td>HOUSE</td>\n",
       "      <td>115000</td>\n",
       "      <td>4</td>\n",
       "      <td>160</td>\n",
       "      <td>0</td>\n",
       "      <td>0</td>\n",
       "      <td>0</td>\n",
       "      <td>...</td>\n",
       "      <td>None</td>\n",
       "      <td>1</td>\n",
       "      <td>None</td>\n",
       "      <td>1555.0</td>\n",
       "      <td>4</td>\n",
       "      <td>0</td>\n",
       "      <td>TO_RENOVATE</td>\n",
       "      <td>Nollevaux</td>\n",
       "      <td>Luxembourg</td>\n",
       "      <td>Wallonia</td>\n",
       "    </tr>\n",
       "    <tr>\n",
       "      <th>15649</th>\n",
       "      <td>15649</td>\n",
       "      <td>4342</td>\n",
       "      <td>HOUSE</td>\n",
       "      <td>HOUSE</td>\n",
       "      <td>210000</td>\n",
       "      <td>3</td>\n",
       "      <td>110</td>\n",
       "      <td>1</td>\n",
       "      <td>0</td>\n",
       "      <td>0</td>\n",
       "      <td>...</td>\n",
       "      <td>15.0</td>\n",
       "      <td>1</td>\n",
       "      <td>1200.0</td>\n",
       "      <td>1400.0</td>\n",
       "      <td>3</td>\n",
       "      <td>0</td>\n",
       "      <td>TO_BE_DONE_UP</td>\n",
       "      <td>Hognoul</td>\n",
       "      <td>Liege</td>\n",
       "      <td>Wallonia</td>\n",
       "    </tr>\n",
       "    <tr>\n",
       "      <th>15650</th>\n",
       "      <td>15650</td>\n",
       "      <td>1981</td>\n",
       "      <td>HOUSE</td>\n",
       "      <td>VILLA</td>\n",
       "      <td>1085000</td>\n",
       "      <td>4</td>\n",
       "      <td>1307</td>\n",
       "      <td>1</td>\n",
       "      <td>0</td>\n",
       "      <td>1</td>\n",
       "      <td>...</td>\n",
       "      <td>100.0</td>\n",
       "      <td>1</td>\n",
       "      <td>1.0</td>\n",
       "      <td>1307.0</td>\n",
       "      <td>4</td>\n",
       "      <td>1</td>\n",
       "      <td>AS_NEW</td>\n",
       "      <td>Hofstade</td>\n",
       "      <td>Flemish_Brabant</td>\n",
       "      <td>Flanders</td>\n",
       "    </tr>\n",
       "  </tbody>\n",
       "</table>\n",
       "<p>15651 rows × 21 columns</p>\n",
       "</div>"
      ],
      "text/plain": [
       "       Unnamed: 0  location       type          subtype    price  room_number  \\\n",
       "0               0      6800      HOUSE            HOUSE   295000            5   \n",
       "1               1      6800      HOUSE            HOUSE   175000            3   \n",
       "2               2      6800      HOUSE            HOUSE   539000            5   \n",
       "3               3      6800  APARTMENT        APARTMENT   154000            2   \n",
       "4               4      6800  APARTMENT        APARTMENT   179000            2   \n",
       "...           ...       ...        ...              ...      ...          ...   \n",
       "15646       15646      4557      HOUSE  COUNTRY_COTTAGE   139000            2   \n",
       "15647       15647      9881      HOUSE            HOUSE   499000            6   \n",
       "15648       15648      6851      HOUSE            HOUSE   115000            4   \n",
       "15649       15649      4342      HOUSE            HOUSE   210000            3   \n",
       "15650       15650      1981      HOUSE            VILLA  1085000            4   \n",
       "\n",
       "       area  kitchen_equipped  furnished  fireplace  ...  terrace_area garden  \\\n",
       "0       460                 1          0          0  ...          10.0      0   \n",
       "1       172                 0          0          0  ...          None      1   \n",
       "2       596                 1          0          1  ...          38.0      1   \n",
       "3        62                 0          0          0  ...           6.0      0   \n",
       "4        79                 0          0          0  ...           6.0      0   \n",
       "...     ...               ...        ...        ...  ...           ...    ...   \n",
       "15646    81                 1          0          0  ...          None      1   \n",
       "15647   274                 1          0          0  ...          None      1   \n",
       "15648   160                 0          0          0  ...          None      1   \n",
       "15649   110                 1          0          0  ...          15.0      1   \n",
       "15650  1307                 1          0          1  ...         100.0      1   \n",
       "\n",
       "       garden_area land_surface  facade_count  swimming_pool  \\\n",
       "0             None        321.0             2              0   \n",
       "1           1000.0       1254.0             4              0   \n",
       "2           1300.0       1500.0             4              0   \n",
       "3             None          0.0             4              0   \n",
       "4             None          0.0             4              0   \n",
       "...            ...          ...           ...            ...   \n",
       "15646        350.0        443.0             3              0   \n",
       "15647         None       1036.0             3              0   \n",
       "15648         None       1555.0             4              0   \n",
       "15649       1200.0       1400.0             3              0   \n",
       "15650          1.0       1307.0             4              1   \n",
       "\n",
       "       building_condition       city         province    region  \n",
       "0           TO_BE_DONE_UP    Remagne       Luxembourg  Wallonia  \n",
       "1             TO_RENOVATE    Remagne       Luxembourg  Wallonia  \n",
       "2                  AS_NEW    Remagne       Luxembourg  Wallonia  \n",
       "3          No_information    Remagne       Luxembourg  Wallonia  \n",
       "4          No_information    Remagne       Luxembourg  Wallonia  \n",
       "...                   ...        ...              ...       ...  \n",
       "15646         TO_RENOVATE       Seny            Liege  Wallonia  \n",
       "15647         TO_RENOVATE     Bellem    East_Flanders  Flanders  \n",
       "15648         TO_RENOVATE  Nollevaux       Luxembourg  Wallonia  \n",
       "15649       TO_BE_DONE_UP    Hognoul            Liege  Wallonia  \n",
       "15650              AS_NEW   Hofstade  Flemish_Brabant  Flanders  \n",
       "\n",
       "[15651 rows x 21 columns]"
      ]
     },
     "execution_count": 52,
     "metadata": {},
     "output_type": "execute_result"
    }
   ],
   "source": [
    "ds=pd.read_csv('cleaneddata1.csv',sep=',')\n",
    "ds"
   ]
  },
  {
   "cell_type": "code",
   "execution_count": 54,
   "id": "005faab3",
   "metadata": {},
   "outputs": [
    {
     "data": {
      "text/plain": [
       "Index(['Unnamed: 0', 'location', 'type', 'subtype', 'price', 'room_number',\n",
       "       'area', 'kitchen_equipped', 'furnished', 'fireplace', 'terrace',\n",
       "       'terrace_area', 'garden', 'garden_area', 'land_surface', 'facade_count',\n",
       "       'swimming_pool', 'building_condition', 'city', 'province', 'region'],\n",
       "      dtype='object')"
      ]
     },
     "execution_count": 54,
     "metadata": {},
     "output_type": "execute_result"
    }
   ],
   "source": [
    "ds.columns"
   ]
  },
  {
   "cell_type": "code",
   "execution_count": 55,
   "id": "a70e031c",
   "metadata": {},
   "outputs": [],
   "source": [
    "# delet the first column and rename the columns of 'location' to postal_code\n",
    "\n",
    "del ds[\"Unnamed: 0\"]\n",
    "\n",
    "ds.rename(columns={'location': 'postal_code'}, inplace=True)"
   ]
  },
  {
   "cell_type": "code",
   "execution_count": 56,
   "id": "edc0a699",
   "metadata": {},
   "outputs": [
    {
     "data": {
      "text/html": [
       "<div>\n",
       "<style scoped>\n",
       "    .dataframe tbody tr th:only-of-type {\n",
       "        vertical-align: middle;\n",
       "    }\n",
       "\n",
       "    .dataframe tbody tr th {\n",
       "        vertical-align: top;\n",
       "    }\n",
       "\n",
       "    .dataframe thead th {\n",
       "        text-align: right;\n",
       "    }\n",
       "</style>\n",
       "<table border=\"1\" class=\"dataframe\">\n",
       "  <thead>\n",
       "    <tr style=\"text-align: right;\">\n",
       "      <th></th>\n",
       "      <th>postal_code</th>\n",
       "      <th>type</th>\n",
       "      <th>subtype</th>\n",
       "      <th>price</th>\n",
       "      <th>room_number</th>\n",
       "      <th>area</th>\n",
       "      <th>kitchen_equipped</th>\n",
       "      <th>furnished</th>\n",
       "      <th>fireplace</th>\n",
       "      <th>terrace</th>\n",
       "      <th>terrace_area</th>\n",
       "      <th>garden</th>\n",
       "      <th>garden_area</th>\n",
       "      <th>land_surface</th>\n",
       "      <th>facade_count</th>\n",
       "      <th>swimming_pool</th>\n",
       "      <th>building_condition</th>\n",
       "      <th>city</th>\n",
       "      <th>province</th>\n",
       "      <th>region</th>\n",
       "    </tr>\n",
       "  </thead>\n",
       "  <tbody>\n",
       "    <tr>\n",
       "      <th>0</th>\n",
       "      <td>6800</td>\n",
       "      <td>HOUSE</td>\n",
       "      <td>HOUSE</td>\n",
       "      <td>295000</td>\n",
       "      <td>5</td>\n",
       "      <td>460</td>\n",
       "      <td>1</td>\n",
       "      <td>0</td>\n",
       "      <td>0</td>\n",
       "      <td>1</td>\n",
       "      <td>10.0</td>\n",
       "      <td>0</td>\n",
       "      <td>None</td>\n",
       "      <td>321.0</td>\n",
       "      <td>2</td>\n",
       "      <td>0</td>\n",
       "      <td>TO_BE_DONE_UP</td>\n",
       "      <td>Remagne</td>\n",
       "      <td>Luxembourg</td>\n",
       "      <td>Wallonia</td>\n",
       "    </tr>\n",
       "    <tr>\n",
       "      <th>1</th>\n",
       "      <td>6800</td>\n",
       "      <td>HOUSE</td>\n",
       "      <td>HOUSE</td>\n",
       "      <td>175000</td>\n",
       "      <td>3</td>\n",
       "      <td>172</td>\n",
       "      <td>0</td>\n",
       "      <td>0</td>\n",
       "      <td>0</td>\n",
       "      <td>1</td>\n",
       "      <td>None</td>\n",
       "      <td>1</td>\n",
       "      <td>1000.0</td>\n",
       "      <td>1254.0</td>\n",
       "      <td>4</td>\n",
       "      <td>0</td>\n",
       "      <td>TO_RENOVATE</td>\n",
       "      <td>Remagne</td>\n",
       "      <td>Luxembourg</td>\n",
       "      <td>Wallonia</td>\n",
       "    </tr>\n",
       "    <tr>\n",
       "      <th>2</th>\n",
       "      <td>6800</td>\n",
       "      <td>HOUSE</td>\n",
       "      <td>HOUSE</td>\n",
       "      <td>539000</td>\n",
       "      <td>5</td>\n",
       "      <td>596</td>\n",
       "      <td>1</td>\n",
       "      <td>0</td>\n",
       "      <td>1</td>\n",
       "      <td>1</td>\n",
       "      <td>38.0</td>\n",
       "      <td>1</td>\n",
       "      <td>1300.0</td>\n",
       "      <td>1500.0</td>\n",
       "      <td>4</td>\n",
       "      <td>0</td>\n",
       "      <td>AS_NEW</td>\n",
       "      <td>Remagne</td>\n",
       "      <td>Luxembourg</td>\n",
       "      <td>Wallonia</td>\n",
       "    </tr>\n",
       "    <tr>\n",
       "      <th>3</th>\n",
       "      <td>6800</td>\n",
       "      <td>APARTMENT</td>\n",
       "      <td>APARTMENT</td>\n",
       "      <td>154000</td>\n",
       "      <td>2</td>\n",
       "      <td>62</td>\n",
       "      <td>0</td>\n",
       "      <td>0</td>\n",
       "      <td>0</td>\n",
       "      <td>1</td>\n",
       "      <td>6.0</td>\n",
       "      <td>0</td>\n",
       "      <td>None</td>\n",
       "      <td>0.0</td>\n",
       "      <td>4</td>\n",
       "      <td>0</td>\n",
       "      <td>No_information</td>\n",
       "      <td>Remagne</td>\n",
       "      <td>Luxembourg</td>\n",
       "      <td>Wallonia</td>\n",
       "    </tr>\n",
       "    <tr>\n",
       "      <th>4</th>\n",
       "      <td>6800</td>\n",
       "      <td>APARTMENT</td>\n",
       "      <td>APARTMENT</td>\n",
       "      <td>179000</td>\n",
       "      <td>2</td>\n",
       "      <td>79</td>\n",
       "      <td>0</td>\n",
       "      <td>0</td>\n",
       "      <td>0</td>\n",
       "      <td>1</td>\n",
       "      <td>6.0</td>\n",
       "      <td>0</td>\n",
       "      <td>None</td>\n",
       "      <td>0.0</td>\n",
       "      <td>4</td>\n",
       "      <td>0</td>\n",
       "      <td>No_information</td>\n",
       "      <td>Remagne</td>\n",
       "      <td>Luxembourg</td>\n",
       "      <td>Wallonia</td>\n",
       "    </tr>\n",
       "    <tr>\n",
       "      <th>...</th>\n",
       "      <td>...</td>\n",
       "      <td>...</td>\n",
       "      <td>...</td>\n",
       "      <td>...</td>\n",
       "      <td>...</td>\n",
       "      <td>...</td>\n",
       "      <td>...</td>\n",
       "      <td>...</td>\n",
       "      <td>...</td>\n",
       "      <td>...</td>\n",
       "      <td>...</td>\n",
       "      <td>...</td>\n",
       "      <td>...</td>\n",
       "      <td>...</td>\n",
       "      <td>...</td>\n",
       "      <td>...</td>\n",
       "      <td>...</td>\n",
       "      <td>...</td>\n",
       "      <td>...</td>\n",
       "      <td>...</td>\n",
       "    </tr>\n",
       "    <tr>\n",
       "      <th>15646</th>\n",
       "      <td>4557</td>\n",
       "      <td>HOUSE</td>\n",
       "      <td>COUNTRY_COTTAGE</td>\n",
       "      <td>139000</td>\n",
       "      <td>2</td>\n",
       "      <td>81</td>\n",
       "      <td>1</td>\n",
       "      <td>0</td>\n",
       "      <td>0</td>\n",
       "      <td>0</td>\n",
       "      <td>None</td>\n",
       "      <td>1</td>\n",
       "      <td>350.0</td>\n",
       "      <td>443.0</td>\n",
       "      <td>3</td>\n",
       "      <td>0</td>\n",
       "      <td>TO_RENOVATE</td>\n",
       "      <td>Seny</td>\n",
       "      <td>Liege</td>\n",
       "      <td>Wallonia</td>\n",
       "    </tr>\n",
       "    <tr>\n",
       "      <th>15647</th>\n",
       "      <td>9881</td>\n",
       "      <td>HOUSE</td>\n",
       "      <td>HOUSE</td>\n",
       "      <td>499000</td>\n",
       "      <td>6</td>\n",
       "      <td>274</td>\n",
       "      <td>1</td>\n",
       "      <td>0</td>\n",
       "      <td>0</td>\n",
       "      <td>0</td>\n",
       "      <td>None</td>\n",
       "      <td>1</td>\n",
       "      <td>None</td>\n",
       "      <td>1036.0</td>\n",
       "      <td>3</td>\n",
       "      <td>0</td>\n",
       "      <td>TO_RENOVATE</td>\n",
       "      <td>Bellem</td>\n",
       "      <td>East_Flanders</td>\n",
       "      <td>Flanders</td>\n",
       "    </tr>\n",
       "    <tr>\n",
       "      <th>15648</th>\n",
       "      <td>6851</td>\n",
       "      <td>HOUSE</td>\n",
       "      <td>HOUSE</td>\n",
       "      <td>115000</td>\n",
       "      <td>4</td>\n",
       "      <td>160</td>\n",
       "      <td>0</td>\n",
       "      <td>0</td>\n",
       "      <td>0</td>\n",
       "      <td>1</td>\n",
       "      <td>None</td>\n",
       "      <td>1</td>\n",
       "      <td>None</td>\n",
       "      <td>1555.0</td>\n",
       "      <td>4</td>\n",
       "      <td>0</td>\n",
       "      <td>TO_RENOVATE</td>\n",
       "      <td>Nollevaux</td>\n",
       "      <td>Luxembourg</td>\n",
       "      <td>Wallonia</td>\n",
       "    </tr>\n",
       "    <tr>\n",
       "      <th>15649</th>\n",
       "      <td>4342</td>\n",
       "      <td>HOUSE</td>\n",
       "      <td>HOUSE</td>\n",
       "      <td>210000</td>\n",
       "      <td>3</td>\n",
       "      <td>110</td>\n",
       "      <td>1</td>\n",
       "      <td>0</td>\n",
       "      <td>0</td>\n",
       "      <td>1</td>\n",
       "      <td>15.0</td>\n",
       "      <td>1</td>\n",
       "      <td>1200.0</td>\n",
       "      <td>1400.0</td>\n",
       "      <td>3</td>\n",
       "      <td>0</td>\n",
       "      <td>TO_BE_DONE_UP</td>\n",
       "      <td>Hognoul</td>\n",
       "      <td>Liege</td>\n",
       "      <td>Wallonia</td>\n",
       "    </tr>\n",
       "    <tr>\n",
       "      <th>15650</th>\n",
       "      <td>1981</td>\n",
       "      <td>HOUSE</td>\n",
       "      <td>VILLA</td>\n",
       "      <td>1085000</td>\n",
       "      <td>4</td>\n",
       "      <td>1307</td>\n",
       "      <td>1</td>\n",
       "      <td>0</td>\n",
       "      <td>1</td>\n",
       "      <td>1</td>\n",
       "      <td>100.0</td>\n",
       "      <td>1</td>\n",
       "      <td>1.0</td>\n",
       "      <td>1307.0</td>\n",
       "      <td>4</td>\n",
       "      <td>1</td>\n",
       "      <td>AS_NEW</td>\n",
       "      <td>Hofstade</td>\n",
       "      <td>Flemish_Brabant</td>\n",
       "      <td>Flanders</td>\n",
       "    </tr>\n",
       "  </tbody>\n",
       "</table>\n",
       "<p>15651 rows × 20 columns</p>\n",
       "</div>"
      ],
      "text/plain": [
       "       postal_code       type          subtype    price  room_number  area  \\\n",
       "0             6800      HOUSE            HOUSE   295000            5   460   \n",
       "1             6800      HOUSE            HOUSE   175000            3   172   \n",
       "2             6800      HOUSE            HOUSE   539000            5   596   \n",
       "3             6800  APARTMENT        APARTMENT   154000            2    62   \n",
       "4             6800  APARTMENT        APARTMENT   179000            2    79   \n",
       "...            ...        ...              ...      ...          ...   ...   \n",
       "15646         4557      HOUSE  COUNTRY_COTTAGE   139000            2    81   \n",
       "15647         9881      HOUSE            HOUSE   499000            6   274   \n",
       "15648         6851      HOUSE            HOUSE   115000            4   160   \n",
       "15649         4342      HOUSE            HOUSE   210000            3   110   \n",
       "15650         1981      HOUSE            VILLA  1085000            4  1307   \n",
       "\n",
       "       kitchen_equipped  furnished  fireplace  terrace terrace_area  garden  \\\n",
       "0                     1          0          0        1         10.0       0   \n",
       "1                     0          0          0        1         None       1   \n",
       "2                     1          0          1        1         38.0       1   \n",
       "3                     0          0          0        1          6.0       0   \n",
       "4                     0          0          0        1          6.0       0   \n",
       "...                 ...        ...        ...      ...          ...     ...   \n",
       "15646                 1          0          0        0         None       1   \n",
       "15647                 1          0          0        0         None       1   \n",
       "15648                 0          0          0        1         None       1   \n",
       "15649                 1          0          0        1         15.0       1   \n",
       "15650                 1          0          1        1        100.0       1   \n",
       "\n",
       "      garden_area  land_surface  facade_count  swimming_pool  \\\n",
       "0            None         321.0             2              0   \n",
       "1          1000.0        1254.0             4              0   \n",
       "2          1300.0        1500.0             4              0   \n",
       "3            None           0.0             4              0   \n",
       "4            None           0.0             4              0   \n",
       "...           ...           ...           ...            ...   \n",
       "15646       350.0         443.0             3              0   \n",
       "15647        None        1036.0             3              0   \n",
       "15648        None        1555.0             4              0   \n",
       "15649      1200.0        1400.0             3              0   \n",
       "15650         1.0        1307.0             4              1   \n",
       "\n",
       "      building_condition       city         province    region  \n",
       "0          TO_BE_DONE_UP    Remagne       Luxembourg  Wallonia  \n",
       "1            TO_RENOVATE    Remagne       Luxembourg  Wallonia  \n",
       "2                 AS_NEW    Remagne       Luxembourg  Wallonia  \n",
       "3         No_information    Remagne       Luxembourg  Wallonia  \n",
       "4         No_information    Remagne       Luxembourg  Wallonia  \n",
       "...                  ...        ...              ...       ...  \n",
       "15646        TO_RENOVATE       Seny            Liege  Wallonia  \n",
       "15647        TO_RENOVATE     Bellem    East_Flanders  Flanders  \n",
       "15648        TO_RENOVATE  Nollevaux       Luxembourg  Wallonia  \n",
       "15649      TO_BE_DONE_UP    Hognoul            Liege  Wallonia  \n",
       "15650             AS_NEW   Hofstade  Flemish_Brabant  Flanders  \n",
       "\n",
       "[15651 rows x 20 columns]"
      ]
     },
     "execution_count": 56,
     "metadata": {},
     "output_type": "execute_result"
    }
   ],
   "source": [
    "ds"
   ]
  },
  {
   "cell_type": "markdown",
   "id": "1b6fcffb",
   "metadata": {},
   "source": [
    "## Which variable is the target ?"
   ]
  },
  {
   "cell_type": "markdown",
   "id": "6d799c42",
   "metadata": {},
   "source": [
    "price (we want to creat a model to predict price.)"
   ]
  },
  {
   "cell_type": "code",
   "execution_count": 69,
   "id": "85f72dbd",
   "metadata": {},
   "outputs": [
    {
     "data": {
      "text/plain": [
       "473084.17034055333"
      ]
     },
     "execution_count": 69,
     "metadata": {},
     "output_type": "execute_result"
    }
   ],
   "source": [
    "ds.price.mean()"
   ]
  },
  {
   "cell_type": "code",
   "execution_count": 70,
   "id": "5fef6814",
   "metadata": {},
   "outputs": [
    {
     "data": {
      "text/plain": [
       "319000.0"
      ]
     },
     "execution_count": 70,
     "metadata": {},
     "output_type": "execute_result"
    }
   ],
   "source": [
    "ds.price.median()"
   ]
  },
  {
   "cell_type": "markdown",
   "id": "88e2c438",
   "metadata": {},
   "source": [
    "#### price outliner"
   ]
  },
  {
   "cell_type": "code",
   "execution_count": 74,
   "id": "3aa911b3",
   "metadata": {},
   "outputs": [
    {
     "data": {
      "text/plain": [
       "<AxesSubplot:xlabel='price'>"
      ]
     },
     "execution_count": 74,
     "metadata": {},
     "output_type": "execute_result"
    },
    {
     "data": {
      "image/png": "[encoded data removed]",
      "text/plain": [
       "<Figure size 1440x576 with 1 Axes>"
      ]
     },
     "metadata": {
      "needs_background": "light"
     },
     "output_type": "display_data"
    }
   ],
   "source": [
    "plt.figure(figsize=(20,8))\n",
    "sns.boxplot(x=\"price\", data=ds)"
   ]
  },
  {
   "cell_type": "markdown",
   "id": "3c7d9197",
   "metadata": {},
   "source": [
    "a lot of number of properties over 1000000 euros as outliers in the box plot."
   ]
  },
  {
   "cell_type": "markdown",
   "id": "e9c6ed5c",
   "metadata": {},
   "source": [
    "## How many rows and columns ?"
   ]
  },
  {
   "cell_type": "markdown",
   "id": "5393f012",
   "metadata": {},
   "source": [
    "with our data cleaning process:"
   ]
  },
  {
   "cell_type": "code",
   "execution_count": 57,
   "id": "7a847925",
   "metadata": {},
   "outputs": [
    {
     "data": {
      "text/plain": [
       "(15651, 20)"
      ]
     },
     "execution_count": 57,
     "metadata": {},
     "output_type": "execute_result"
    }
   ],
   "source": [
    "ds.shape"
   ]
  },
  {
   "cell_type": "code",
   "execution_count": 58,
   "id": "bf490bf1",
   "metadata": {},
   "outputs": [],
   "source": [
    "row=ds.shape[0]\n",
    "columns=ds.shape[1]"
   ]
  },
  {
   "cell_type": "code",
   "execution_count": 59,
   "id": "f126489f",
   "metadata": {},
   "outputs": [
    {
     "name": "stdout",
     "output_type": "stream",
     "text": [
      "row = 15651 and columns = 20.\n"
     ]
    }
   ],
   "source": [
    "print(f'row = {row} and columns = {columns}.')"
   ]
  },
  {
   "cell_type": "code",
   "execution_count": 60,
   "id": "123708e4",
   "metadata": {},
   "outputs": [
    {
     "name": "stdout",
     "output_type": "stream",
     "text": [
      "<class 'pandas.core.frame.DataFrame'>\n",
      "RangeIndex: 15651 entries, 0 to 15650\n",
      "Data columns (total 20 columns):\n",
      " #   Column              Non-Null Count  Dtype  \n",
      "---  ------              --------------  -----  \n",
      " 0   postal_code         15651 non-null  int64  \n",
      " 1   type                15651 non-null  object \n",
      " 2   subtype             15651 non-null  object \n",
      " 3   price               15651 non-null  int64  \n",
      " 4   room_number         15651 non-null  int64  \n",
      " 5   area                15651 non-null  int64  \n",
      " 6   kitchen_equipped    15651 non-null  int64  \n",
      " 7   furnished           15651 non-null  int64  \n",
      " 8   fireplace           15651 non-null  int64  \n",
      " 9   terrace             15651 non-null  int64  \n",
      " 10  terrace_area        15651 non-null  object \n",
      " 11  garden              15651 non-null  int64  \n",
      " 12  garden_area         15651 non-null  object \n",
      " 13  land_surface        15651 non-null  float64\n",
      " 14  facade_count        15651 non-null  int64  \n",
      " 15  swimming_pool       15651 non-null  int64  \n",
      " 16  building_condition  15651 non-null  object \n",
      " 17  city                15651 non-null  object \n",
      " 18  province            13804 non-null  object \n",
      " 19  region              15651 non-null  object \n",
      "dtypes: float64(1), int64(11), object(8)\n",
      "memory usage: 1.9+ MB\n"
     ]
    }
   ],
   "source": [
    "ds.info()"
   ]
  },
  {
   "cell_type": "markdown",
   "id": "9e5c99a0",
   "metadata": {},
   "source": [
    "### What is the correlation between the variables and the target ? (Why might that be?)\n",
    "### What is the correlation between the variables and the target ? (Why might that be?)\n",
    "\n",
    "### What is the correlation between the variables and the other variables ? (Why?)\n",
    "\n",
    "### Which variables have the greatest influence on the target ?\n",
    "\n",
    "### Which variables have the least influence on the target ?"
   ]
  },
  {
   "cell_type": "markdown",
   "id": "a6e04f1e",
   "metadata": {},
   "source": [
    "# correlation"
   ]
  },
  {
   "cell_type": "code",
   "execution_count": 63,
   "id": "33a0f190",
   "metadata": {},
   "outputs": [
    {
     "data": {
      "text/html": [
       "<div>\n",
       "<style scoped>\n",
       "    .dataframe tbody tr th:only-of-type {\n",
       "        vertical-align: middle;\n",
       "    }\n",
       "\n",
       "    .dataframe tbody tr th {\n",
       "        vertical-align: top;\n",
       "    }\n",
       "\n",
       "    .dataframe thead th {\n",
       "        text-align: right;\n",
       "    }\n",
       "</style>\n",
       "<table border=\"1\" class=\"dataframe\">\n",
       "  <thead>\n",
       "    <tr style=\"text-align: right;\">\n",
       "      <th></th>\n",
       "      <th>postal_code</th>\n",
       "      <th>price</th>\n",
       "      <th>room_number</th>\n",
       "      <th>area</th>\n",
       "      <th>kitchen_equipped</th>\n",
       "      <th>furnished</th>\n",
       "      <th>fireplace</th>\n",
       "      <th>terrace</th>\n",
       "      <th>garden</th>\n",
       "      <th>land_surface</th>\n",
       "      <th>facade_count</th>\n",
       "      <th>swimming_pool</th>\n",
       "    </tr>\n",
       "  </thead>\n",
       "  <tbody>\n",
       "    <tr>\n",
       "      <th>postal_code</th>\n",
       "      <td>1.000000</td>\n",
       "      <td>-0.159612</td>\n",
       "      <td>-0.029154</td>\n",
       "      <td>-0.057482</td>\n",
       "      <td>-0.130605</td>\n",
       "      <td>0.019330</td>\n",
       "      <td>-0.066888</td>\n",
       "      <td>-0.119945</td>\n",
       "      <td>0.060416</td>\n",
       "      <td>-0.012894</td>\n",
       "      <td>-0.122755</td>\n",
       "      <td>-0.071056</td>\n",
       "    </tr>\n",
       "    <tr>\n",
       "      <th>price</th>\n",
       "      <td>-0.159612</td>\n",
       "      <td>1.000000</td>\n",
       "      <td>0.420545</td>\n",
       "      <td>0.592532</td>\n",
       "      <td>0.025067</td>\n",
       "      <td>0.008907</td>\n",
       "      <td>0.137882</td>\n",
       "      <td>0.116823</td>\n",
       "      <td>0.057383</td>\n",
       "      <td>0.209073</td>\n",
       "      <td>0.161326</td>\n",
       "      <td>0.336337</td>\n",
       "    </tr>\n",
       "    <tr>\n",
       "      <th>room_number</th>\n",
       "      <td>-0.029154</td>\n",
       "      <td>0.420545</td>\n",
       "      <td>1.000000</td>\n",
       "      <td>0.630930</td>\n",
       "      <td>0.031293</td>\n",
       "      <td>-0.069802</td>\n",
       "      <td>0.179203</td>\n",
       "      <td>0.026175</td>\n",
       "      <td>0.252634</td>\n",
       "      <td>0.164820</td>\n",
       "      <td>0.245643</td>\n",
       "      <td>0.191976</td>\n",
       "    </tr>\n",
       "    <tr>\n",
       "      <th>area</th>\n",
       "      <td>-0.057482</td>\n",
       "      <td>0.592532</td>\n",
       "      <td>0.630930</td>\n",
       "      <td>1.000000</td>\n",
       "      <td>0.005359</td>\n",
       "      <td>-0.045688</td>\n",
       "      <td>0.192362</td>\n",
       "      <td>0.009394</td>\n",
       "      <td>0.180366</td>\n",
       "      <td>0.241506</td>\n",
       "      <td>0.238160</td>\n",
       "      <td>0.286746</td>\n",
       "    </tr>\n",
       "    <tr>\n",
       "      <th>kitchen_equipped</th>\n",
       "      <td>-0.130605</td>\n",
       "      <td>0.025067</td>\n",
       "      <td>0.031293</td>\n",
       "      <td>0.005359</td>\n",
       "      <td>1.000000</td>\n",
       "      <td>-0.004133</td>\n",
       "      <td>0.050074</td>\n",
       "      <td>0.141759</td>\n",
       "      <td>0.055695</td>\n",
       "      <td>0.001687</td>\n",
       "      <td>0.141460</td>\n",
       "      <td>0.045582</td>\n",
       "    </tr>\n",
       "    <tr>\n",
       "      <th>furnished</th>\n",
       "      <td>0.019330</td>\n",
       "      <td>0.008907</td>\n",
       "      <td>-0.069802</td>\n",
       "      <td>-0.045688</td>\n",
       "      <td>-0.004133</td>\n",
       "      <td>1.000000</td>\n",
       "      <td>-0.009283</td>\n",
       "      <td>-0.003035</td>\n",
       "      <td>-0.032134</td>\n",
       "      <td>-0.005863</td>\n",
       "      <td>-0.024914</td>\n",
       "      <td>-0.001320</td>\n",
       "    </tr>\n",
       "    <tr>\n",
       "      <th>fireplace</th>\n",
       "      <td>-0.066888</td>\n",
       "      <td>0.137882</td>\n",
       "      <td>0.179203</td>\n",
       "      <td>0.192362</td>\n",
       "      <td>0.050074</td>\n",
       "      <td>-0.009283</td>\n",
       "      <td>1.000000</td>\n",
       "      <td>0.006830</td>\n",
       "      <td>0.129930</td>\n",
       "      <td>0.043928</td>\n",
       "      <td>0.161903</td>\n",
       "      <td>0.116662</td>\n",
       "    </tr>\n",
       "    <tr>\n",
       "      <th>terrace</th>\n",
       "      <td>-0.119945</td>\n",
       "      <td>0.116823</td>\n",
       "      <td>0.026175</td>\n",
       "      <td>0.009394</td>\n",
       "      <td>0.141759</td>\n",
       "      <td>-0.003035</td>\n",
       "      <td>0.006830</td>\n",
       "      <td>1.000000</td>\n",
       "      <td>0.047256</td>\n",
       "      <td>0.005223</td>\n",
       "      <td>0.042297</td>\n",
       "      <td>0.071353</td>\n",
       "    </tr>\n",
       "    <tr>\n",
       "      <th>garden</th>\n",
       "      <td>0.060416</td>\n",
       "      <td>0.057383</td>\n",
       "      <td>0.252634</td>\n",
       "      <td>0.180366</td>\n",
       "      <td>0.055695</td>\n",
       "      <td>-0.032134</td>\n",
       "      <td>0.129930</td>\n",
       "      <td>0.047256</td>\n",
       "      <td>1.000000</td>\n",
       "      <td>0.021587</td>\n",
       "      <td>0.137041</td>\n",
       "      <td>0.070388</td>\n",
       "    </tr>\n",
       "    <tr>\n",
       "      <th>land_surface</th>\n",
       "      <td>-0.012894</td>\n",
       "      <td>0.209073</td>\n",
       "      <td>0.164820</td>\n",
       "      <td>0.241506</td>\n",
       "      <td>0.001687</td>\n",
       "      <td>-0.005863</td>\n",
       "      <td>0.043928</td>\n",
       "      <td>0.005223</td>\n",
       "      <td>0.021587</td>\n",
       "      <td>1.000000</td>\n",
       "      <td>0.051050</td>\n",
       "      <td>0.090318</td>\n",
       "    </tr>\n",
       "    <tr>\n",
       "      <th>facade_count</th>\n",
       "      <td>-0.122755</td>\n",
       "      <td>0.161326</td>\n",
       "      <td>0.245643</td>\n",
       "      <td>0.238160</td>\n",
       "      <td>0.141460</td>\n",
       "      <td>-0.024914</td>\n",
       "      <td>0.161903</td>\n",
       "      <td>0.042297</td>\n",
       "      <td>0.137041</td>\n",
       "      <td>0.051050</td>\n",
       "      <td>1.000000</td>\n",
       "      <td>0.146455</td>\n",
       "    </tr>\n",
       "    <tr>\n",
       "      <th>swimming_pool</th>\n",
       "      <td>-0.071056</td>\n",
       "      <td>0.336337</td>\n",
       "      <td>0.191976</td>\n",
       "      <td>0.286746</td>\n",
       "      <td>0.045582</td>\n",
       "      <td>-0.001320</td>\n",
       "      <td>0.116662</td>\n",
       "      <td>0.071353</td>\n",
       "      <td>0.070388</td>\n",
       "      <td>0.090318</td>\n",
       "      <td>0.146455</td>\n",
       "      <td>1.000000</td>\n",
       "    </tr>\n",
       "  </tbody>\n",
       "</table>\n",
       "</div>"
      ],
      "text/plain": [
       "                  postal_code     price  room_number      area  \\\n",
       "postal_code          1.000000 -0.159612    -0.029154 -0.057482   \n",
       "price               -0.159612  1.000000     0.420545  0.592532   \n",
       "room_number         -0.029154  0.420545     1.000000  0.630930   \n",
       "area                -0.057482  0.592532     0.630930  1.000000   \n",
       "kitchen_equipped    -0.130605  0.025067     0.031293  0.005359   \n",
       "furnished            0.019330  0.008907    -0.069802 -0.045688   \n",
       "fireplace           -0.066888  0.137882     0.179203  0.192362   \n",
       "terrace             -0.119945  0.116823     0.026175  0.009394   \n",
       "garden               0.060416  0.057383     0.252634  0.180366   \n",
       "land_surface        -0.012894  0.209073     0.164820  0.241506   \n",
       "facade_count        -0.122755  0.161326     0.245643  0.238160   \n",
       "swimming_pool       -0.071056  0.336337     0.191976  0.286746   \n",
       "\n",
       "                  kitchen_equipped  furnished  fireplace   terrace    garden  \\\n",
       "postal_code              -0.130605   0.019330  -0.066888 -0.119945  0.060416   \n",
       "price                     0.025067   0.008907   0.137882  0.116823  0.057383   \n",
       "room_number               0.031293  -0.069802   0.179203  0.026175  0.252634   \n",
       "area                      0.005359  -0.045688   0.192362  0.009394  0.180366   \n",
       "kitchen_equipped          1.000000  -0.004133   0.050074  0.141759  0.055695   \n",
       "furnished                -0.004133   1.000000  -0.009283 -0.003035 -0.032134   \n",
       "fireplace                 0.050074  -0.009283   1.000000  0.006830  0.129930   \n",
       "terrace                   0.141759  -0.003035   0.006830  1.000000  0.047256   \n",
       "garden                    0.055695  -0.032134   0.129930  0.047256  1.000000   \n",
       "land_surface              0.001687  -0.005863   0.043928  0.005223  0.021587   \n",
       "facade_count              0.141460  -0.024914   0.161903  0.042297  0.137041   \n",
       "swimming_pool             0.045582  -0.001320   0.116662  0.071353  0.070388   \n",
       "\n",
       "                  land_surface  facade_count  swimming_pool  \n",
       "postal_code          -0.012894     -0.122755      -0.071056  \n",
       "price                 0.209073      0.161326       0.336337  \n",
       "room_number           0.164820      0.245643       0.191976  \n",
       "area                  0.241506      0.238160       0.286746  \n",
       "kitchen_equipped      0.001687      0.141460       0.045582  \n",
       "furnished            -0.005863     -0.024914      -0.001320  \n",
       "fireplace             0.043928      0.161903       0.116662  \n",
       "terrace               0.005223      0.042297       0.071353  \n",
       "garden                0.021587      0.137041       0.070388  \n",
       "land_surface          1.000000      0.051050       0.090318  \n",
       "facade_count          0.051050      1.000000       0.146455  \n",
       "swimming_pool         0.090318      0.146455       1.000000  "
      ]
     },
     "execution_count": 63,
     "metadata": {},
     "output_type": "execute_result"
    }
   ],
   "source": [
    "ds.corr()"
   ]
  },
  {
   "cell_type": "code",
   "execution_count": 64,
   "id": "1bfbfa9d",
   "metadata": {},
   "outputs": [
    {
     "data": {
      "image/png": "[encoded data removed]",
      "text/plain": [
       "<Figure size 720x720 with 2 Axes>"
      ]
     },
     "metadata": {
      "needs_background": "light"
     },
     "output_type": "display_data"
    },
    {
     "data": {
      "text/plain": [
       "<Figure size 432x288 with 0 Axes>"
      ]
     },
     "metadata": {},
     "output_type": "display_data"
    }
   ],
   "source": [
    "fig,ax = plt.subplots(figsize=(10, 10)) \n",
    "plot=sns.heatmap(ds.corr(), cmap=sns.color_palette(\"vlag\"), annot=True)\n",
    "plt.show()\n",
    "figure = plot.get_figure()\n",
    "plt.savefig(\"heatmap.png\", bbox_inches=\"tight\")"
   ]
  },
  {
   "cell_type": "markdown",
   "id": "affa970c",
   "metadata": {},
   "source": [
    " We can see that the price is related to the number of rooms and the area. "
   ]
  },
  {
   "cell_type": "markdown",
   "id": "bca93765",
   "metadata": {},
   "source": [
    "#### correlation between type of property and room number"
   ]
  },
  {
   "cell_type": "code",
   "execution_count": 75,
   "id": "025e76f6",
   "metadata": {},
   "outputs": [
    {
     "data": {
      "image/png": "[encoded data removed]",
      "text/plain": [
       "<Figure size 1080x360 with 1 Axes>"
      ]
     },
     "metadata": {
      "needs_background": "light"
     },
     "output_type": "display_data"
    },
    {
     "data": {
      "text/plain": [
       "<Figure size 432x288 with 0 Axes>"
      ]
     },
     "metadata": {},
     "output_type": "display_data"
    }
   ],
   "source": [
    "\n",
    "plot = sns.catplot(x=\"type\", y=\"room_number\", kind=\"box\", height=5, aspect=3, data=ds)\n",
    "plt.show()\n",
    "\n",
    "plt.savefig('type_roomnumber.png', dpi=300)"
   ]
  },
  {
   "cell_type": "code",
   "execution_count": 67,
   "id": "74e9b53d",
   "metadata": {},
   "outputs": [
    {
     "data": {
      "image/png": "[encoded data removed]",
      "text/plain": [
       "<Figure size 1080x360 with 1 Axes>"
      ]
     },
     "metadata": {
      "needs_background": "light"
     },
     "output_type": "display_data"
    },
    {
     "data": {
      "text/plain": [
       "<Figure size 432x288 with 0 Axes>"
      ]
     },
     "metadata": {},
     "output_type": "display_data"
    }
   ],
   "source": [
    "# Remove outliers\n",
    "ds1 = ds[(ds['room_number'] <= 8)]\n",
    "plot = sns.catplot(x=\"type\", y=\"room_number\", kind=\"box\", height=5, aspect=3, data=ds1)\n",
    "plt.show()\n",
    "\n",
    "plt.savefig('type_roomsnumber.svg', dpi=300)"
   ]
  },
  {
   "cell_type": "markdown",
   "id": "8044a205",
   "metadata": {},
   "source": [
    "we can see that generally, an apartment has between 1 and 4 rooms and a house has between 2 and 5 rooms."
   ]
  },
  {
   "cell_type": "markdown",
   "id": "96a3d95f",
   "metadata": {},
   "source": [
    "### type_price  for regions"
   ]
  },
  {
   "cell_type": "code",
   "execution_count": 189,
   "id": "57a45734",
   "metadata": {
    "scrolled": true
   },
   "outputs": [
    {
     "name": "stderr",
     "output_type": "stream",
     "text": [
      "<ipython-input-189-64816a708bf3>:2: MatplotlibDeprecationWarning: Adding an axes using the same arguments as a previous axes currently reuses the earlier instance.  In a future version, a new instance will always be created and returned.  Meanwhile, this warning can be suppressed, and the future behavior ensured, by passing a unique label to each axes instance.\n",
      "  ax = plt.subplot()\n"
     ]
    },
    {
     "data": {
      "image/png": "[encoded data removed]",
      "text/plain": [
       "<Figure size 432x288 with 1 Axes>"
      ]
     },
     "metadata": {
      "needs_background": "light"
     },
     "output_type": "display_data"
    }
   ],
   "source": [
    "sns.barplot(x=\"type\", y=\"price\", data=ds, hue=\"region\", palette=\"Blues\")\n",
    "ax = plt.subplot()\n",
    "ax = ax.set_xticklabels([\"HOUSE\", \"APARTMENT\"])\n",
    "plt.xlabel(\"Type of property\")\n",
    "plt.ylabel(\"Price\")\n",
    "plt.savefig(\"price_type_region.png\", bbox_inches=\"tight\")"
   ]
  },
  {
   "cell_type": "markdown",
   "id": "fd5beae8",
   "metadata": {},
   "source": [
    "#### type_price for province"
   ]
  },
  {
   "cell_type": "code",
   "execution_count": 77,
   "id": "b2a0b463",
   "metadata": {},
   "outputs": [
    {
     "name": "stderr",
     "output_type": "stream",
     "text": [
      "<ipython-input-77-7dfc325cee10>:2: MatplotlibDeprecationWarning: Adding an axes using the same arguments as a previous axes currently reuses the earlier instance.  In a future version, a new instance will always be created and returned.  Meanwhile, this warning can be suppressed, and the future behavior ensured, by passing a unique label to each axes instance.\n",
      "  ax = plt.subplot()\n"
     ]
    },
    {
     "data": {
      "image/png": "[encoded data removed]",
      "text/plain": [
       "<Figure size 432x288 with 1 Axes>"
      ]
     },
     "metadata": {
      "needs_background": "light"
     },
     "output_type": "display_data"
    }
   ],
   "source": [
    "sns.barplot(x=\"type\", y=\"price\", data=ds, hue=\"province\", palette=\"Blues\")\n",
    "ax = plt.subplot()\n",
    "ax = ax.set_xticklabels([\"HOUSE\", \"APPARTMENT\"])\n",
    "plt.xlabel(\"Type of property\")\n",
    "plt.ylabel(\"Price\")\n",
    "plt.savefig(\"price_type_region.png\", bbox_inches=\"tight\")"
   ]
  },
  {
   "cell_type": "markdown",
   "id": "df72734e",
   "metadata": {},
   "source": [
    "#### price for province"
   ]
  },
  {
   "cell_type": "code",
   "execution_count": 23,
   "id": "911e7297",
   "metadata": {},
   "outputs": [
    {
     "data": {
      "text/plain": [
       "Text(0, 0.5, 'Price')"
      ]
     },
     "execution_count": 23,
     "metadata": {},
     "output_type": "execute_result"
    },
    {
     "data": {
      "image/png": "[encoded data removed]",
      "text/plain": [
       "<Figure size 1440x720 with 1 Axes>"
      ]
     },
     "metadata": {
      "needs_background": "light"
     },
     "output_type": "display_data"
    }
   ],
   "source": [
    "plt.figure(figsize=(20, 10))\n",
    "sns.barplot(x=\"province\", y=\"price\", data=ds, palette=\"Blues\")\n",
    "plt.xlabel(\"Province\")\n",
    "plt.ylabel(\"Price\")"
   ]
  },
  {
   "cell_type": "markdown",
   "id": "24ec0834",
   "metadata": {},
   "source": [
    "### price for different communes of Brussels_Capital"
   ]
  },
  {
   "cell_type": "code",
   "execution_count": 80,
   "id": "cfb9f748",
   "metadata": {},
   "outputs": [
    {
     "data": {
      "text/html": [
       "<div>\n",
       "<style scoped>\n",
       "    .dataframe tbody tr th:only-of-type {\n",
       "        vertical-align: middle;\n",
       "    }\n",
       "\n",
       "    .dataframe tbody tr th {\n",
       "        vertical-align: top;\n",
       "    }\n",
       "\n",
       "    .dataframe thead th {\n",
       "        text-align: right;\n",
       "    }\n",
       "</style>\n",
       "<table border=\"1\" class=\"dataframe\">\n",
       "  <thead>\n",
       "    <tr style=\"text-align: right;\">\n",
       "      <th></th>\n",
       "      <th>postal_code</th>\n",
       "      <th>type</th>\n",
       "      <th>subtype</th>\n",
       "      <th>price</th>\n",
       "      <th>room_number</th>\n",
       "      <th>area</th>\n",
       "      <th>kitchen_equipped</th>\n",
       "      <th>furnished</th>\n",
       "      <th>fireplace</th>\n",
       "      <th>terrace</th>\n",
       "      <th>terrace_area</th>\n",
       "      <th>garden</th>\n",
       "      <th>garden_area</th>\n",
       "      <th>land_surface</th>\n",
       "      <th>facade_count</th>\n",
       "      <th>swimming_pool</th>\n",
       "      <th>building_condition</th>\n",
       "      <th>city</th>\n",
       "      <th>province</th>\n",
       "      <th>region</th>\n",
       "    </tr>\n",
       "  </thead>\n",
       "  <tbody>\n",
       "    <tr>\n",
       "      <th>167</th>\n",
       "      <td>1160</td>\n",
       "      <td>HOUSE</td>\n",
       "      <td>HOUSE</td>\n",
       "      <td>550000</td>\n",
       "      <td>3</td>\n",
       "      <td>150</td>\n",
       "      <td>0</td>\n",
       "      <td>0</td>\n",
       "      <td>1</td>\n",
       "      <td>1</td>\n",
       "      <td>10.0</td>\n",
       "      <td>1</td>\n",
       "      <td>100.0</td>\n",
       "      <td>141.0</td>\n",
       "      <td>2</td>\n",
       "      <td>0</td>\n",
       "      <td>TO_RENOVATE</td>\n",
       "      <td>Auderghem</td>\n",
       "      <td>Brussels_Capital</td>\n",
       "      <td>Brussels_Capital</td>\n",
       "    </tr>\n",
       "    <tr>\n",
       "      <th>168</th>\n",
       "      <td>1160</td>\n",
       "      <td>APARTMENT</td>\n",
       "      <td>PENTHOUSE</td>\n",
       "      <td>799000</td>\n",
       "      <td>3</td>\n",
       "      <td>164</td>\n",
       "      <td>1</td>\n",
       "      <td>0</td>\n",
       "      <td>0</td>\n",
       "      <td>1</td>\n",
       "      <td>20.0</td>\n",
       "      <td>0</td>\n",
       "      <td>None</td>\n",
       "      <td>0.0</td>\n",
       "      <td>0</td>\n",
       "      <td>0</td>\n",
       "      <td>AS_NEW</td>\n",
       "      <td>Auderghem</td>\n",
       "      <td>Brussels_Capital</td>\n",
       "      <td>Brussels_Capital</td>\n",
       "    </tr>\n",
       "    <tr>\n",
       "      <th>169</th>\n",
       "      <td>1160</td>\n",
       "      <td>HOUSE</td>\n",
       "      <td>HOUSE</td>\n",
       "      <td>635000</td>\n",
       "      <td>4</td>\n",
       "      <td>155</td>\n",
       "      <td>1</td>\n",
       "      <td>0</td>\n",
       "      <td>0</td>\n",
       "      <td>1</td>\n",
       "      <td>12.0</td>\n",
       "      <td>1</td>\n",
       "      <td>40.0</td>\n",
       "      <td>125.0</td>\n",
       "      <td>2</td>\n",
       "      <td>0</td>\n",
       "      <td>JUST_RENOVATED</td>\n",
       "      <td>Auderghem</td>\n",
       "      <td>Brussels_Capital</td>\n",
       "      <td>Brussels_Capital</td>\n",
       "    </tr>\n",
       "    <tr>\n",
       "      <th>170</th>\n",
       "      <td>1160</td>\n",
       "      <td>APARTMENT</td>\n",
       "      <td>APARTMENT</td>\n",
       "      <td>220000</td>\n",
       "      <td>2</td>\n",
       "      <td>78</td>\n",
       "      <td>1</td>\n",
       "      <td>0</td>\n",
       "      <td>0</td>\n",
       "      <td>1</td>\n",
       "      <td>15.0</td>\n",
       "      <td>0</td>\n",
       "      <td>None</td>\n",
       "      <td>0.0</td>\n",
       "      <td>0</td>\n",
       "      <td>0</td>\n",
       "      <td>TO_RENOVATE</td>\n",
       "      <td>Auderghem</td>\n",
       "      <td>Brussels_Capital</td>\n",
       "      <td>Brussels_Capital</td>\n",
       "    </tr>\n",
       "    <tr>\n",
       "      <th>171</th>\n",
       "      <td>1160</td>\n",
       "      <td>HOUSE</td>\n",
       "      <td>HOUSE</td>\n",
       "      <td>540000</td>\n",
       "      <td>3</td>\n",
       "      <td>161</td>\n",
       "      <td>1</td>\n",
       "      <td>0</td>\n",
       "      <td>0</td>\n",
       "      <td>1</td>\n",
       "      <td>40.0</td>\n",
       "      <td>0</td>\n",
       "      <td>None</td>\n",
       "      <td>0.0</td>\n",
       "      <td>2</td>\n",
       "      <td>0</td>\n",
       "      <td>No_information</td>\n",
       "      <td>Auderghem</td>\n",
       "      <td>Brussels_Capital</td>\n",
       "      <td>Brussels_Capital</td>\n",
       "    </tr>\n",
       "    <tr>\n",
       "      <th>...</th>\n",
       "      <td>...</td>\n",
       "      <td>...</td>\n",
       "      <td>...</td>\n",
       "      <td>...</td>\n",
       "      <td>...</td>\n",
       "      <td>...</td>\n",
       "      <td>...</td>\n",
       "      <td>...</td>\n",
       "      <td>...</td>\n",
       "      <td>...</td>\n",
       "      <td>...</td>\n",
       "      <td>...</td>\n",
       "      <td>...</td>\n",
       "      <td>...</td>\n",
       "      <td>...</td>\n",
       "      <td>...</td>\n",
       "      <td>...</td>\n",
       "      <td>...</td>\n",
       "      <td>...</td>\n",
       "      <td>...</td>\n",
       "    </tr>\n",
       "    <tr>\n",
       "      <th>13387</th>\n",
       "      <td>1130</td>\n",
       "      <td>APARTMENT</td>\n",
       "      <td>FLAT_STUDIO</td>\n",
       "      <td>149000</td>\n",
       "      <td>0</td>\n",
       "      <td>45</td>\n",
       "      <td>1</td>\n",
       "      <td>0</td>\n",
       "      <td>0</td>\n",
       "      <td>0</td>\n",
       "      <td>None</td>\n",
       "      <td>0</td>\n",
       "      <td>None</td>\n",
       "      <td>0.0</td>\n",
       "      <td>3</td>\n",
       "      <td>0</td>\n",
       "      <td>AS_NEW</td>\n",
       "      <td>Haren</td>\n",
       "      <td>Brussels_Capital</td>\n",
       "      <td>Brussels_Capital</td>\n",
       "    </tr>\n",
       "    <tr>\n",
       "      <th>13388</th>\n",
       "      <td>1130</td>\n",
       "      <td>APARTMENT</td>\n",
       "      <td>PENTHOUSE</td>\n",
       "      <td>476000</td>\n",
       "      <td>3</td>\n",
       "      <td>148</td>\n",
       "      <td>1</td>\n",
       "      <td>0</td>\n",
       "      <td>0</td>\n",
       "      <td>1</td>\n",
       "      <td>33.0</td>\n",
       "      <td>0</td>\n",
       "      <td>None</td>\n",
       "      <td>0.0</td>\n",
       "      <td>3</td>\n",
       "      <td>0</td>\n",
       "      <td>AS_NEW</td>\n",
       "      <td>Haren</td>\n",
       "      <td>Brussels_Capital</td>\n",
       "      <td>Brussels_Capital</td>\n",
       "    </tr>\n",
       "    <tr>\n",
       "      <th>13389</th>\n",
       "      <td>1130</td>\n",
       "      <td>HOUSE</td>\n",
       "      <td>TOWN_HOUSE</td>\n",
       "      <td>495000</td>\n",
       "      <td>5</td>\n",
       "      <td>236</td>\n",
       "      <td>1</td>\n",
       "      <td>0</td>\n",
       "      <td>1</td>\n",
       "      <td>1</td>\n",
       "      <td>14.0</td>\n",
       "      <td>1</td>\n",
       "      <td>210.0</td>\n",
       "      <td>344.0</td>\n",
       "      <td>3</td>\n",
       "      <td>0</td>\n",
       "      <td>GOOD</td>\n",
       "      <td>Haren</td>\n",
       "      <td>Brussels_Capital</td>\n",
       "      <td>Brussels_Capital</td>\n",
       "    </tr>\n",
       "    <tr>\n",
       "      <th>13390</th>\n",
       "      <td>1130</td>\n",
       "      <td>APARTMENT</td>\n",
       "      <td>APARTMENT</td>\n",
       "      <td>275000</td>\n",
       "      <td>2</td>\n",
       "      <td>80</td>\n",
       "      <td>1</td>\n",
       "      <td>0</td>\n",
       "      <td>0</td>\n",
       "      <td>1</td>\n",
       "      <td>5.0</td>\n",
       "      <td>0</td>\n",
       "      <td>None</td>\n",
       "      <td>0.0</td>\n",
       "      <td>2</td>\n",
       "      <td>0</td>\n",
       "      <td>AS_NEW</td>\n",
       "      <td>Haren</td>\n",
       "      <td>Brussels_Capital</td>\n",
       "      <td>Brussels_Capital</td>\n",
       "    </tr>\n",
       "    <tr>\n",
       "      <th>13391</th>\n",
       "      <td>1130</td>\n",
       "      <td>APARTMENT</td>\n",
       "      <td>PENTHOUSE</td>\n",
       "      <td>476000</td>\n",
       "      <td>3</td>\n",
       "      <td>156</td>\n",
       "      <td>1</td>\n",
       "      <td>0</td>\n",
       "      <td>0</td>\n",
       "      <td>1</td>\n",
       "      <td>43.0</td>\n",
       "      <td>0</td>\n",
       "      <td>None</td>\n",
       "      <td>0.0</td>\n",
       "      <td>4</td>\n",
       "      <td>0</td>\n",
       "      <td>No_information</td>\n",
       "      <td>Haren</td>\n",
       "      <td>Brussels_Capital</td>\n",
       "      <td>Brussels_Capital</td>\n",
       "    </tr>\n",
       "  </tbody>\n",
       "</table>\n",
       "<p>2354 rows × 20 columns</p>\n",
       "</div>"
      ],
      "text/plain": [
       "       postal_code       type      subtype   price  room_number  area  \\\n",
       "167           1160      HOUSE        HOUSE  550000            3   150   \n",
       "168           1160  APARTMENT    PENTHOUSE  799000            3   164   \n",
       "169           1160      HOUSE        HOUSE  635000            4   155   \n",
       "170           1160  APARTMENT    APARTMENT  220000            2    78   \n",
       "171           1160      HOUSE        HOUSE  540000            3   161   \n",
       "...            ...        ...          ...     ...          ...   ...   \n",
       "13387         1130  APARTMENT  FLAT_STUDIO  149000            0    45   \n",
       "13388         1130  APARTMENT    PENTHOUSE  476000            3   148   \n",
       "13389         1130      HOUSE   TOWN_HOUSE  495000            5   236   \n",
       "13390         1130  APARTMENT    APARTMENT  275000            2    80   \n",
       "13391         1130  APARTMENT    PENTHOUSE  476000            3   156   \n",
       "\n",
       "       kitchen_equipped  furnished  fireplace  terrace terrace_area  garden  \\\n",
       "167                   0          0          1        1         10.0       1   \n",
       "168                   1          0          0        1         20.0       0   \n",
       "169                   1          0          0        1         12.0       1   \n",
       "170                   1          0          0        1         15.0       0   \n",
       "171                   1          0          0        1         40.0       0   \n",
       "...                 ...        ...        ...      ...          ...     ...   \n",
       "13387                 1          0          0        0         None       0   \n",
       "13388                 1          0          0        1         33.0       0   \n",
       "13389                 1          0          1        1         14.0       1   \n",
       "13390                 1          0          0        1          5.0       0   \n",
       "13391                 1          0          0        1         43.0       0   \n",
       "\n",
       "      garden_area  land_surface  facade_count  swimming_pool  \\\n",
       "167         100.0         141.0             2              0   \n",
       "168          None           0.0             0              0   \n",
       "169          40.0         125.0             2              0   \n",
       "170          None           0.0             0              0   \n",
       "171          None           0.0             2              0   \n",
       "...           ...           ...           ...            ...   \n",
       "13387        None           0.0             3              0   \n",
       "13388        None           0.0             3              0   \n",
       "13389       210.0         344.0             3              0   \n",
       "13390        None           0.0             2              0   \n",
       "13391        None           0.0             4              0   \n",
       "\n",
       "      building_condition       city          province            region  \n",
       "167          TO_RENOVATE  Auderghem  Brussels_Capital  Brussels_Capital  \n",
       "168               AS_NEW  Auderghem  Brussels_Capital  Brussels_Capital  \n",
       "169       JUST_RENOVATED  Auderghem  Brussels_Capital  Brussels_Capital  \n",
       "170          TO_RENOVATE  Auderghem  Brussels_Capital  Brussels_Capital  \n",
       "171       No_information  Auderghem  Brussels_Capital  Brussels_Capital  \n",
       "...                  ...        ...               ...               ...  \n",
       "13387             AS_NEW      Haren  Brussels_Capital  Brussels_Capital  \n",
       "13388             AS_NEW      Haren  Brussels_Capital  Brussels_Capital  \n",
       "13389               GOOD      Haren  Brussels_Capital  Brussels_Capital  \n",
       "13390             AS_NEW      Haren  Brussels_Capital  Brussels_Capital  \n",
       "13391     No_information      Haren  Brussels_Capital  Brussels_Capital  \n",
       "\n",
       "[2354 rows x 20 columns]"
      ]
     },
     "execution_count": 80,
     "metadata": {},
     "output_type": "execute_result"
    }
   ],
   "source": [
    "brussels = ds[ds[\"region\"] == \"Brussels_Capital\"]\n",
    "brussels"
   ]
  },
  {
   "cell_type": "code",
   "execution_count": 81,
   "id": "a636afb5",
   "metadata": {
    "scrolled": false
   },
   "outputs": [
    {
     "data": {
      "image/png": "[encoded data removed]",
      "text/plain": [
       "<Figure size 864x864 with 1 Axes>"
      ]
     },
     "metadata": {
      "needs_background": "light"
     },
     "output_type": "display_data"
    }
   ],
   "source": [
    "plt.figure(figsize=(12, 12))\n",
    "chart = sns.barplot(x=\"city\", y=\"price\", data=brussels, palette=\"Blues\")\n",
    "chart.set_xticklabels(chart.get_xticklabels(), rotation=30, horizontalalignment=\"right\")\n",
    "plt.xlabel(\"Brussels_Capital\")\n",
    "plt.ylabel(\"Price\")\n",
    "plt.savefig(\"brussels.png\", bbox_inches=\"tight\")"
   ]
  },
  {
   "cell_type": "markdown",
   "id": "5513f47b",
   "metadata": {},
   "source": [
    "### price for different provinces of Flanders"
   ]
  },
  {
   "cell_type": "code",
   "execution_count": 86,
   "id": "2ddd9c7a",
   "metadata": {},
   "outputs": [
    {
     "data": {
      "text/html": [
       "<div>\n",
       "<style scoped>\n",
       "    .dataframe tbody tr th:only-of-type {\n",
       "        vertical-align: middle;\n",
       "    }\n",
       "\n",
       "    .dataframe tbody tr th {\n",
       "        vertical-align: top;\n",
       "    }\n",
       "\n",
       "    .dataframe thead th {\n",
       "        text-align: right;\n",
       "    }\n",
       "</style>\n",
       "<table border=\"1\" class=\"dataframe\">\n",
       "  <thead>\n",
       "    <tr style=\"text-align: right;\">\n",
       "      <th></th>\n",
       "      <th>postal_code</th>\n",
       "      <th>type</th>\n",
       "      <th>subtype</th>\n",
       "      <th>price</th>\n",
       "      <th>room_number</th>\n",
       "      <th>area</th>\n",
       "      <th>kitchen_equipped</th>\n",
       "      <th>furnished</th>\n",
       "      <th>fireplace</th>\n",
       "      <th>terrace</th>\n",
       "      <th>terrace_area</th>\n",
       "      <th>garden</th>\n",
       "      <th>garden_area</th>\n",
       "      <th>land_surface</th>\n",
       "      <th>facade_count</th>\n",
       "      <th>swimming_pool</th>\n",
       "      <th>building_condition</th>\n",
       "      <th>city</th>\n",
       "      <th>province</th>\n",
       "      <th>region</th>\n",
       "    </tr>\n",
       "  </thead>\n",
       "  <tbody>\n",
       "    <tr>\n",
       "      <th>45</th>\n",
       "      <td>9890</td>\n",
       "      <td>HOUSE</td>\n",
       "      <td>MANSION</td>\n",
       "      <td>435000</td>\n",
       "      <td>5</td>\n",
       "      <td>452</td>\n",
       "      <td>0</td>\n",
       "      <td>0</td>\n",
       "      <td>0</td>\n",
       "      <td>0</td>\n",
       "      <td>None</td>\n",
       "      <td>1</td>\n",
       "      <td>None</td>\n",
       "      <td>460.0</td>\n",
       "      <td>4</td>\n",
       "      <td>0</td>\n",
       "      <td>TO_RENOVATE</td>\n",
       "      <td>Vurste</td>\n",
       "      <td>East_Flanders</td>\n",
       "      <td>Flanders</td>\n",
       "    </tr>\n",
       "    <tr>\n",
       "      <th>46</th>\n",
       "      <td>9890</td>\n",
       "      <td>HOUSE</td>\n",
       "      <td>HOUSE</td>\n",
       "      <td>285000</td>\n",
       "      <td>3</td>\n",
       "      <td>125</td>\n",
       "      <td>0</td>\n",
       "      <td>0</td>\n",
       "      <td>0</td>\n",
       "      <td>0</td>\n",
       "      <td>None</td>\n",
       "      <td>1</td>\n",
       "      <td>None</td>\n",
       "      <td>495.0</td>\n",
       "      <td>0</td>\n",
       "      <td>0</td>\n",
       "      <td>GOOD</td>\n",
       "      <td>Vurste</td>\n",
       "      <td>East_Flanders</td>\n",
       "      <td>Flanders</td>\n",
       "    </tr>\n",
       "    <tr>\n",
       "      <th>47</th>\n",
       "      <td>9890</td>\n",
       "      <td>HOUSE</td>\n",
       "      <td>HOUSE</td>\n",
       "      <td>310000</td>\n",
       "      <td>5</td>\n",
       "      <td>298</td>\n",
       "      <td>1</td>\n",
       "      <td>0</td>\n",
       "      <td>0</td>\n",
       "      <td>1</td>\n",
       "      <td>None</td>\n",
       "      <td>1</td>\n",
       "      <td>None</td>\n",
       "      <td>525.0</td>\n",
       "      <td>2</td>\n",
       "      <td>0</td>\n",
       "      <td>TO_RENOVATE</td>\n",
       "      <td>Vurste</td>\n",
       "      <td>East_Flanders</td>\n",
       "      <td>Flanders</td>\n",
       "    </tr>\n",
       "    <tr>\n",
       "      <th>48</th>\n",
       "      <td>9890</td>\n",
       "      <td>HOUSE</td>\n",
       "      <td>HOUSE</td>\n",
       "      <td>285000</td>\n",
       "      <td>2</td>\n",
       "      <td>115</td>\n",
       "      <td>0</td>\n",
       "      <td>0</td>\n",
       "      <td>0</td>\n",
       "      <td>0</td>\n",
       "      <td>None</td>\n",
       "      <td>0</td>\n",
       "      <td>None</td>\n",
       "      <td>211.0</td>\n",
       "      <td>3</td>\n",
       "      <td>0</td>\n",
       "      <td>GOOD</td>\n",
       "      <td>Vurste</td>\n",
       "      <td>East_Flanders</td>\n",
       "      <td>Flanders</td>\n",
       "    </tr>\n",
       "    <tr>\n",
       "      <th>49</th>\n",
       "      <td>9890</td>\n",
       "      <td>HOUSE</td>\n",
       "      <td>HOUSE</td>\n",
       "      <td>825000</td>\n",
       "      <td>0</td>\n",
       "      <td>650</td>\n",
       "      <td>0</td>\n",
       "      <td>1</td>\n",
       "      <td>1</td>\n",
       "      <td>0</td>\n",
       "      <td>None</td>\n",
       "      <td>1</td>\n",
       "      <td>150.0</td>\n",
       "      <td>724.0</td>\n",
       "      <td>0</td>\n",
       "      <td>0</td>\n",
       "      <td>No_information</td>\n",
       "      <td>Vurste</td>\n",
       "      <td>East_Flanders</td>\n",
       "      <td>Flanders</td>\n",
       "    </tr>\n",
       "    <tr>\n",
       "      <th>...</th>\n",
       "      <td>...</td>\n",
       "      <td>...</td>\n",
       "      <td>...</td>\n",
       "      <td>...</td>\n",
       "      <td>...</td>\n",
       "      <td>...</td>\n",
       "      <td>...</td>\n",
       "      <td>...</td>\n",
       "      <td>...</td>\n",
       "      <td>...</td>\n",
       "      <td>...</td>\n",
       "      <td>...</td>\n",
       "      <td>...</td>\n",
       "      <td>...</td>\n",
       "      <td>...</td>\n",
       "      <td>...</td>\n",
       "      <td>...</td>\n",
       "      <td>...</td>\n",
       "      <td>...</td>\n",
       "      <td>...</td>\n",
       "    </tr>\n",
       "    <tr>\n",
       "      <th>15638</th>\n",
       "      <td>3472</td>\n",
       "      <td>HOUSE</td>\n",
       "      <td>HOUSE</td>\n",
       "      <td>330000</td>\n",
       "      <td>3</td>\n",
       "      <td>182</td>\n",
       "      <td>0</td>\n",
       "      <td>0</td>\n",
       "      <td>0</td>\n",
       "      <td>0</td>\n",
       "      <td>None</td>\n",
       "      <td>0</td>\n",
       "      <td>None</td>\n",
       "      <td>2900.0</td>\n",
       "      <td>4</td>\n",
       "      <td>0</td>\n",
       "      <td>TO_RENOVATE</td>\n",
       "      <td>Kersbeek-Miskom</td>\n",
       "      <td>Flemish_Brabant</td>\n",
       "      <td>Flanders</td>\n",
       "    </tr>\n",
       "    <tr>\n",
       "      <th>15641</th>\n",
       "      <td>8582</td>\n",
       "      <td>APARTMENT</td>\n",
       "      <td>APARTMENT</td>\n",
       "      <td>245000</td>\n",
       "      <td>2</td>\n",
       "      <td>146</td>\n",
       "      <td>1</td>\n",
       "      <td>0</td>\n",
       "      <td>1</td>\n",
       "      <td>1</td>\n",
       "      <td>30.0</td>\n",
       "      <td>0</td>\n",
       "      <td>None</td>\n",
       "      <td>0.0</td>\n",
       "      <td>4</td>\n",
       "      <td>0</td>\n",
       "      <td>GOOD</td>\n",
       "      <td>Outrijve</td>\n",
       "      <td>West_Flanders</td>\n",
       "      <td>Flanders</td>\n",
       "    </tr>\n",
       "    <tr>\n",
       "      <th>15643</th>\n",
       "      <td>3381</td>\n",
       "      <td>HOUSE</td>\n",
       "      <td>HOUSE</td>\n",
       "      <td>215000</td>\n",
       "      <td>2</td>\n",
       "      <td>102</td>\n",
       "      <td>1</td>\n",
       "      <td>0</td>\n",
       "      <td>0</td>\n",
       "      <td>1</td>\n",
       "      <td>88.0</td>\n",
       "      <td>1</td>\n",
       "      <td>333.0</td>\n",
       "      <td>10000.0</td>\n",
       "      <td>4</td>\n",
       "      <td>0</td>\n",
       "      <td>TO_RENOVATE</td>\n",
       "      <td>Kapellen</td>\n",
       "      <td>Flemish_Brabant</td>\n",
       "      <td>Flanders</td>\n",
       "    </tr>\n",
       "    <tr>\n",
       "      <th>15647</th>\n",
       "      <td>9881</td>\n",
       "      <td>HOUSE</td>\n",
       "      <td>HOUSE</td>\n",
       "      <td>499000</td>\n",
       "      <td>6</td>\n",
       "      <td>274</td>\n",
       "      <td>1</td>\n",
       "      <td>0</td>\n",
       "      <td>0</td>\n",
       "      <td>0</td>\n",
       "      <td>None</td>\n",
       "      <td>1</td>\n",
       "      <td>None</td>\n",
       "      <td>1036.0</td>\n",
       "      <td>3</td>\n",
       "      <td>0</td>\n",
       "      <td>TO_RENOVATE</td>\n",
       "      <td>Bellem</td>\n",
       "      <td>East_Flanders</td>\n",
       "      <td>Flanders</td>\n",
       "    </tr>\n",
       "    <tr>\n",
       "      <th>15650</th>\n",
       "      <td>1981</td>\n",
       "      <td>HOUSE</td>\n",
       "      <td>VILLA</td>\n",
       "      <td>1085000</td>\n",
       "      <td>4</td>\n",
       "      <td>1307</td>\n",
       "      <td>1</td>\n",
       "      <td>0</td>\n",
       "      <td>1</td>\n",
       "      <td>1</td>\n",
       "      <td>100.0</td>\n",
       "      <td>1</td>\n",
       "      <td>1.0</td>\n",
       "      <td>1307.0</td>\n",
       "      <td>4</td>\n",
       "      <td>1</td>\n",
       "      <td>AS_NEW</td>\n",
       "      <td>Hofstade</td>\n",
       "      <td>Flemish_Brabant</td>\n",
       "      <td>Flanders</td>\n",
       "    </tr>\n",
       "  </tbody>\n",
       "</table>\n",
       "<p>9255 rows × 20 columns</p>\n",
       "</div>"
      ],
      "text/plain": [
       "       postal_code       type    subtype    price  room_number  area  \\\n",
       "45            9890      HOUSE    MANSION   435000            5   452   \n",
       "46            9890      HOUSE      HOUSE   285000            3   125   \n",
       "47            9890      HOUSE      HOUSE   310000            5   298   \n",
       "48            9890      HOUSE      HOUSE   285000            2   115   \n",
       "49            9890      HOUSE      HOUSE   825000            0   650   \n",
       "...            ...        ...        ...      ...          ...   ...   \n",
       "15638         3472      HOUSE      HOUSE   330000            3   182   \n",
       "15641         8582  APARTMENT  APARTMENT   245000            2   146   \n",
       "15643         3381      HOUSE      HOUSE   215000            2   102   \n",
       "15647         9881      HOUSE      HOUSE   499000            6   274   \n",
       "15650         1981      HOUSE      VILLA  1085000            4  1307   \n",
       "\n",
       "       kitchen_equipped  furnished  fireplace  terrace terrace_area  garden  \\\n",
       "45                    0          0          0        0         None       1   \n",
       "46                    0          0          0        0         None       1   \n",
       "47                    1          0          0        1         None       1   \n",
       "48                    0          0          0        0         None       0   \n",
       "49                    0          1          1        0         None       1   \n",
       "...                 ...        ...        ...      ...          ...     ...   \n",
       "15638                 0          0          0        0         None       0   \n",
       "15641                 1          0          1        1         30.0       0   \n",
       "15643                 1          0          0        1         88.0       1   \n",
       "15647                 1          0          0        0         None       1   \n",
       "15650                 1          0          1        1        100.0       1   \n",
       "\n",
       "      garden_area  land_surface  facade_count  swimming_pool  \\\n",
       "45           None         460.0             4              0   \n",
       "46           None         495.0             0              0   \n",
       "47           None         525.0             2              0   \n",
       "48           None         211.0             3              0   \n",
       "49          150.0         724.0             0              0   \n",
       "...           ...           ...           ...            ...   \n",
       "15638        None        2900.0             4              0   \n",
       "15641        None           0.0             4              0   \n",
       "15643       333.0       10000.0             4              0   \n",
       "15647        None        1036.0             3              0   \n",
       "15650         1.0        1307.0             4              1   \n",
       "\n",
       "      building_condition             city         province    region  \n",
       "45           TO_RENOVATE           Vurste    East_Flanders  Flanders  \n",
       "46                  GOOD           Vurste    East_Flanders  Flanders  \n",
       "47           TO_RENOVATE           Vurste    East_Flanders  Flanders  \n",
       "48                  GOOD           Vurste    East_Flanders  Flanders  \n",
       "49        No_information           Vurste    East_Flanders  Flanders  \n",
       "...                  ...              ...              ...       ...  \n",
       "15638        TO_RENOVATE  Kersbeek-Miskom  Flemish_Brabant  Flanders  \n",
       "15641               GOOD         Outrijve    West_Flanders  Flanders  \n",
       "15643        TO_RENOVATE         Kapellen  Flemish_Brabant  Flanders  \n",
       "15647        TO_RENOVATE           Bellem    East_Flanders  Flanders  \n",
       "15650             AS_NEW         Hofstade  Flemish_Brabant  Flanders  \n",
       "\n",
       "[9255 rows x 20 columns]"
      ]
     },
     "execution_count": 86,
     "metadata": {},
     "output_type": "execute_result"
    }
   ],
   "source": [
    "flanders = ds[ds[\"region\"] == \"Flanders\"]\n",
    "flanders\n"
   ]
  },
  {
   "cell_type": "code",
   "execution_count": 187,
   "id": "7866fcb4",
   "metadata": {},
   "outputs": [
    {
     "data": {
      "image/png": "[encoded data removed]",
      "text/plain": [
       "<Figure size 864x864 with 1 Axes>"
      ]
     },
     "metadata": {
      "needs_background": "light"
     },
     "output_type": "display_data"
    }
   ],
   "source": [
    "plt.figure(figsize=(12, 12))\n",
    "chart = sns.barplot(x=\"province\", y=\"price\", data=flanders, palette=\"Blues\")\n",
    "chart.set_xticklabels(chart.get_xticklabels(), rotation=30, horizontalalignment=\"right\")\n",
    "plt.xlabel(\"provinces of Flanders\")\n",
    "plt.ylabel(\"Price\")\n",
    "plt.savefig(\"flamande.png\", bbox_inches=\"tight\")"
   ]
  },
  {
   "cell_type": "markdown",
   "id": "1acad4c0",
   "metadata": {},
   "source": [
    "### price for different provinces of Wallonia"
   ]
  },
  {
   "cell_type": "code",
   "execution_count": 91,
   "id": "d1766ee8",
   "metadata": {},
   "outputs": [
    {
     "data": {
      "text/html": [
       "<div>\n",
       "<style scoped>\n",
       "    .dataframe tbody tr th:only-of-type {\n",
       "        vertical-align: middle;\n",
       "    }\n",
       "\n",
       "    .dataframe tbody tr th {\n",
       "        vertical-align: top;\n",
       "    }\n",
       "\n",
       "    .dataframe thead th {\n",
       "        text-align: right;\n",
       "    }\n",
       "</style>\n",
       "<table border=\"1\" class=\"dataframe\">\n",
       "  <thead>\n",
       "    <tr style=\"text-align: right;\">\n",
       "      <th></th>\n",
       "      <th>postal_code</th>\n",
       "      <th>type</th>\n",
       "      <th>subtype</th>\n",
       "      <th>price</th>\n",
       "      <th>room_number</th>\n",
       "      <th>area</th>\n",
       "      <th>kitchen_equipped</th>\n",
       "      <th>furnished</th>\n",
       "      <th>fireplace</th>\n",
       "      <th>terrace</th>\n",
       "      <th>terrace_area</th>\n",
       "      <th>garden</th>\n",
       "      <th>garden_area</th>\n",
       "      <th>land_surface</th>\n",
       "      <th>facade_count</th>\n",
       "      <th>swimming_pool</th>\n",
       "      <th>building_condition</th>\n",
       "      <th>city</th>\n",
       "      <th>province</th>\n",
       "      <th>region</th>\n",
       "    </tr>\n",
       "  </thead>\n",
       "  <tbody>\n",
       "    <tr>\n",
       "      <th>0</th>\n",
       "      <td>6800</td>\n",
       "      <td>HOUSE</td>\n",
       "      <td>HOUSE</td>\n",
       "      <td>295000</td>\n",
       "      <td>5</td>\n",
       "      <td>460</td>\n",
       "      <td>1</td>\n",
       "      <td>0</td>\n",
       "      <td>0</td>\n",
       "      <td>1</td>\n",
       "      <td>10.0</td>\n",
       "      <td>0</td>\n",
       "      <td>None</td>\n",
       "      <td>321.0</td>\n",
       "      <td>2</td>\n",
       "      <td>0</td>\n",
       "      <td>TO_BE_DONE_UP</td>\n",
       "      <td>Remagne</td>\n",
       "      <td>Luxembourg</td>\n",
       "      <td>Wallonia</td>\n",
       "    </tr>\n",
       "    <tr>\n",
       "      <th>1</th>\n",
       "      <td>6800</td>\n",
       "      <td>HOUSE</td>\n",
       "      <td>HOUSE</td>\n",
       "      <td>175000</td>\n",
       "      <td>3</td>\n",
       "      <td>172</td>\n",
       "      <td>0</td>\n",
       "      <td>0</td>\n",
       "      <td>0</td>\n",
       "      <td>1</td>\n",
       "      <td>None</td>\n",
       "      <td>1</td>\n",
       "      <td>1000.0</td>\n",
       "      <td>1254.0</td>\n",
       "      <td>4</td>\n",
       "      <td>0</td>\n",
       "      <td>TO_RENOVATE</td>\n",
       "      <td>Remagne</td>\n",
       "      <td>Luxembourg</td>\n",
       "      <td>Wallonia</td>\n",
       "    </tr>\n",
       "    <tr>\n",
       "      <th>2</th>\n",
       "      <td>6800</td>\n",
       "      <td>HOUSE</td>\n",
       "      <td>HOUSE</td>\n",
       "      <td>539000</td>\n",
       "      <td>5</td>\n",
       "      <td>596</td>\n",
       "      <td>1</td>\n",
       "      <td>0</td>\n",
       "      <td>1</td>\n",
       "      <td>1</td>\n",
       "      <td>38.0</td>\n",
       "      <td>1</td>\n",
       "      <td>1300.0</td>\n",
       "      <td>1500.0</td>\n",
       "      <td>4</td>\n",
       "      <td>0</td>\n",
       "      <td>AS_NEW</td>\n",
       "      <td>Remagne</td>\n",
       "      <td>Luxembourg</td>\n",
       "      <td>Wallonia</td>\n",
       "    </tr>\n",
       "    <tr>\n",
       "      <th>3</th>\n",
       "      <td>6800</td>\n",
       "      <td>APARTMENT</td>\n",
       "      <td>APARTMENT</td>\n",
       "      <td>154000</td>\n",
       "      <td>2</td>\n",
       "      <td>62</td>\n",
       "      <td>0</td>\n",
       "      <td>0</td>\n",
       "      <td>0</td>\n",
       "      <td>1</td>\n",
       "      <td>6.0</td>\n",
       "      <td>0</td>\n",
       "      <td>None</td>\n",
       "      <td>0.0</td>\n",
       "      <td>4</td>\n",
       "      <td>0</td>\n",
       "      <td>No_information</td>\n",
       "      <td>Remagne</td>\n",
       "      <td>Luxembourg</td>\n",
       "      <td>Wallonia</td>\n",
       "    </tr>\n",
       "    <tr>\n",
       "      <th>4</th>\n",
       "      <td>6800</td>\n",
       "      <td>APARTMENT</td>\n",
       "      <td>APARTMENT</td>\n",
       "      <td>179000</td>\n",
       "      <td>2</td>\n",
       "      <td>79</td>\n",
       "      <td>0</td>\n",
       "      <td>0</td>\n",
       "      <td>0</td>\n",
       "      <td>1</td>\n",
       "      <td>6.0</td>\n",
       "      <td>0</td>\n",
       "      <td>None</td>\n",
       "      <td>0.0</td>\n",
       "      <td>4</td>\n",
       "      <td>0</td>\n",
       "      <td>No_information</td>\n",
       "      <td>Remagne</td>\n",
       "      <td>Luxembourg</td>\n",
       "      <td>Wallonia</td>\n",
       "    </tr>\n",
       "    <tr>\n",
       "      <th>...</th>\n",
       "      <td>...</td>\n",
       "      <td>...</td>\n",
       "      <td>...</td>\n",
       "      <td>...</td>\n",
       "      <td>...</td>\n",
       "      <td>...</td>\n",
       "      <td>...</td>\n",
       "      <td>...</td>\n",
       "      <td>...</td>\n",
       "      <td>...</td>\n",
       "      <td>...</td>\n",
       "      <td>...</td>\n",
       "      <td>...</td>\n",
       "      <td>...</td>\n",
       "      <td>...</td>\n",
       "      <td>...</td>\n",
       "      <td>...</td>\n",
       "      <td>...</td>\n",
       "      <td>...</td>\n",
       "      <td>...</td>\n",
       "    </tr>\n",
       "    <tr>\n",
       "      <th>15644</th>\n",
       "      <td>7812</td>\n",
       "      <td>HOUSE</td>\n",
       "      <td>HOUSE</td>\n",
       "      <td>220000</td>\n",
       "      <td>2</td>\n",
       "      <td>142</td>\n",
       "      <td>1</td>\n",
       "      <td>0</td>\n",
       "      <td>0</td>\n",
       "      <td>0</td>\n",
       "      <td>None</td>\n",
       "      <td>0</td>\n",
       "      <td>None</td>\n",
       "      <td>587.0</td>\n",
       "      <td>0</td>\n",
       "      <td>0</td>\n",
       "      <td>GOOD</td>\n",
       "      <td>Mainvault</td>\n",
       "      <td>Hainaut</td>\n",
       "      <td>Wallonia</td>\n",
       "    </tr>\n",
       "    <tr>\n",
       "      <th>15645</th>\n",
       "      <td>4557</td>\n",
       "      <td>HOUSE</td>\n",
       "      <td>HOUSE</td>\n",
       "      <td>259000</td>\n",
       "      <td>3</td>\n",
       "      <td>136</td>\n",
       "      <td>1</td>\n",
       "      <td>0</td>\n",
       "      <td>0</td>\n",
       "      <td>1</td>\n",
       "      <td>None</td>\n",
       "      <td>1</td>\n",
       "      <td>160.0</td>\n",
       "      <td>345.0</td>\n",
       "      <td>3</td>\n",
       "      <td>0</td>\n",
       "      <td>No_information</td>\n",
       "      <td>Seny</td>\n",
       "      <td>Liege</td>\n",
       "      <td>Wallonia</td>\n",
       "    </tr>\n",
       "    <tr>\n",
       "      <th>15646</th>\n",
       "      <td>4557</td>\n",
       "      <td>HOUSE</td>\n",
       "      <td>COUNTRY_COTTAGE</td>\n",
       "      <td>139000</td>\n",
       "      <td>2</td>\n",
       "      <td>81</td>\n",
       "      <td>1</td>\n",
       "      <td>0</td>\n",
       "      <td>0</td>\n",
       "      <td>0</td>\n",
       "      <td>None</td>\n",
       "      <td>1</td>\n",
       "      <td>350.0</td>\n",
       "      <td>443.0</td>\n",
       "      <td>3</td>\n",
       "      <td>0</td>\n",
       "      <td>TO_RENOVATE</td>\n",
       "      <td>Seny</td>\n",
       "      <td>Liege</td>\n",
       "      <td>Wallonia</td>\n",
       "    </tr>\n",
       "    <tr>\n",
       "      <th>15648</th>\n",
       "      <td>6851</td>\n",
       "      <td>HOUSE</td>\n",
       "      <td>HOUSE</td>\n",
       "      <td>115000</td>\n",
       "      <td>4</td>\n",
       "      <td>160</td>\n",
       "      <td>0</td>\n",
       "      <td>0</td>\n",
       "      <td>0</td>\n",
       "      <td>1</td>\n",
       "      <td>None</td>\n",
       "      <td>1</td>\n",
       "      <td>None</td>\n",
       "      <td>1555.0</td>\n",
       "      <td>4</td>\n",
       "      <td>0</td>\n",
       "      <td>TO_RENOVATE</td>\n",
       "      <td>Nollevaux</td>\n",
       "      <td>Luxembourg</td>\n",
       "      <td>Wallonia</td>\n",
       "    </tr>\n",
       "    <tr>\n",
       "      <th>15649</th>\n",
       "      <td>4342</td>\n",
       "      <td>HOUSE</td>\n",
       "      <td>HOUSE</td>\n",
       "      <td>210000</td>\n",
       "      <td>3</td>\n",
       "      <td>110</td>\n",
       "      <td>1</td>\n",
       "      <td>0</td>\n",
       "      <td>0</td>\n",
       "      <td>1</td>\n",
       "      <td>15.0</td>\n",
       "      <td>1</td>\n",
       "      <td>1200.0</td>\n",
       "      <td>1400.0</td>\n",
       "      <td>3</td>\n",
       "      <td>0</td>\n",
       "      <td>TO_BE_DONE_UP</td>\n",
       "      <td>Hognoul</td>\n",
       "      <td>Liege</td>\n",
       "      <td>Wallonia</td>\n",
       "    </tr>\n",
       "  </tbody>\n",
       "</table>\n",
       "<p>4042 rows × 20 columns</p>\n",
       "</div>"
      ],
      "text/plain": [
       "       postal_code       type          subtype   price  room_number  area  \\\n",
       "0             6800      HOUSE            HOUSE  295000            5   460   \n",
       "1             6800      HOUSE            HOUSE  175000            3   172   \n",
       "2             6800      HOUSE            HOUSE  539000            5   596   \n",
       "3             6800  APARTMENT        APARTMENT  154000            2    62   \n",
       "4             6800  APARTMENT        APARTMENT  179000            2    79   \n",
       "...            ...        ...              ...     ...          ...   ...   \n",
       "15644         7812      HOUSE            HOUSE  220000            2   142   \n",
       "15645         4557      HOUSE            HOUSE  259000            3   136   \n",
       "15646         4557      HOUSE  COUNTRY_COTTAGE  139000            2    81   \n",
       "15648         6851      HOUSE            HOUSE  115000            4   160   \n",
       "15649         4342      HOUSE            HOUSE  210000            3   110   \n",
       "\n",
       "       kitchen_equipped  furnished  fireplace  terrace terrace_area  garden  \\\n",
       "0                     1          0          0        1         10.0       0   \n",
       "1                     0          0          0        1         None       1   \n",
       "2                     1          0          1        1         38.0       1   \n",
       "3                     0          0          0        1          6.0       0   \n",
       "4                     0          0          0        1          6.0       0   \n",
       "...                 ...        ...        ...      ...          ...     ...   \n",
       "15644                 1          0          0        0         None       0   \n",
       "15645                 1          0          0        1         None       1   \n",
       "15646                 1          0          0        0         None       1   \n",
       "15648                 0          0          0        1         None       1   \n",
       "15649                 1          0          0        1         15.0       1   \n",
       "\n",
       "      garden_area  land_surface  facade_count  swimming_pool  \\\n",
       "0            None         321.0             2              0   \n",
       "1          1000.0        1254.0             4              0   \n",
       "2          1300.0        1500.0             4              0   \n",
       "3            None           0.0             4              0   \n",
       "4            None           0.0             4              0   \n",
       "...           ...           ...           ...            ...   \n",
       "15644        None         587.0             0              0   \n",
       "15645       160.0         345.0             3              0   \n",
       "15646       350.0         443.0             3              0   \n",
       "15648        None        1555.0             4              0   \n",
       "15649      1200.0        1400.0             3              0   \n",
       "\n",
       "      building_condition       city    province    region  \n",
       "0          TO_BE_DONE_UP    Remagne  Luxembourg  Wallonia  \n",
       "1            TO_RENOVATE    Remagne  Luxembourg  Wallonia  \n",
       "2                 AS_NEW    Remagne  Luxembourg  Wallonia  \n",
       "3         No_information    Remagne  Luxembourg  Wallonia  \n",
       "4         No_information    Remagne  Luxembourg  Wallonia  \n",
       "...                  ...        ...         ...       ...  \n",
       "15644               GOOD  Mainvault     Hainaut  Wallonia  \n",
       "15645     No_information       Seny       Liege  Wallonia  \n",
       "15646        TO_RENOVATE       Seny       Liege  Wallonia  \n",
       "15648        TO_RENOVATE  Nollevaux  Luxembourg  Wallonia  \n",
       "15649      TO_BE_DONE_UP    Hognoul       Liege  Wallonia  \n",
       "\n",
       "[4042 rows x 20 columns]"
      ]
     },
     "execution_count": 91,
     "metadata": {},
     "output_type": "execute_result"
    }
   ],
   "source": [
    "wallonia = ds[ds[\"region\"] == \"Wallonia\"]\n",
    "wallonia"
   ]
  },
  {
   "cell_type": "code",
   "execution_count": 92,
   "id": "8827a99d",
   "metadata": {},
   "outputs": [
    {
     "data": {
      "image/png": "[encoded data removed]",
      "text/plain": [
       "<Figure size 864x864 with 1 Axes>"
      ]
     },
     "metadata": {
      "needs_background": "light"
     },
     "output_type": "display_data"
    }
   ],
   "source": [
    "plt.figure(figsize=(12, 12))\n",
    "chart = sns.barplot(x=\"province\", y=\"price\", data=wallonia, palette=\"Blues\")\n",
    "chart.set_xticklabels(chart.get_xticklabels(), rotation=30, horizontalalignment=\"right\")\n",
    "plt.xlabel(\"Wallonia\")\n",
    "plt.ylabel(\"Price\")\n",
    "plt.savefig(\"wallone.png\", bbox_inches=\"tight\")"
   ]
  },
  {
   "cell_type": "markdown",
   "id": "10c70775",
   "metadata": {},
   "source": [
    "# price-area"
   ]
  },
  {
   "cell_type": "code",
   "execution_count": 93,
   "id": "bc681310",
   "metadata": {},
   "outputs": [
    {
     "data": {
      "text/plain": [
       "0.592531553754259"
      ]
     },
     "execution_count": 93,
     "metadata": {},
     "output_type": "execute_result"
    }
   ],
   "source": [
    "ds['price'] .corr(ds['area'])"
   ]
  },
  {
   "cell_type": "code",
   "execution_count": 94,
   "id": "015d9475",
   "metadata": {},
   "outputs": [],
   "source": [
    "ds['price_area'] = ds['price'] / ds['area']\n"
   ]
  },
  {
   "cell_type": "code",
   "execution_count": 95,
   "id": "2dc14f8e",
   "metadata": {},
   "outputs": [
    {
     "data": {
      "text/html": [
       "<div>\n",
       "<style scoped>\n",
       "    .dataframe tbody tr th:only-of-type {\n",
       "        vertical-align: middle;\n",
       "    }\n",
       "\n",
       "    .dataframe tbody tr th {\n",
       "        vertical-align: top;\n",
       "    }\n",
       "\n",
       "    .dataframe thead th {\n",
       "        text-align: right;\n",
       "    }\n",
       "</style>\n",
       "<table border=\"1\" class=\"dataframe\">\n",
       "  <thead>\n",
       "    <tr style=\"text-align: right;\">\n",
       "      <th></th>\n",
       "      <th>postal_code</th>\n",
       "      <th>type</th>\n",
       "      <th>subtype</th>\n",
       "      <th>price</th>\n",
       "      <th>room_number</th>\n",
       "      <th>area</th>\n",
       "      <th>kitchen_equipped</th>\n",
       "      <th>furnished</th>\n",
       "      <th>fireplace</th>\n",
       "      <th>terrace</th>\n",
       "      <th>...</th>\n",
       "      <th>garden</th>\n",
       "      <th>garden_area</th>\n",
       "      <th>land_surface</th>\n",
       "      <th>facade_count</th>\n",
       "      <th>swimming_pool</th>\n",
       "      <th>building_condition</th>\n",
       "      <th>city</th>\n",
       "      <th>province</th>\n",
       "      <th>region</th>\n",
       "      <th>price_area</th>\n",
       "    </tr>\n",
       "  </thead>\n",
       "  <tbody>\n",
       "    <tr>\n",
       "      <th>0</th>\n",
       "      <td>6800</td>\n",
       "      <td>HOUSE</td>\n",
       "      <td>HOUSE</td>\n",
       "      <td>295000</td>\n",
       "      <td>5</td>\n",
       "      <td>460</td>\n",
       "      <td>1</td>\n",
       "      <td>0</td>\n",
       "      <td>0</td>\n",
       "      <td>1</td>\n",
       "      <td>...</td>\n",
       "      <td>0</td>\n",
       "      <td>None</td>\n",
       "      <td>321.0</td>\n",
       "      <td>2</td>\n",
       "      <td>0</td>\n",
       "      <td>TO_BE_DONE_UP</td>\n",
       "      <td>Remagne</td>\n",
       "      <td>Luxembourg</td>\n",
       "      <td>Wallonia</td>\n",
       "      <td>641.304348</td>\n",
       "    </tr>\n",
       "    <tr>\n",
       "      <th>1</th>\n",
       "      <td>6800</td>\n",
       "      <td>HOUSE</td>\n",
       "      <td>HOUSE</td>\n",
       "      <td>175000</td>\n",
       "      <td>3</td>\n",
       "      <td>172</td>\n",
       "      <td>0</td>\n",
       "      <td>0</td>\n",
       "      <td>0</td>\n",
       "      <td>1</td>\n",
       "      <td>...</td>\n",
       "      <td>1</td>\n",
       "      <td>1000.0</td>\n",
       "      <td>1254.0</td>\n",
       "      <td>4</td>\n",
       "      <td>0</td>\n",
       "      <td>TO_RENOVATE</td>\n",
       "      <td>Remagne</td>\n",
       "      <td>Luxembourg</td>\n",
       "      <td>Wallonia</td>\n",
       "      <td>1017.441860</td>\n",
       "    </tr>\n",
       "    <tr>\n",
       "      <th>2</th>\n",
       "      <td>6800</td>\n",
       "      <td>HOUSE</td>\n",
       "      <td>HOUSE</td>\n",
       "      <td>539000</td>\n",
       "      <td>5</td>\n",
       "      <td>596</td>\n",
       "      <td>1</td>\n",
       "      <td>0</td>\n",
       "      <td>1</td>\n",
       "      <td>1</td>\n",
       "      <td>...</td>\n",
       "      <td>1</td>\n",
       "      <td>1300.0</td>\n",
       "      <td>1500.0</td>\n",
       "      <td>4</td>\n",
       "      <td>0</td>\n",
       "      <td>AS_NEW</td>\n",
       "      <td>Remagne</td>\n",
       "      <td>Luxembourg</td>\n",
       "      <td>Wallonia</td>\n",
       "      <td>904.362416</td>\n",
       "    </tr>\n",
       "    <tr>\n",
       "      <th>3</th>\n",
       "      <td>6800</td>\n",
       "      <td>APARTMENT</td>\n",
       "      <td>APARTMENT</td>\n",
       "      <td>154000</td>\n",
       "      <td>2</td>\n",
       "      <td>62</td>\n",
       "      <td>0</td>\n",
       "      <td>0</td>\n",
       "      <td>0</td>\n",
       "      <td>1</td>\n",
       "      <td>...</td>\n",
       "      <td>0</td>\n",
       "      <td>None</td>\n",
       "      <td>0.0</td>\n",
       "      <td>4</td>\n",
       "      <td>0</td>\n",
       "      <td>No_information</td>\n",
       "      <td>Remagne</td>\n",
       "      <td>Luxembourg</td>\n",
       "      <td>Wallonia</td>\n",
       "      <td>2483.870968</td>\n",
       "    </tr>\n",
       "    <tr>\n",
       "      <th>4</th>\n",
       "      <td>6800</td>\n",
       "      <td>APARTMENT</td>\n",
       "      <td>APARTMENT</td>\n",
       "      <td>179000</td>\n",
       "      <td>2</td>\n",
       "      <td>79</td>\n",
       "      <td>0</td>\n",
       "      <td>0</td>\n",
       "      <td>0</td>\n",
       "      <td>1</td>\n",
       "      <td>...</td>\n",
       "      <td>0</td>\n",
       "      <td>None</td>\n",
       "      <td>0.0</td>\n",
       "      <td>4</td>\n",
       "      <td>0</td>\n",
       "      <td>No_information</td>\n",
       "      <td>Remagne</td>\n",
       "      <td>Luxembourg</td>\n",
       "      <td>Wallonia</td>\n",
       "      <td>2265.822785</td>\n",
       "    </tr>\n",
       "  </tbody>\n",
       "</table>\n",
       "<p>5 rows × 21 columns</p>\n",
       "</div>"
      ],
      "text/plain": [
       "   postal_code       type    subtype   price  room_number  area  \\\n",
       "0         6800      HOUSE      HOUSE  295000            5   460   \n",
       "1         6800      HOUSE      HOUSE  175000            3   172   \n",
       "2         6800      HOUSE      HOUSE  539000            5   596   \n",
       "3         6800  APARTMENT  APARTMENT  154000            2    62   \n",
       "4         6800  APARTMENT  APARTMENT  179000            2    79   \n",
       "\n",
       "   kitchen_equipped  furnished  fireplace  terrace  ... garden  garden_area  \\\n",
       "0                 1          0          0        1  ...      0         None   \n",
       "1                 0          0          0        1  ...      1       1000.0   \n",
       "2                 1          0          1        1  ...      1       1300.0   \n",
       "3                 0          0          0        1  ...      0         None   \n",
       "4                 0          0          0        1  ...      0         None   \n",
       "\n",
       "  land_surface  facade_count  swimming_pool  building_condition     city  \\\n",
       "0        321.0             2              0       TO_BE_DONE_UP  Remagne   \n",
       "1       1254.0             4              0         TO_RENOVATE  Remagne   \n",
       "2       1500.0             4              0              AS_NEW  Remagne   \n",
       "3          0.0             4              0      No_information  Remagne   \n",
       "4          0.0             4              0      No_information  Remagne   \n",
       "\n",
       "     province    region   price_area  \n",
       "0  Luxembourg  Wallonia   641.304348  \n",
       "1  Luxembourg  Wallonia  1017.441860  \n",
       "2  Luxembourg  Wallonia   904.362416  \n",
       "3  Luxembourg  Wallonia  2483.870968  \n",
       "4  Luxembourg  Wallonia  2265.822785  \n",
       "\n",
       "[5 rows x 21 columns]"
      ]
     },
     "execution_count": 95,
     "metadata": {},
     "output_type": "execute_result"
    }
   ],
   "source": [
    "ds.head()"
   ]
  },
  {
   "cell_type": "code",
   "execution_count": 101,
   "id": "78f75806",
   "metadata": {},
   "outputs": [
    {
     "data": {
      "text/html": [
       "<div>\n",
       "<style scoped>\n",
       "    .dataframe tbody tr th:only-of-type {\n",
       "        vertical-align: middle;\n",
       "    }\n",
       "\n",
       "    .dataframe tbody tr th {\n",
       "        vertical-align: top;\n",
       "    }\n",
       "\n",
       "    .dataframe thead th {\n",
       "        text-align: right;\n",
       "    }\n",
       "</style>\n",
       "<table border=\"1\" class=\"dataframe\">\n",
       "  <thead>\n",
       "    <tr style=\"text-align: right;\">\n",
       "      <th></th>\n",
       "      <th>postal_code</th>\n",
       "      <th>price_area</th>\n",
       "    </tr>\n",
       "  </thead>\n",
       "  <tbody>\n",
       "    <tr>\n",
       "      <th>0</th>\n",
       "      <td>8300</td>\n",
       "      <td>9231.132657</td>\n",
       "    </tr>\n",
       "    <tr>\n",
       "      <th>1</th>\n",
       "      <td>9831</td>\n",
       "      <td>6766.055046</td>\n",
       "    </tr>\n",
       "    <tr>\n",
       "      <th>2</th>\n",
       "      <td>3900</td>\n",
       "      <td>6250.000000</td>\n",
       "    </tr>\n",
       "    <tr>\n",
       "      <th>3</th>\n",
       "      <td>8301</td>\n",
       "      <td>5925.256315</td>\n",
       "    </tr>\n",
       "    <tr>\n",
       "      <th>4</th>\n",
       "      <td>1933</td>\n",
       "      <td>5478.156960</td>\n",
       "    </tr>\n",
       "    <tr>\n",
       "      <th>...</th>\n",
       "      <td>...</td>\n",
       "      <td>...</td>\n",
       "    </tr>\n",
       "    <tr>\n",
       "      <th>891</th>\n",
       "      <td>7622</td>\n",
       "      <td>629.921260</td>\n",
       "    </tr>\n",
       "    <tr>\n",
       "      <th>892</th>\n",
       "      <td>6460</td>\n",
       "      <td>550.000000</td>\n",
       "    </tr>\n",
       "    <tr>\n",
       "      <th>893</th>\n",
       "      <td>6671</td>\n",
       "      <td>441.666667</td>\n",
       "    </tr>\n",
       "    <tr>\n",
       "      <th>894</th>\n",
       "      <td>6698</td>\n",
       "      <td>370.370370</td>\n",
       "    </tr>\n",
       "    <tr>\n",
       "      <th>895</th>\n",
       "      <td>4750</td>\n",
       "      <td>326.923077</td>\n",
       "    </tr>\n",
       "  </tbody>\n",
       "</table>\n",
       "<p>896 rows × 2 columns</p>\n",
       "</div>"
      ],
      "text/plain": [
       "     postal_code   price_area\n",
       "0           8300  9231.132657\n",
       "1           9831  6766.055046\n",
       "2           3900  6250.000000\n",
       "3           8301  5925.256315\n",
       "4           1933  5478.156960\n",
       "..           ...          ...\n",
       "891         7622   629.921260\n",
       "892         6460   550.000000\n",
       "893         6671   441.666667\n",
       "894         6698   370.370370\n",
       "895         4750   326.923077\n",
       "\n",
       "[896 rows x 2 columns]"
      ]
     },
     "execution_count": 101,
     "metadata": {},
     "output_type": "execute_result"
    }
   ],
   "source": [
    "d1=ds.groupby('postal_code')['price_area'].mean().sort_values(ascending=False).reset_index()\n",
    "d1"
   ]
  },
  {
   "cell_type": "code",
   "execution_count": 117,
   "id": "deb83f4e",
   "metadata": {},
   "outputs": [],
   "source": [
    "province_price = ds.groupby(\"province\").price_area.agg([\"mean\"])"
   ]
  },
  {
   "cell_type": "code",
   "execution_count": 118,
   "id": "47c6a840",
   "metadata": {},
   "outputs": [
    {
     "data": {
      "text/html": [
       "<div>\n",
       "<style scoped>\n",
       "    .dataframe tbody tr th:only-of-type {\n",
       "        vertical-align: middle;\n",
       "    }\n",
       "\n",
       "    .dataframe tbody tr th {\n",
       "        vertical-align: top;\n",
       "    }\n",
       "\n",
       "    .dataframe thead th {\n",
       "        text-align: right;\n",
       "    }\n",
       "</style>\n",
       "<table border=\"1\" class=\"dataframe\">\n",
       "  <thead>\n",
       "    <tr style=\"text-align: right;\">\n",
       "      <th></th>\n",
       "      <th>province</th>\n",
       "      <th>mean</th>\n",
       "    </tr>\n",
       "  </thead>\n",
       "  <tbody>\n",
       "    <tr>\n",
       "      <th>0</th>\n",
       "      <td>Antwerp</td>\n",
       "      <td>2552.718063</td>\n",
       "    </tr>\n",
       "    <tr>\n",
       "      <th>1</th>\n",
       "      <td>Brussels_Capital</td>\n",
       "      <td>3871.976250</td>\n",
       "    </tr>\n",
       "    <tr>\n",
       "      <th>2</th>\n",
       "      <td>East_Flanders</td>\n",
       "      <td>2274.023763</td>\n",
       "    </tr>\n",
       "    <tr>\n",
       "      <th>3</th>\n",
       "      <td>Flemish_Brabant</td>\n",
       "      <td>2838.366501</td>\n",
       "    </tr>\n",
       "    <tr>\n",
       "      <th>4</th>\n",
       "      <td>Hainaut</td>\n",
       "      <td>1480.674328</td>\n",
       "    </tr>\n",
       "    <tr>\n",
       "      <th>5</th>\n",
       "      <td>Liege</td>\n",
       "      <td>1731.821433</td>\n",
       "    </tr>\n",
       "    <tr>\n",
       "      <th>6</th>\n",
       "      <td>Limburg</td>\n",
       "      <td>2013.661039</td>\n",
       "    </tr>\n",
       "    <tr>\n",
       "      <th>7</th>\n",
       "      <td>Luxembourg</td>\n",
       "      <td>1735.248538</td>\n",
       "    </tr>\n",
       "    <tr>\n",
       "      <th>8</th>\n",
       "      <td>Namur</td>\n",
       "      <td>1785.324882</td>\n",
       "    </tr>\n",
       "    <tr>\n",
       "      <th>9</th>\n",
       "      <td>Walloon_Brabant</td>\n",
       "      <td>2817.474883</td>\n",
       "    </tr>\n",
       "    <tr>\n",
       "      <th>10</th>\n",
       "      <td>West_Flanders</td>\n",
       "      <td>3745.247060</td>\n",
       "    </tr>\n",
       "  </tbody>\n",
       "</table>\n",
       "</div>"
      ],
      "text/plain": [
       "            province         mean\n",
       "0            Antwerp  2552.718063\n",
       "1   Brussels_Capital  3871.976250\n",
       "2      East_Flanders  2274.023763\n",
       "3    Flemish_Brabant  2838.366501\n",
       "4            Hainaut  1480.674328\n",
       "5              Liege  1731.821433\n",
       "6            Limburg  2013.661039\n",
       "7         Luxembourg  1735.248538\n",
       "8              Namur  1785.324882\n",
       "9    Walloon_Brabant  2817.474883\n",
       "10     West_Flanders  3745.247060"
      ]
     },
     "execution_count": 118,
     "metadata": {},
     "output_type": "execute_result"
    }
   ],
   "source": [
    "province_price.reset_index(level=0, inplace=True)\n",
    "province_price\n"
   ]
  },
  {
   "cell_type": "code",
   "execution_count": 119,
   "id": "a31bd56c",
   "metadata": {},
   "outputs": [
    {
     "data": {
      "text/plain": [
       "<AxesSubplot:xlabel='province'>"
      ]
     },
     "execution_count": 119,
     "metadata": {},
     "output_type": "execute_result"
    },
    {
     "data": {
      "image/png": "[encoded data removed]",
      "text/plain": [
       "<Figure size 432x288 with 1 Axes>"
      ]
     },
     "metadata": {
      "needs_background": "light"
     },
     "output_type": "display_data"
    }
   ],
   "source": [
    "province_price.plot.bar(x = \"province\", y = \"mean\")"
   ]
  },
  {
   "cell_type": "markdown",
   "id": "4a580791",
   "metadata": {},
   "source": [
    "### less expensive communes in Belgium for price per m2"
   ]
  },
  {
   "cell_type": "code",
   "execution_count": 121,
   "id": "1a1285e3",
   "metadata": {},
   "outputs": [
    {
     "data": {
      "text/html": [
       "<div>\n",
       "<style scoped>\n",
       "    .dataframe tbody tr th:only-of-type {\n",
       "        vertical-align: middle;\n",
       "    }\n",
       "\n",
       "    .dataframe tbody tr th {\n",
       "        vertical-align: top;\n",
       "    }\n",
       "\n",
       "    .dataframe thead th {\n",
       "        text-align: right;\n",
       "    }\n",
       "</style>\n",
       "<table border=\"1\" class=\"dataframe\">\n",
       "  <thead>\n",
       "    <tr style=\"text-align: right;\">\n",
       "      <th></th>\n",
       "      <th>postal_code</th>\n",
       "      <th>price_area</th>\n",
       "    </tr>\n",
       "  </thead>\n",
       "  <tbody>\n",
       "    <tr>\n",
       "      <th>0</th>\n",
       "      <td>7622</td>\n",
       "      <td>629.921260</td>\n",
       "    </tr>\n",
       "    <tr>\n",
       "      <th>1</th>\n",
       "      <td>6460</td>\n",
       "      <td>550.000000</td>\n",
       "    </tr>\n",
       "    <tr>\n",
       "      <th>2</th>\n",
       "      <td>6671</td>\n",
       "      <td>441.666667</td>\n",
       "    </tr>\n",
       "    <tr>\n",
       "      <th>3</th>\n",
       "      <td>6698</td>\n",
       "      <td>370.370370</td>\n",
       "    </tr>\n",
       "    <tr>\n",
       "      <th>4</th>\n",
       "      <td>4750</td>\n",
       "      <td>326.923077</td>\n",
       "    </tr>\n",
       "  </tbody>\n",
       "</table>\n",
       "</div>"
      ],
      "text/plain": [
       "   postal_code  price_area\n",
       "0         7622  629.921260\n",
       "1         6460  550.000000\n",
       "2         6671  441.666667\n",
       "3         6698  370.370370\n",
       "4         4750  326.923077"
      ]
     },
     "execution_count": 121,
     "metadata": {},
     "output_type": "execute_result"
    }
   ],
   "source": [
    "d=ds.groupby('postal_code')['price_area'].mean().sort_values(ascending=False)[-5:].reset_index()\n",
    "d"
   ]
  },
  {
   "cell_type": "code",
   "execution_count": 122,
   "id": "ae36b615",
   "metadata": {
    "scrolled": true
   },
   "outputs": [
    {
     "data": {
      "text/plain": [
       "Text(0, 0.5, 'price per m2')"
      ]
     },
     "execution_count": 122,
     "metadata": {},
     "output_type": "execute_result"
    },
    {
     "data": {
      "image/png": "[encoded data removed]",
      "text/plain": [
       "<Figure size 432x288 with 1 Axes>"
      ]
     },
     "metadata": {
      "needs_background": "light"
     },
     "output_type": "display_data"
    }
   ],
   "source": [
    "\n",
    "ax = sns.barplot(x='postal_code', y='price_area', data=d)\n",
    "ax.set_title('The least expensive in Belgium')\n",
    "ax.set_ylabel('price per m2')"
   ]
  },
  {
   "cell_type": "code",
   "execution_count": 124,
   "id": "71b82d4b",
   "metadata": {},
   "outputs": [
    {
     "data": {
      "text/html": [
       "<div>\n",
       "<style scoped>\n",
       "    .dataframe tbody tr th:only-of-type {\n",
       "        vertical-align: middle;\n",
       "    }\n",
       "\n",
       "    .dataframe tbody tr th {\n",
       "        vertical-align: top;\n",
       "    }\n",
       "\n",
       "    .dataframe thead th {\n",
       "        text-align: right;\n",
       "    }\n",
       "</style>\n",
       "<table border=\"1\" class=\"dataframe\">\n",
       "  <thead>\n",
       "    <tr style=\"text-align: right;\">\n",
       "      <th></th>\n",
       "      <th>city</th>\n",
       "      <th>price_area</th>\n",
       "    </tr>\n",
       "  </thead>\n",
       "  <tbody>\n",
       "    <tr>\n",
       "      <th>0</th>\n",
       "      <td>Laplaigne</td>\n",
       "      <td>629.921260</td>\n",
       "    </tr>\n",
       "    <tr>\n",
       "      <th>1</th>\n",
       "      <td>Salles</td>\n",
       "      <td>550.000000</td>\n",
       "    </tr>\n",
       "    <tr>\n",
       "      <th>2</th>\n",
       "      <td>Bovigny</td>\n",
       "      <td>441.666667</td>\n",
       "    </tr>\n",
       "    <tr>\n",
       "      <th>3</th>\n",
       "      <td>Grand-Halleux</td>\n",
       "      <td>370.370370</td>\n",
       "    </tr>\n",
       "    <tr>\n",
       "      <th>4</th>\n",
       "      <td>Elsenborn</td>\n",
       "      <td>326.923077</td>\n",
       "    </tr>\n",
       "  </tbody>\n",
       "</table>\n",
       "</div>"
      ],
      "text/plain": [
       "            city  price_area\n",
       "0      Laplaigne  629.921260\n",
       "1         Salles  550.000000\n",
       "2        Bovigny  441.666667\n",
       "3  Grand-Halleux  370.370370\n",
       "4      Elsenborn  326.923077"
      ]
     },
     "execution_count": 124,
     "metadata": {},
     "output_type": "execute_result"
    }
   ],
   "source": [
    "d_1=ds.groupby('city')['price_area'].mean().sort_values(ascending=False)[-5:].reset_index()\n",
    "d_1"
   ]
  },
  {
   "cell_type": "code",
   "execution_count": 126,
   "id": "5553441d",
   "metadata": {},
   "outputs": [
    {
     "data": {
      "text/plain": [
       "Text(0, 0.5, 'price per m2')"
      ]
     },
     "execution_count": 126,
     "metadata": {},
     "output_type": "execute_result"
    },
    {
     "data": {
      "image/png": "[encoded data removed]",
      "text/plain": [
       "<Figure size 432x288 with 1 Axes>"
      ]
     },
     "metadata": {
      "needs_background": "light"
     },
     "output_type": "display_data"
    }
   ],
   "source": [
    "ax = sns.barplot(x='city', y='price_area', data=d_1)\n",
    "ax.set_title('The least expensive in Belgium')\n",
    "ax.set_ylabel('price per m2')"
   ]
  },
  {
   "cell_type": "markdown",
   "id": "44a696ef",
   "metadata": {},
   "source": [
    "### most expensive communes in Belgium for price per m2"
   ]
  },
  {
   "cell_type": "code",
   "execution_count": 127,
   "id": "b60e7daa",
   "metadata": {},
   "outputs": [
    {
     "data": {
      "text/html": [
       "<div>\n",
       "<style scoped>\n",
       "    .dataframe tbody tr th:only-of-type {\n",
       "        vertical-align: middle;\n",
       "    }\n",
       "\n",
       "    .dataframe tbody tr th {\n",
       "        vertical-align: top;\n",
       "    }\n",
       "\n",
       "    .dataframe thead th {\n",
       "        text-align: right;\n",
       "    }\n",
       "</style>\n",
       "<table border=\"1\" class=\"dataframe\">\n",
       "  <thead>\n",
       "    <tr style=\"text-align: right;\">\n",
       "      <th></th>\n",
       "      <th>city</th>\n",
       "      <th>price_area</th>\n",
       "    </tr>\n",
       "  </thead>\n",
       "  <tbody>\n",
       "    <tr>\n",
       "      <th>0</th>\n",
       "      <td>Knokke</td>\n",
       "      <td>9231.132657</td>\n",
       "    </tr>\n",
       "    <tr>\n",
       "      <th>1</th>\n",
       "      <td>Deurle</td>\n",
       "      <td>6766.055046</td>\n",
       "    </tr>\n",
       "    <tr>\n",
       "      <th>2</th>\n",
       "      <td>Overpelt</td>\n",
       "      <td>6250.000000</td>\n",
       "    </tr>\n",
       "    <tr>\n",
       "      <th>3</th>\n",
       "      <td>Ramskapelle</td>\n",
       "      <td>5925.256315</td>\n",
       "    </tr>\n",
       "    <tr>\n",
       "      <th>4</th>\n",
       "      <td>Sterrebeek</td>\n",
       "      <td>5478.156960</td>\n",
       "    </tr>\n",
       "  </tbody>\n",
       "</table>\n",
       "</div>"
      ],
      "text/plain": [
       "          city   price_area\n",
       "0       Knokke  9231.132657\n",
       "1       Deurle  6766.055046\n",
       "2     Overpelt  6250.000000\n",
       "3  Ramskapelle  5925.256315\n",
       "4   Sterrebeek  5478.156960"
      ]
     },
     "execution_count": 127,
     "metadata": {},
     "output_type": "execute_result"
    }
   ],
   "source": [
    "d_2=ds.groupby('city')['price_area'].mean().sort_values(ascending=False)[:5].reset_index()\n",
    "d_2"
   ]
  },
  {
   "cell_type": "code",
   "execution_count": 128,
   "id": "8bc20936",
   "metadata": {
    "scrolled": true
   },
   "outputs": [
    {
     "data": {
      "text/plain": [
       "Text(0, 0.5, 'price per m2')"
      ]
     },
     "execution_count": 128,
     "metadata": {},
     "output_type": "execute_result"
    },
    {
     "data": {
      "image/png": "[encoded data removed]",
      "text/plain": [
       "<Figure size 432x288 with 1 Axes>"
      ]
     },
     "metadata": {
      "needs_background": "light"
     },
     "output_type": "display_data"
    }
   ],
   "source": [
    "ax = sns.barplot(x='city', y='price_area', data=d_2)\n",
    "ax.set_xticklabels(ax.get_xticklabels(), rotation=30)\n",
    "ax.set_title('The most expensive in Belgium')\n",
    "ax.set_ylabel('price per m2')"
   ]
  },
  {
   "cell_type": "code",
   "execution_count": 130,
   "id": "e5e9805d",
   "metadata": {},
   "outputs": [],
   "source": [
    "data=ds.groupby('city')['price'].mean().sort_values(ascending=False)[-5:].reset_index()"
   ]
  },
  {
   "cell_type": "code",
   "execution_count": 131,
   "id": "d8b51c60",
   "metadata": {},
   "outputs": [
    {
     "data": {
      "text/plain": [
       "Text(0, 0.5, 'Average of price')"
      ]
     },
     "execution_count": 131,
     "metadata": {},
     "output_type": "execute_result"
    },
    {
     "data": {
      "image/png": "[encoded data removed]",
      "text/plain": [
       "<Figure size 432x288 with 1 Axes>"
      ]
     },
     "metadata": {
      "needs_background": "light"
     },
     "output_type": "display_data"
    }
   ],
   "source": [
    "ax = sns.barplot(x='city', y='price', data=data)\n",
    "ax.set_xticklabels(ax.get_xticklabels(), rotation=30)\n",
    "ax.set_title('The least expensive in Belgium')\n",
    "ax.set_ylabel('Average of price')"
   ]
  },
  {
   "cell_type": "code",
   "execution_count": 132,
   "id": "25210fca",
   "metadata": {},
   "outputs": [],
   "source": [
    "data_1=ds.groupby('city')['price'].median().sort_values(ascending=False)[-5:].reset_index()"
   ]
  },
  {
   "cell_type": "code",
   "execution_count": 134,
   "id": "915bf2dc",
   "metadata": {},
   "outputs": [
    {
     "data": {
      "text/plain": [
       "Text(0, 0.5, 'Median of price')"
      ]
     },
     "execution_count": 134,
     "metadata": {},
     "output_type": "execute_result"
    },
    {
     "data": {
      "image/png": "[encoded data removed]",
      "text/plain": [
       "<Figure size 432x288 with 1 Axes>"
      ]
     },
     "metadata": {
      "needs_background": "light"
     },
     "output_type": "display_data"
    }
   ],
   "source": [
    "ax = sns.barplot(x='city', y='price', data=data_1)\n",
    "ax.set_xticklabels(ax.get_xticklabels(), rotation=30)\n",
    "ax.set_title('The less expensive in Belgium')\n",
    "ax.set_ylabel('Median of price')"
   ]
  },
  {
   "cell_type": "markdown",
   "id": "2147a56f",
   "metadata": {},
   "source": [
    "### most expensive commune of Blegium Average price and median price"
   ]
  },
  {
   "cell_type": "code",
   "execution_count": 136,
   "id": "39f382e3",
   "metadata": {},
   "outputs": [],
   "source": [
    "da=ds.groupby('city')['price'].median().sort_values(ascending=False)[:5].reset_index()"
   ]
  },
  {
   "cell_type": "code",
   "execution_count": 137,
   "id": "3baef5fc",
   "metadata": {},
   "outputs": [
    {
     "data": {
      "text/plain": [
       "Text(0, 0.5, 'Median of price')"
      ]
     },
     "execution_count": 137,
     "metadata": {},
     "output_type": "execute_result"
    },
    {
     "data": {
      "image/png": "[encoded data removed]",
      "text/plain": [
       "<Figure size 432x288 with 1 Axes>"
      ]
     },
     "metadata": {
      "needs_background": "light"
     },
     "output_type": "display_data"
    }
   ],
   "source": [
    "ax = sns.barplot(x='city', y='price', data=da)\n",
    "ax.set_xticklabels(ax.get_xticklabels(), rotation=30)\n",
    "ax.set_title('The most expensive in Belgium')\n",
    "ax.set_ylabel('Median of price')"
   ]
  },
  {
   "cell_type": "code",
   "execution_count": 138,
   "id": "0dc65bd9",
   "metadata": {},
   "outputs": [],
   "source": [
    "da_1=ds.groupby('city')['price'].mean().sort_values(ascending=False)[:5].reset_index()"
   ]
  },
  {
   "cell_type": "code",
   "execution_count": 139,
   "id": "278d406d",
   "metadata": {},
   "outputs": [
    {
     "data": {
      "text/plain": [
       "Text(0, 0.5, 'Average of price ')"
      ]
     },
     "execution_count": 139,
     "metadata": {},
     "output_type": "execute_result"
    },
    {
     "data": {
      "image/png": "[encoded data removed]",
      "text/plain": [
       "<Figure size 432x288 with 1 Axes>"
      ]
     },
     "metadata": {
      "needs_background": "light"
     },
     "output_type": "display_data"
    }
   ],
   "source": [
    "ax = sns.barplot(x='city', y='price', data=da_1)\n",
    "ax.set_xticklabels(ax.get_xticklabels(), rotation=30)\n",
    "ax.set_title('The most expensive in Belgium')\n",
    "ax.set_ylabel('Average of price ')"
   ]
  },
  {
   "cell_type": "markdown",
   "id": "f4b2e00c",
   "metadata": {},
   "source": [
    "### most expensive commune in Flanders "
   ]
  },
  {
   "cell_type": "code",
   "execution_count": 145,
   "id": "d6b18bdf",
   "metadata": {},
   "outputs": [],
   "source": [
    "dat=ds[ds.region=='Flanders'].groupby('city')['price'].mean().sort_values(ascending=False)[:5].to_frame().reset_index()"
   ]
  },
  {
   "cell_type": "code",
   "execution_count": 146,
   "id": "b999c120",
   "metadata": {},
   "outputs": [
    {
     "data": {
      "text/plain": [
       "Text(0, 0.5, 'Average of price')"
      ]
     },
     "execution_count": 146,
     "metadata": {},
     "output_type": "execute_result"
    },
    {
     "data": {
      "image/png": "[encoded data removed]",
      "text/plain": [
       "<Figure size 432x288 with 1 Axes>"
      ]
     },
     "metadata": {
      "needs_background": "light"
     },
     "output_type": "display_data"
    }
   ],
   "source": [
    "\n",
    "ax = sns.barplot(x='city', y='price', data=dat)\n",
    "ax.set_xticklabels(ax.get_xticklabels(), rotation=30)\n",
    "ax.set_title('The most expensive in Flanders ')\n",
    "ax.set_ylabel('Average of price')"
   ]
  },
  {
   "cell_type": "code",
   "execution_count": 147,
   "id": "490df614",
   "metadata": {},
   "outputs": [],
   "source": [
    "dat_1=ds[ds.region=='Flanders'].groupby('city')['price'].median().sort_values(ascending=False)[:5].to_frame().reset_index()"
   ]
  },
  {
   "cell_type": "code",
   "execution_count": 148,
   "id": "a01fb8ed",
   "metadata": {},
   "outputs": [
    {
     "data": {
      "text/plain": [
       "Text(0, 0.5, 'median of price')"
      ]
     },
     "execution_count": 148,
     "metadata": {},
     "output_type": "execute_result"
    },
    {
     "data": {
      "image/png": "[encoded data removed]",
      "text/plain": [
       "<Figure size 432x288 with 1 Axes>"
      ]
     },
     "metadata": {
      "needs_background": "light"
     },
     "output_type": "display_data"
    }
   ],
   "source": [
    "ax = sns.barplot(x='city', y='price', data=dat_1)\n",
    "ax.set_xticklabels(ax.get_xticklabels(), rotation=30)\n",
    "ax.set_title('The most expensive in Flanders ')\n",
    "ax.set_ylabel('median of price')"
   ]
  },
  {
   "cell_type": "code",
   "execution_count": 149,
   "id": "6a40f34f",
   "metadata": {},
   "outputs": [],
   "source": [
    "dat_2=ds[ds.region=='Flanders'].groupby('city')['price_area'].mean().sort_values(ascending=False)[:5].to_frame().reset_index()"
   ]
  },
  {
   "cell_type": "code",
   "execution_count": 150,
   "id": "2cf389f0",
   "metadata": {},
   "outputs": [
    {
     "data": {
      "text/plain": [
       "Text(0, 0.5, 'price per m2')"
      ]
     },
     "execution_count": 150,
     "metadata": {},
     "output_type": "execute_result"
    },
    {
     "data": {
      "image/png": "[encoded data removed]",
      "text/plain": [
       "<Figure size 432x288 with 1 Axes>"
      ]
     },
     "metadata": {
      "needs_background": "light"
     },
     "output_type": "display_data"
    }
   ],
   "source": [
    "ax = sns.barplot(x='city', y='price_area', data=dat_2)\n",
    "ax.set_xticklabels(ax.get_xticklabels(), rotation=30)\n",
    "ax.set_title('The most expensive in Flanders ')\n",
    "ax.set_ylabel('price per m2')"
   ]
  },
  {
   "cell_type": "markdown",
   "id": "ed60b839",
   "metadata": {},
   "source": [
    "### less expensive commune in Flanders"
   ]
  },
  {
   "cell_type": "code",
   "execution_count": 151,
   "id": "05605288",
   "metadata": {},
   "outputs": [],
   "source": [
    "dat_3=ds[ds.region=='Flanders'].groupby('city')['price_area'].mean().sort_values(ascending=False)[-5:].to_frame().reset_index()"
   ]
  },
  {
   "cell_type": "code",
   "execution_count": 152,
   "id": "432d0074",
   "metadata": {},
   "outputs": [
    {
     "data": {
      "text/plain": [
       "Text(0, 0.5, 'price per m2')"
      ]
     },
     "execution_count": 152,
     "metadata": {},
     "output_type": "execute_result"
    },
    {
     "data": {
      "image/png": "[encoded data removed]",
      "text/plain": [
       "<Figure size 432x288 with 1 Axes>"
      ]
     },
     "metadata": {
      "needs_background": "light"
     },
     "output_type": "display_data"
    }
   ],
   "source": [
    "ax = sns.barplot(x='city', y='price_area', data=dat_3)\n",
    "ax.set_xticklabels(ax.get_xticklabels(), rotation=30)\n",
    "ax.set_title('The less expensive in Flanders ')\n",
    "ax.set_ylabel('price per m2')"
   ]
  },
  {
   "cell_type": "code",
   "execution_count": 190,
   "id": "499b74de",
   "metadata": {},
   "outputs": [],
   "source": [
    "dat_4=ds[ds.region=='Flanders'].groupby('city')['price'].mean().sort_values(ascending=False)[-5:].to_frame().reset_index()"
   ]
  },
  {
   "cell_type": "code",
   "execution_count": 191,
   "id": "2f4e8dcf",
   "metadata": {},
   "outputs": [
    {
     "data": {
      "text/plain": [
       "Text(0, 0.5, 'Average of price')"
      ]
     },
     "execution_count": 191,
     "metadata": {},
     "output_type": "execute_result"
    },
    {
     "data": {
      "image/png": "[encoded data removed]",
      "text/plain": [
       "<Figure size 432x288 with 1 Axes>"
      ]
     },
     "metadata": {
      "needs_background": "light"
     },
     "output_type": "display_data"
    }
   ],
   "source": [
    "ax = sns.barplot(x='city', y='price', data=dat_4)\n",
    "ax.set_xticklabels(ax.get_xticklabels(), rotation=30)\n",
    "ax.set_title('The less expensive in Flanders ')\n",
    "ax.set_ylabel('Average of price')"
   ]
  },
  {
   "cell_type": "code",
   "execution_count": 192,
   "id": "ca641e5e",
   "metadata": {},
   "outputs": [],
   "source": [
    "dat_5=ds[ds.region=='Flanders'].groupby('city')['price'].median().sort_values(ascending=False)[-5:].to_frame().reset_index()"
   ]
  },
  {
   "cell_type": "code",
   "execution_count": 193,
   "id": "d0da732e",
   "metadata": {},
   "outputs": [
    {
     "data": {
      "text/plain": [
       "Text(0, 0.5, 'median of price')"
      ]
     },
     "execution_count": 193,
     "metadata": {},
     "output_type": "execute_result"
    },
    {
     "data": {
      "image/png": "[encoded data removed]",
      "text/plain": [
       "<Figure size 432x288 with 1 Axes>"
      ]
     },
     "metadata": {
      "needs_background": "light"
     },
     "output_type": "display_data"
    }
   ],
   "source": [
    "ax = sns.barplot(x='city', y='price', data=dat_5)\n",
    "ax.set_xticklabels(ax.get_xticklabels(), rotation=30)\n",
    "ax.set_title('The less expensive in Flanders ')\n",
    "ax.set_ylabel('median of price')"
   ]
  },
  {
   "cell_type": "markdown",
   "id": "cb9c43cf",
   "metadata": {},
   "source": [
    "### Most expensive communes in wallonia."
   ]
  },
  {
   "cell_type": "code",
   "execution_count": 174,
   "id": "9b1466a4",
   "metadata": {},
   "outputs": [],
   "source": [
    "#most expensive Average\n",
    "data=ds[ds.region=='Wallonia'].groupby('city')['price'].mean().sort_values(ascending=False)[:5].to_frame().reset_index()"
   ]
  },
  {
   "cell_type": "code",
   "execution_count": 175,
   "id": "055c83fd",
   "metadata": {},
   "outputs": [
    {
     "data": {
      "text/plain": [
       "Text(0, 0.5, 'Average of price')"
      ]
     },
     "execution_count": 175,
     "metadata": {},
     "output_type": "execute_result"
    },
    {
     "data": {
      "image/png": "[encoded data removed]",
      "text/plain": [
       "<Figure size 432x288 with 1 Axes>"
      ]
     },
     "metadata": {
      "needs_background": "light"
     },
     "output_type": "display_data"
    }
   ],
   "source": [
    "ax = sns.barplot(x='city', y='price', data=data)\n",
    "ax.set_xticklabels(ax.get_xticklabels(), rotation=30)\n",
    "ax.set_title('The most expensive in Wallonia ')\n",
    "ax.set_ylabel('Average of price')"
   ]
  },
  {
   "cell_type": "code",
   "execution_count": 176,
   "id": "7dc3dde0",
   "metadata": {},
   "outputs": [
    {
     "data": {
      "text/html": [
       "<div>\n",
       "<style scoped>\n",
       "    .dataframe tbody tr th:only-of-type {\n",
       "        vertical-align: middle;\n",
       "    }\n",
       "\n",
       "    .dataframe tbody tr th {\n",
       "        vertical-align: top;\n",
       "    }\n",
       "\n",
       "    .dataframe thead th {\n",
       "        text-align: right;\n",
       "    }\n",
       "</style>\n",
       "<table border=\"1\" class=\"dataframe\">\n",
       "  <thead>\n",
       "    <tr style=\"text-align: right;\">\n",
       "      <th></th>\n",
       "      <th>city</th>\n",
       "      <th>price_area</th>\n",
       "    </tr>\n",
       "  </thead>\n",
       "  <tbody>\n",
       "    <tr>\n",
       "      <th>0</th>\n",
       "      <td>Bornival</td>\n",
       "      <td>4400.000000</td>\n",
       "    </tr>\n",
       "    <tr>\n",
       "      <th>1</th>\n",
       "      <td>Dalhem</td>\n",
       "      <td>3958.944282</td>\n",
       "    </tr>\n",
       "    <tr>\n",
       "      <th>2</th>\n",
       "      <td>Lasne</td>\n",
       "      <td>3716.652173</td>\n",
       "    </tr>\n",
       "    <tr>\n",
       "      <th>3</th>\n",
       "      <td>Louvain-La-Neuve</td>\n",
       "      <td>3584.889352</td>\n",
       "    </tr>\n",
       "    <tr>\n",
       "      <th>4</th>\n",
       "      <td>Soiron</td>\n",
       "      <td>3500.000000</td>\n",
       "    </tr>\n",
       "  </tbody>\n",
       "</table>\n",
       "</div>"
      ],
      "text/plain": [
       "               city   price_area\n",
       "0          Bornival  4400.000000\n",
       "1            Dalhem  3958.944282\n",
       "2             Lasne  3716.652173\n",
       "3  Louvain-La-Neuve  3584.889352\n",
       "4            Soiron  3500.000000"
      ]
     },
     "execution_count": 176,
     "metadata": {},
     "output_type": "execute_result"
    }
   ],
   "source": [
    "# most expensive price per m2\n",
    "data_2=ds[ds.region=='Wallonia'].groupby('city')['price_area'].mean().sort_values(ascending=False)[:5].to_frame().reset_index()\n",
    "data_2"
   ]
  },
  {
   "cell_type": "code",
   "execution_count": 177,
   "id": "57bf339b",
   "metadata": {},
   "outputs": [
    {
     "data": {
      "text/plain": [
       "Text(0, 0.5, 'price per m2')"
      ]
     },
     "execution_count": 177,
     "metadata": {},
     "output_type": "execute_result"
    },
    {
     "data": {
      "image/png": "[encoded data removed]",
      "text/plain": [
       "<Figure size 432x288 with 1 Axes>"
      ]
     },
     "metadata": {
      "needs_background": "light"
     },
     "output_type": "display_data"
    }
   ],
   "source": [
    "ax = sns.barplot(x='city', y='price_area', data=data_2)\n",
    "ax.set_xticklabels(ax.get_xticklabels(), rotation=30)\n",
    "ax.set_title('The most expensive in Wallonia ')\n",
    "ax.set_ylabel('price per m2')\n"
   ]
  },
  {
   "cell_type": "code",
   "execution_count": 178,
   "id": "5f30d0d9",
   "metadata": {},
   "outputs": [
    {
     "data": {
      "text/html": [
       "<div>\n",
       "<style scoped>\n",
       "    .dataframe tbody tr th:only-of-type {\n",
       "        vertical-align: middle;\n",
       "    }\n",
       "\n",
       "    .dataframe tbody tr th {\n",
       "        vertical-align: top;\n",
       "    }\n",
       "\n",
       "    .dataframe thead th {\n",
       "        text-align: right;\n",
       "    }\n",
       "</style>\n",
       "<table border=\"1\" class=\"dataframe\">\n",
       "  <thead>\n",
       "    <tr style=\"text-align: right;\">\n",
       "      <th></th>\n",
       "      <th>city</th>\n",
       "      <th>price</th>\n",
       "    </tr>\n",
       "  </thead>\n",
       "  <tbody>\n",
       "    <tr>\n",
       "      <th>0</th>\n",
       "      <td>Bornival</td>\n",
       "      <td>3300000.0</td>\n",
       "    </tr>\n",
       "    <tr>\n",
       "      <th>1</th>\n",
       "      <td>Onhaye</td>\n",
       "      <td>1595000.0</td>\n",
       "    </tr>\n",
       "    <tr>\n",
       "      <th>2</th>\n",
       "      <td>Dalhem</td>\n",
       "      <td>1350000.0</td>\n",
       "    </tr>\n",
       "    <tr>\n",
       "      <th>3</th>\n",
       "      <td>Wagnelée</td>\n",
       "      <td>1300000.0</td>\n",
       "    </tr>\n",
       "    <tr>\n",
       "      <th>4</th>\n",
       "      <td>Moresnet</td>\n",
       "      <td>1275000.0</td>\n",
       "    </tr>\n",
       "  </tbody>\n",
       "</table>\n",
       "</div>"
      ],
      "text/plain": [
       "       city      price\n",
       "0  Bornival  3300000.0\n",
       "1    Onhaye  1595000.0\n",
       "2    Dalhem  1350000.0\n",
       "3  Wagnelée  1300000.0\n",
       "4  Moresnet  1275000.0"
      ]
     },
     "execution_count": 178,
     "metadata": {},
     "output_type": "execute_result"
    }
   ],
   "source": [
    "data_3=ds[ds.region=='Wallonia'].groupby('city')['price'].median().sort_values(ascending=False)[:5].to_frame().reset_index()\n",
    "data_3"
   ]
  },
  {
   "cell_type": "code",
   "execution_count": 179,
   "id": "b332026b",
   "metadata": {},
   "outputs": [
    {
     "data": {
      "text/plain": [
       "Text(0, 0.5, 'Median of price')"
      ]
     },
     "execution_count": 179,
     "metadata": {},
     "output_type": "execute_result"
    },
    {
     "data": {
      "image/png": "[encoded data removed]",
      "text/plain": [
       "<Figure size 432x288 with 1 Axes>"
      ]
     },
     "metadata": {
      "needs_background": "light"
     },
     "output_type": "display_data"
    }
   ],
   "source": [
    "ax = sns.barplot(x='city', y='price', data=data_3)\n",
    "ax.set_xticklabels(ax.get_xticklabels(), rotation=30)\n",
    "ax.set_title('The most expensive in Wallonia ')\n",
    "ax.set_ylabel('Median of price')"
   ]
  },
  {
   "cell_type": "markdown",
   "id": "7705948c",
   "metadata": {},
   "source": [
    "### less expensive communes in Wallonia."
   ]
  },
  {
   "cell_type": "code",
   "execution_count": 180,
   "id": "8c260bd6",
   "metadata": {},
   "outputs": [
    {
     "data": {
      "text/html": [
       "<div>\n",
       "<style scoped>\n",
       "    .dataframe tbody tr th:only-of-type {\n",
       "        vertical-align: middle;\n",
       "    }\n",
       "\n",
       "    .dataframe tbody tr th {\n",
       "        vertical-align: top;\n",
       "    }\n",
       "\n",
       "    .dataframe thead th {\n",
       "        text-align: right;\n",
       "    }\n",
       "</style>\n",
       "<table border=\"1\" class=\"dataframe\">\n",
       "  <thead>\n",
       "    <tr style=\"text-align: right;\">\n",
       "      <th></th>\n",
       "      <th>city</th>\n",
       "      <th>price</th>\n",
       "    </tr>\n",
       "  </thead>\n",
       "  <tbody>\n",
       "    <tr>\n",
       "      <th>0</th>\n",
       "      <td>Dohan</td>\n",
       "      <td>99000.0</td>\n",
       "    </tr>\n",
       "    <tr>\n",
       "      <th>1</th>\n",
       "      <td>Sorinnes</td>\n",
       "      <td>99000.0</td>\n",
       "    </tr>\n",
       "    <tr>\n",
       "      <th>2</th>\n",
       "      <td>Hermeton-Sur-Meuse</td>\n",
       "      <td>92500.0</td>\n",
       "    </tr>\n",
       "    <tr>\n",
       "      <th>3</th>\n",
       "      <td>Laplaigne</td>\n",
       "      <td>80000.0</td>\n",
       "    </tr>\n",
       "    <tr>\n",
       "      <th>4</th>\n",
       "      <td>Grand-Halleux</td>\n",
       "      <td>60000.0</td>\n",
       "    </tr>\n",
       "  </tbody>\n",
       "</table>\n",
       "</div>"
      ],
      "text/plain": [
       "                 city    price\n",
       "0               Dohan  99000.0\n",
       "1            Sorinnes  99000.0\n",
       "2  Hermeton-Sur-Meuse  92500.0\n",
       "3           Laplaigne  80000.0\n",
       "4       Grand-Halleux  60000.0"
      ]
     },
     "execution_count": 180,
     "metadata": {},
     "output_type": "execute_result"
    }
   ],
   "source": [
    "dataa_1=ds[ds.region=='Wallonia'].groupby('city')['price'].mean().sort_values(ascending=False)[-5:].to_frame().reset_index()\n",
    "dataa_1"
   ]
  },
  {
   "cell_type": "code",
   "execution_count": 181,
   "id": "b83f8600",
   "metadata": {},
   "outputs": [
    {
     "data": {
      "text/plain": [
       "Text(0, 0.5, 'Mean of price')"
      ]
     },
     "execution_count": 181,
     "metadata": {},
     "output_type": "execute_result"
    },
    {
     "data": {
      "image/png": "[encoded data removed]",
      "text/plain": [
       "<Figure size 432x288 with 1 Axes>"
      ]
     },
     "metadata": {
      "needs_background": "light"
     },
     "output_type": "display_data"
    }
   ],
   "source": [
    "ax = sns.barplot(x='city', y='price', data=dataa_1)\n",
    "ax.set_xticklabels(ax.get_xticklabels(), rotation=30)\n",
    "ax.set_title('The less expensive in Wallonia ')\n",
    "ax.set_ylabel('Mean of price')"
   ]
  },
  {
   "cell_type": "code",
   "execution_count": 182,
   "id": "a36e58e7",
   "metadata": {},
   "outputs": [
    {
     "data": {
      "text/html": [
       "<div>\n",
       "<style scoped>\n",
       "    .dataframe tbody tr th:only-of-type {\n",
       "        vertical-align: middle;\n",
       "    }\n",
       "\n",
       "    .dataframe tbody tr th {\n",
       "        vertical-align: top;\n",
       "    }\n",
       "\n",
       "    .dataframe thead th {\n",
       "        text-align: right;\n",
       "    }\n",
       "</style>\n",
       "<table border=\"1\" class=\"dataframe\">\n",
       "  <thead>\n",
       "    <tr style=\"text-align: right;\">\n",
       "      <th></th>\n",
       "      <th>city</th>\n",
       "      <th>price</th>\n",
       "    </tr>\n",
       "  </thead>\n",
       "  <tbody>\n",
       "    <tr>\n",
       "      <th>0</th>\n",
       "      <td>Dohan</td>\n",
       "      <td>99000.0</td>\n",
       "    </tr>\n",
       "    <tr>\n",
       "      <th>1</th>\n",
       "      <td>Sorinnes</td>\n",
       "      <td>99000.0</td>\n",
       "    </tr>\n",
       "    <tr>\n",
       "      <th>2</th>\n",
       "      <td>Hermeton-Sur-Meuse</td>\n",
       "      <td>92500.0</td>\n",
       "    </tr>\n",
       "    <tr>\n",
       "      <th>3</th>\n",
       "      <td>Laplaigne</td>\n",
       "      <td>80000.0</td>\n",
       "    </tr>\n",
       "    <tr>\n",
       "      <th>4</th>\n",
       "      <td>Grand-Halleux</td>\n",
       "      <td>60000.0</td>\n",
       "    </tr>\n",
       "  </tbody>\n",
       "</table>\n",
       "</div>"
      ],
      "text/plain": [
       "                 city    price\n",
       "0               Dohan  99000.0\n",
       "1            Sorinnes  99000.0\n",
       "2  Hermeton-Sur-Meuse  92500.0\n",
       "3           Laplaigne  80000.0\n",
       "4       Grand-Halleux  60000.0"
      ]
     },
     "execution_count": 182,
     "metadata": {},
     "output_type": "execute_result"
    }
   ],
   "source": [
    "dataa_2=ds[ds.region=='Wallonia'].groupby('city')['price'].median().sort_values(ascending=False)[-5:].to_frame().reset_index()\n",
    "dataa_2"
   ]
  },
  {
   "cell_type": "code",
   "execution_count": 183,
   "id": "fa85275b",
   "metadata": {},
   "outputs": [
    {
     "data": {
      "text/plain": [
       "Text(0, 0.5, 'Median of price')"
      ]
     },
     "execution_count": 183,
     "metadata": {},
     "output_type": "execute_result"
    },
    {
     "data": {
      "image/png": "[encoded data removed]",
      "text/plain": [
       "<Figure size 432x288 with 1 Axes>"
      ]
     },
     "metadata": {
      "needs_background": "light"
     },
     "output_type": "display_data"
    }
   ],
   "source": [
    "ax = sns.barplot(x='city', y='price', data=dataa_2)\n",
    "ax.set_xticklabels(ax.get_xticklabels(), rotation=30)\n",
    "ax.set_title('The less expensive in Wallonia ')\n",
    "ax.set_ylabel('Median of price')"
   ]
  },
  {
   "cell_type": "code",
   "execution_count": 184,
   "id": "c40c3b56",
   "metadata": {},
   "outputs": [
    {
     "data": {
      "text/html": [
       "<div>\n",
       "<style scoped>\n",
       "    .dataframe tbody tr th:only-of-type {\n",
       "        vertical-align: middle;\n",
       "    }\n",
       "\n",
       "    .dataframe tbody tr th {\n",
       "        vertical-align: top;\n",
       "    }\n",
       "\n",
       "    .dataframe thead th {\n",
       "        text-align: right;\n",
       "    }\n",
       "</style>\n",
       "<table border=\"1\" class=\"dataframe\">\n",
       "  <thead>\n",
       "    <tr style=\"text-align: right;\">\n",
       "      <th></th>\n",
       "      <th>city</th>\n",
       "      <th>price_area</th>\n",
       "    </tr>\n",
       "  </thead>\n",
       "  <tbody>\n",
       "    <tr>\n",
       "      <th>0</th>\n",
       "      <td>Laplaigne</td>\n",
       "      <td>629.921260</td>\n",
       "    </tr>\n",
       "    <tr>\n",
       "      <th>1</th>\n",
       "      <td>Salles</td>\n",
       "      <td>550.000000</td>\n",
       "    </tr>\n",
       "    <tr>\n",
       "      <th>2</th>\n",
       "      <td>Bovigny</td>\n",
       "      <td>441.666667</td>\n",
       "    </tr>\n",
       "    <tr>\n",
       "      <th>3</th>\n",
       "      <td>Grand-Halleux</td>\n",
       "      <td>370.370370</td>\n",
       "    </tr>\n",
       "    <tr>\n",
       "      <th>4</th>\n",
       "      <td>Elsenborn</td>\n",
       "      <td>326.923077</td>\n",
       "    </tr>\n",
       "  </tbody>\n",
       "</table>\n",
       "</div>"
      ],
      "text/plain": [
       "            city  price_area\n",
       "0      Laplaigne  629.921260\n",
       "1         Salles  550.000000\n",
       "2        Bovigny  441.666667\n",
       "3  Grand-Halleux  370.370370\n",
       "4      Elsenborn  326.923077"
      ]
     },
     "execution_count": 184,
     "metadata": {},
     "output_type": "execute_result"
    }
   ],
   "source": [
    "dataa_3=ds[ds.region=='Wallonia'].groupby('city')['price_area'].mean().sort_values(ascending=False)[-5:].to_frame().reset_index()\n",
    "dataa_3"
   ]
  },
  {
   "cell_type": "code",
   "execution_count": 186,
   "id": "833ec392",
   "metadata": {},
   "outputs": [
    {
     "data": {
      "text/plain": [
       "Text(0, 0.5, 'price per m2')"
      ]
     },
     "execution_count": 186,
     "metadata": {},
     "output_type": "execute_result"
    },
    {
     "data": {
      "image/png": "[encoded data removed]",
      "text/plain": [
       "<Figure size 432x288 with 1 Axes>"
      ]
     },
     "metadata": {
      "needs_background": "light"
     },
     "output_type": "display_data"
    }
   ],
   "source": [
    "ax = sns.barplot(x='city', y='price_area', data=dataa_3)\n",
    "ax.set_xticklabels(ax.get_xticklabels(), rotation=30)\n",
    "ax.set_title('The less expensive in Wallonia ')\n",
    "ax.set_ylabel('price per m2')"
   ]
  },
  {
   "cell_type": "code",
   "execution_count": null,
   "id": "df5e91b5",
   "metadata": {},
   "outputs": [],
   "source": []
  }
 ],
 "metadata": {
  "kernelspec": {
   "display_name": "Python 3",
   "language": "python",
   "name": "python3"
  },
  "language_info": {
   "codemirror_mode": {
    "name": "ipython",
    "version": 3
   },
   "file_extension": ".py",
   "mimetype": "text/x-python",
   "name": "python",
   "nbconvert_exporter": "python",
   "pygments_lexer": "ipython3",
   "version": "3.8.8"
  }
 },
 "nbformat": 4,
 "nbformat_minor": 5
}
