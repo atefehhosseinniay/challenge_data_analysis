{
 "cells": [
  {
   "cell_type": "markdown",
   "id": "ea2034ef",
   "metadata": {},
   "source": [
    "## import library"
   ]
  },
  {
   "cell_type": "code",
   "execution_count": 1,
   "id": "68d4722e",
   "metadata": {},
   "outputs": [],
   "source": [
    "import pandas as pd\n"
   ]
  },
  {
   "cell_type": "markdown",
   "id": "40c55b17",
   "metadata": {},
   "source": [
    "## import dataset"
   ]
  },
  {
   "cell_type": "code",
   "execution_count": 2,
   "id": "2bcfa8d1",
   "metadata": {},
   "outputs": [],
   "source": [
    "#dataset from project web scrapping \n",
    "df=pd.read_csv('houses_1.csv')"
   ]
  },
  {
   "cell_type": "code",
   "execution_count": 3,
   "id": "8d565c75",
   "metadata": {},
   "outputs": [
    {
     "data": {
      "text/html": [
       "<div>\n",
       "<style scoped>\n",
       "    .dataframe tbody tr th:only-of-type {\n",
       "        vertical-align: middle;\n",
       "    }\n",
       "\n",
       "    .dataframe tbody tr th {\n",
       "        vertical-align: top;\n",
       "    }\n",
       "\n",
       "    .dataframe thead th {\n",
       "        text-align: right;\n",
       "    }\n",
       "</style>\n",
       "<table border=\"1\" class=\"dataframe\">\n",
       "  <thead>\n",
       "    <tr style=\"text-align: right;\">\n",
       "      <th></th>\n",
       "      <th>location</th>\n",
       "      <th>type</th>\n",
       "      <th>subtype</th>\n",
       "      <th>price</th>\n",
       "      <th>room_number</th>\n",
       "      <th>area</th>\n",
       "      <th>kitchen_equipped</th>\n",
       "      <th>furnished</th>\n",
       "      <th>fireplace</th>\n",
       "      <th>terrace</th>\n",
       "      <th>terrace_area</th>\n",
       "      <th>garden</th>\n",
       "      <th>garden_area</th>\n",
       "      <th>land_surface</th>\n",
       "      <th>facade_count</th>\n",
       "      <th>swimming_pool</th>\n",
       "      <th>building_condition</th>\n",
       "    </tr>\n",
       "  </thead>\n",
       "  <tbody>\n",
       "    <tr>\n",
       "      <th>0</th>\n",
       "      <td>6800</td>\n",
       "      <td>HOUSE</td>\n",
       "      <td>HOUSE</td>\n",
       "      <td>295000.0</td>\n",
       "      <td>5</td>\n",
       "      <td>460.0</td>\n",
       "      <td>1</td>\n",
       "      <td>0</td>\n",
       "      <td>0</td>\n",
       "      <td>1</td>\n",
       "      <td>10.0</td>\n",
       "      <td>0</td>\n",
       "      <td>NaN</td>\n",
       "      <td>321.0</td>\n",
       "      <td>2.0</td>\n",
       "      <td>0</td>\n",
       "      <td>TO_BE_DONE_UP</td>\n",
       "    </tr>\n",
       "    <tr>\n",
       "      <th>1</th>\n",
       "      <td>7800</td>\n",
       "      <td>HOUSE</td>\n",
       "      <td>HOUSE</td>\n",
       "      <td>230000.0</td>\n",
       "      <td>4</td>\n",
       "      <td>128.0</td>\n",
       "      <td>0</td>\n",
       "      <td>0</td>\n",
       "      <td>0</td>\n",
       "      <td>0</td>\n",
       "      <td>NaN</td>\n",
       "      <td>0</td>\n",
       "      <td>NaN</td>\n",
       "      <td>570.0</td>\n",
       "      <td>4.0</td>\n",
       "      <td>0</td>\n",
       "      <td>NaN</td>\n",
       "    </tr>\n",
       "    <tr>\n",
       "      <th>2</th>\n",
       "      <td>8760</td>\n",
       "      <td>HOUSE</td>\n",
       "      <td>HOUSE</td>\n",
       "      <td>145000.0</td>\n",
       "      <td>6</td>\n",
       "      <td>NaN</td>\n",
       "      <td>0</td>\n",
       "      <td>0</td>\n",
       "      <td>0</td>\n",
       "      <td>0</td>\n",
       "      <td>NaN</td>\n",
       "      <td>1</td>\n",
       "      <td>NaN</td>\n",
       "      <td>233.0</td>\n",
       "      <td>NaN</td>\n",
       "      <td>0</td>\n",
       "      <td>TO_RENOVATE</td>\n",
       "    </tr>\n",
       "    <tr>\n",
       "      <th>3</th>\n",
       "      <td>6044</td>\n",
       "      <td>HOUSE</td>\n",
       "      <td>HOUSE</td>\n",
       "      <td>130000.0</td>\n",
       "      <td>2</td>\n",
       "      <td>110.0</td>\n",
       "      <td>1</td>\n",
       "      <td>1</td>\n",
       "      <td>0</td>\n",
       "      <td>1</td>\n",
       "      <td>NaN</td>\n",
       "      <td>1</td>\n",
       "      <td>300.0</td>\n",
       "      <td>470.0</td>\n",
       "      <td>3.0</td>\n",
       "      <td>0</td>\n",
       "      <td>TO_BE_DONE_UP</td>\n",
       "    </tr>\n",
       "    <tr>\n",
       "      <th>4</th>\n",
       "      <td>4970</td>\n",
       "      <td>HOUSE</td>\n",
       "      <td>HOUSE</td>\n",
       "      <td>450000.0</td>\n",
       "      <td>9</td>\n",
       "      <td>400.0</td>\n",
       "      <td>1</td>\n",
       "      <td>0</td>\n",
       "      <td>0</td>\n",
       "      <td>0</td>\n",
       "      <td>NaN</td>\n",
       "      <td>1</td>\n",
       "      <td>1300.0</td>\n",
       "      <td>1500.0</td>\n",
       "      <td>4.0</td>\n",
       "      <td>0</td>\n",
       "      <td>NaN</td>\n",
       "    </tr>\n",
       "  </tbody>\n",
       "</table>\n",
       "</div>"
      ],
      "text/plain": [
       "   location   type subtype     price  room_number   area  kitchen_equipped  \\\n",
       "0      6800  HOUSE   HOUSE  295000.0            5  460.0                 1   \n",
       "1      7800  HOUSE   HOUSE  230000.0            4  128.0                 0   \n",
       "2      8760  HOUSE   HOUSE  145000.0            6    NaN                 0   \n",
       "3      6044  HOUSE   HOUSE  130000.0            2  110.0                 1   \n",
       "4      4970  HOUSE   HOUSE  450000.0            9  400.0                 1   \n",
       "\n",
       "   furnished  fireplace  terrace  terrace_area  garden  garden_area  \\\n",
       "0          0          0        1          10.0       0          NaN   \n",
       "1          0          0        0           NaN       0          NaN   \n",
       "2          0          0        0           NaN       1          NaN   \n",
       "3          1          0        1           NaN       1        300.0   \n",
       "4          0          0        0           NaN       1       1300.0   \n",
       "\n",
       "   land_surface  facade_count  swimming_pool building_condition  \n",
       "0         321.0           2.0              0      TO_BE_DONE_UP  \n",
       "1         570.0           4.0              0                NaN  \n",
       "2         233.0           NaN              0        TO_RENOVATE  \n",
       "3         470.0           3.0              0      TO_BE_DONE_UP  \n",
       "4        1500.0           4.0              0                NaN  "
      ]
     },
     "execution_count": 3,
     "metadata": {},
     "output_type": "execute_result"
    }
   ],
   "source": [
    "df.head()"
   ]
  },
  {
   "cell_type": "code",
   "execution_count": 4,
   "id": "5f45c7b5",
   "metadata": {},
   "outputs": [
    {
     "name": "stdout",
     "output_type": "stream",
     "text": [
      "<class 'pandas.core.frame.DataFrame'>\n",
      "RangeIndex: 18250 entries, 0 to 18249\n",
      "Data columns (total 17 columns):\n",
      " #   Column              Non-Null Count  Dtype  \n",
      "---  ------              --------------  -----  \n",
      " 0   location            18250 non-null  int64  \n",
      " 1   type                18250 non-null  object \n",
      " 2   subtype             18250 non-null  object \n",
      " 3   price               18246 non-null  float64\n",
      " 4   room_number         18250 non-null  int64  \n",
      " 5   area                16384 non-null  float64\n",
      " 6   kitchen_equipped    18250 non-null  int64  \n",
      " 7   furnished           18250 non-null  int64  \n",
      " 8   fireplace           18250 non-null  int64  \n",
      " 9   terrace             18250 non-null  int64  \n",
      " 10  terrace_area        7956 non-null   float64\n",
      " 11  garden              18250 non-null  int64  \n",
      " 12  garden_area         3728 non-null   float64\n",
      " 13  land_surface        9560 non-null   float64\n",
      " 14  facade_count        12550 non-null  float64\n",
      " 15  swimming_pool       18250 non-null  int64  \n",
      " 16  building_condition  13904 non-null  object \n",
      "dtypes: float64(6), int64(8), object(3)\n",
      "memory usage: 2.2+ MB\n"
     ]
    }
   ],
   "source": [
    "df.info()\n"
   ]
  },
  {
   "cell_type": "code",
   "execution_count": 5,
   "id": "caf96737",
   "metadata": {},
   "outputs": [
    {
     "data": {
      "text/plain": [
       "(18250, 17)"
      ]
     },
     "execution_count": 5,
     "metadata": {},
     "output_type": "execute_result"
    }
   ],
   "source": [
    "df.shape"
   ]
  },
  {
   "cell_type": "code",
   "execution_count": 6,
   "id": "790039e2",
   "metadata": {},
   "outputs": [
    {
     "data": {
      "text/plain": [
       "Index(['location', 'type', 'subtype', 'price', 'room_number', 'area',\n",
       "       'kitchen_equipped', 'furnished', 'fireplace', 'terrace', 'terrace_area',\n",
       "       'garden', 'garden_area', 'land_surface', 'facade_count',\n",
       "       'swimming_pool', 'building_condition'],\n",
       "      dtype='object')"
      ]
     },
     "execution_count": 6,
     "metadata": {},
     "output_type": "execute_result"
    }
   ],
   "source": [
    "df.columns"
   ]
  },
  {
   "cell_type": "code",
   "execution_count": 7,
   "id": "3c7001d1",
   "metadata": {},
   "outputs": [
    {
     "data": {
      "text/plain": [
       "location                int64\n",
       "type                   object\n",
       "subtype                object\n",
       "price                 float64\n",
       "room_number             int64\n",
       "area                  float64\n",
       "kitchen_equipped        int64\n",
       "furnished               int64\n",
       "fireplace               int64\n",
       "terrace                 int64\n",
       "terrace_area          float64\n",
       "garden                  int64\n",
       "garden_area           float64\n",
       "land_surface          float64\n",
       "facade_count          float64\n",
       "swimming_pool           int64\n",
       "building_condition     object\n",
       "dtype: object"
      ]
     },
     "execution_count": 7,
     "metadata": {},
     "output_type": "execute_result"
    }
   ],
   "source": [
    "df.dtypes"
   ]
  },
  {
   "cell_type": "markdown",
   "id": "be5d62b2",
   "metadata": {},
   "source": [
    "### not value"
   ]
  },
  {
   "cell_type": "code",
   "execution_count": 8,
   "id": "90005fb4",
   "metadata": {},
   "outputs": [
    {
     "data": {
      "text/plain": [
       "location                  0\n",
       "type                      0\n",
       "subtype                   0\n",
       "price                     4\n",
       "room_number               0\n",
       "area                   1866\n",
       "kitchen_equipped          0\n",
       "furnished                 0\n",
       "fireplace                 0\n",
       "terrace                   0\n",
       "terrace_area          10294\n",
       "garden                    0\n",
       "garden_area           14522\n",
       "land_surface           8690\n",
       "facade_count           5700\n",
       "swimming_pool             0\n",
       "building_condition     4346\n",
       "dtype: int64"
      ]
     },
     "execution_count": 8,
     "metadata": {},
     "output_type": "execute_result"
    }
   ],
   "source": [
    "df.isna().sum()"
   ]
  },
  {
   "cell_type": "code",
   "execution_count": 9,
   "id": "c21788ed",
   "metadata": {},
   "outputs": [
    {
     "data": {
      "text/plain": [
       "14113       1000.0\n",
       "2048        5000.0\n",
       "7260       10000.0\n",
       "9743       10000.0\n",
       "12988      15000.0\n",
       "           ...    \n",
       "13555    9999999.0\n",
       "647            NaN\n",
       "983            NaN\n",
       "3300           NaN\n",
       "7177           NaN\n",
       "Name: price, Length: 18250, dtype: float64"
      ]
     },
     "execution_count": 9,
     "metadata": {},
     "output_type": "execute_result"
    }
   ],
   "source": [
    "df.price.sort_values()"
   ]
  },
  {
   "cell_type": "code",
   "execution_count": 10,
   "id": "52ba2d3b",
   "metadata": {},
   "outputs": [],
   "source": [
    "#drop rows with not value for price \n",
    "df=df.drop(df.index[[647,983,3300,7177]])\n"
   ]
  },
  {
   "cell_type": "code",
   "execution_count": 11,
   "id": "2444ad81",
   "metadata": {},
   "outputs": [
    {
     "data": {
      "text/plain": [
       "(18246, 17)"
      ]
     },
     "execution_count": 11,
     "metadata": {},
     "output_type": "execute_result"
    }
   ],
   "source": [
    "df.shape"
   ]
  },
  {
   "cell_type": "code",
   "execution_count": 12,
   "id": "bcd1bc71",
   "metadata": {},
   "outputs": [
    {
     "data": {
      "text/plain": [
       "location                  0\n",
       "type                      0\n",
       "subtype                   0\n",
       "price                     0\n",
       "room_number               0\n",
       "area                   1863\n",
       "kitchen_equipped          0\n",
       "furnished                 0\n",
       "fireplace                 0\n",
       "terrace                   0\n",
       "terrace_area          10290\n",
       "garden                    0\n",
       "garden_area           14519\n",
       "land_surface           8690\n",
       "facade_count           5700\n",
       "swimming_pool             0\n",
       "building_condition     4345\n",
       "dtype: int64"
      ]
     },
     "execution_count": 12,
     "metadata": {},
     "output_type": "execute_result"
    }
   ],
   "source": [
    "df.isna().sum()"
   ]
  },
  {
   "cell_type": "code",
   "execution_count": 13,
   "id": "4746945d",
   "metadata": {},
   "outputs": [
    {
     "data": {
      "text/html": [
       "<div>\n",
       "<style scoped>\n",
       "    .dataframe tbody tr th:only-of-type {\n",
       "        vertical-align: middle;\n",
       "    }\n",
       "\n",
       "    .dataframe tbody tr th {\n",
       "        vertical-align: top;\n",
       "    }\n",
       "\n",
       "    .dataframe thead th {\n",
       "        text-align: right;\n",
       "    }\n",
       "</style>\n",
       "<table border=\"1\" class=\"dataframe\">\n",
       "  <thead>\n",
       "    <tr style=\"text-align: right;\">\n",
       "      <th></th>\n",
       "      <th>location</th>\n",
       "      <th>type</th>\n",
       "      <th>subtype</th>\n",
       "      <th>price</th>\n",
       "      <th>room_number</th>\n",
       "      <th>area</th>\n",
       "      <th>kitchen_equipped</th>\n",
       "      <th>furnished</th>\n",
       "      <th>fireplace</th>\n",
       "      <th>terrace</th>\n",
       "      <th>terrace_area</th>\n",
       "      <th>garden</th>\n",
       "      <th>garden_area</th>\n",
       "      <th>land_surface</th>\n",
       "      <th>facade_count</th>\n",
       "      <th>swimming_pool</th>\n",
       "      <th>building_condition</th>\n",
       "    </tr>\n",
       "  </thead>\n",
       "  <tbody>\n",
       "    <tr>\n",
       "      <th>0</th>\n",
       "      <td>6800</td>\n",
       "      <td>HOUSE</td>\n",
       "      <td>HOUSE</td>\n",
       "      <td>295000.0</td>\n",
       "      <td>5</td>\n",
       "      <td>460.0</td>\n",
       "      <td>1</td>\n",
       "      <td>0</td>\n",
       "      <td>0</td>\n",
       "      <td>1</td>\n",
       "      <td>10.0</td>\n",
       "      <td>0</td>\n",
       "      <td>None</td>\n",
       "      <td>321.0</td>\n",
       "      <td>2.0</td>\n",
       "      <td>0</td>\n",
       "      <td>TO_BE_DONE_UP</td>\n",
       "    </tr>\n",
       "    <tr>\n",
       "      <th>1</th>\n",
       "      <td>7800</td>\n",
       "      <td>HOUSE</td>\n",
       "      <td>HOUSE</td>\n",
       "      <td>230000.0</td>\n",
       "      <td>4</td>\n",
       "      <td>128.0</td>\n",
       "      <td>0</td>\n",
       "      <td>0</td>\n",
       "      <td>0</td>\n",
       "      <td>0</td>\n",
       "      <td>None</td>\n",
       "      <td>0</td>\n",
       "      <td>None</td>\n",
       "      <td>570.0</td>\n",
       "      <td>4.0</td>\n",
       "      <td>0</td>\n",
       "      <td>None</td>\n",
       "    </tr>\n",
       "    <tr>\n",
       "      <th>2</th>\n",
       "      <td>8760</td>\n",
       "      <td>HOUSE</td>\n",
       "      <td>HOUSE</td>\n",
       "      <td>145000.0</td>\n",
       "      <td>6</td>\n",
       "      <td>None</td>\n",
       "      <td>0</td>\n",
       "      <td>0</td>\n",
       "      <td>0</td>\n",
       "      <td>0</td>\n",
       "      <td>None</td>\n",
       "      <td>1</td>\n",
       "      <td>None</td>\n",
       "      <td>233.0</td>\n",
       "      <td>None</td>\n",
       "      <td>0</td>\n",
       "      <td>TO_RENOVATE</td>\n",
       "    </tr>\n",
       "    <tr>\n",
       "      <th>3</th>\n",
       "      <td>6044</td>\n",
       "      <td>HOUSE</td>\n",
       "      <td>HOUSE</td>\n",
       "      <td>130000.0</td>\n",
       "      <td>2</td>\n",
       "      <td>110.0</td>\n",
       "      <td>1</td>\n",
       "      <td>1</td>\n",
       "      <td>0</td>\n",
       "      <td>1</td>\n",
       "      <td>None</td>\n",
       "      <td>1</td>\n",
       "      <td>300.0</td>\n",
       "      <td>470.0</td>\n",
       "      <td>3.0</td>\n",
       "      <td>0</td>\n",
       "      <td>TO_BE_DONE_UP</td>\n",
       "    </tr>\n",
       "    <tr>\n",
       "      <th>4</th>\n",
       "      <td>4970</td>\n",
       "      <td>HOUSE</td>\n",
       "      <td>HOUSE</td>\n",
       "      <td>450000.0</td>\n",
       "      <td>9</td>\n",
       "      <td>400.0</td>\n",
       "      <td>1</td>\n",
       "      <td>0</td>\n",
       "      <td>0</td>\n",
       "      <td>0</td>\n",
       "      <td>None</td>\n",
       "      <td>1</td>\n",
       "      <td>1300.0</td>\n",
       "      <td>1500.0</td>\n",
       "      <td>4.0</td>\n",
       "      <td>0</td>\n",
       "      <td>None</td>\n",
       "    </tr>\n",
       "    <tr>\n",
       "      <th>...</th>\n",
       "      <td>...</td>\n",
       "      <td>...</td>\n",
       "      <td>...</td>\n",
       "      <td>...</td>\n",
       "      <td>...</td>\n",
       "      <td>...</td>\n",
       "      <td>...</td>\n",
       "      <td>...</td>\n",
       "      <td>...</td>\n",
       "      <td>...</td>\n",
       "      <td>...</td>\n",
       "      <td>...</td>\n",
       "      <td>...</td>\n",
       "      <td>...</td>\n",
       "      <td>...</td>\n",
       "      <td>...</td>\n",
       "      <td>...</td>\n",
       "    </tr>\n",
       "    <tr>\n",
       "      <th>18245</th>\n",
       "      <td>8300</td>\n",
       "      <td>HOUSE</td>\n",
       "      <td>HOUSE</td>\n",
       "      <td>1495000.0</td>\n",
       "      <td>4</td>\n",
       "      <td>None</td>\n",
       "      <td>0</td>\n",
       "      <td>0</td>\n",
       "      <td>0</td>\n",
       "      <td>1</td>\n",
       "      <td>None</td>\n",
       "      <td>1</td>\n",
       "      <td>None</td>\n",
       "      <td>813.0</td>\n",
       "      <td>None</td>\n",
       "      <td>0</td>\n",
       "      <td>None</td>\n",
       "    </tr>\n",
       "    <tr>\n",
       "      <th>18246</th>\n",
       "      <td>2140</td>\n",
       "      <td>HOUSE</td>\n",
       "      <td>HOUSE</td>\n",
       "      <td>435000.0</td>\n",
       "      <td>4</td>\n",
       "      <td>200.0</td>\n",
       "      <td>1</td>\n",
       "      <td>0</td>\n",
       "      <td>0</td>\n",
       "      <td>1</td>\n",
       "      <td>15.0</td>\n",
       "      <td>1</td>\n",
       "      <td>120.0</td>\n",
       "      <td>248.0</td>\n",
       "      <td>2.0</td>\n",
       "      <td>0</td>\n",
       "      <td>AS_NEW</td>\n",
       "    </tr>\n",
       "    <tr>\n",
       "      <th>18247</th>\n",
       "      <td>4367</td>\n",
       "      <td>HOUSE</td>\n",
       "      <td>VILLA</td>\n",
       "      <td>375000.0</td>\n",
       "      <td>3</td>\n",
       "      <td>117.0</td>\n",
       "      <td>1</td>\n",
       "      <td>0</td>\n",
       "      <td>0</td>\n",
       "      <td>1</td>\n",
       "      <td>25.0</td>\n",
       "      <td>1</td>\n",
       "      <td>891.0</td>\n",
       "      <td>1002.0</td>\n",
       "      <td>4.0</td>\n",
       "      <td>0</td>\n",
       "      <td>GOOD</td>\n",
       "    </tr>\n",
       "    <tr>\n",
       "      <th>18248</th>\n",
       "      <td>8210</td>\n",
       "      <td>HOUSE</td>\n",
       "      <td>VILLA</td>\n",
       "      <td>435000.0</td>\n",
       "      <td>4</td>\n",
       "      <td>282.0</td>\n",
       "      <td>1</td>\n",
       "      <td>0</td>\n",
       "      <td>1</td>\n",
       "      <td>1</td>\n",
       "      <td>None</td>\n",
       "      <td>1</td>\n",
       "      <td>None</td>\n",
       "      <td>989.0</td>\n",
       "      <td>None</td>\n",
       "      <td>0</td>\n",
       "      <td>None</td>\n",
       "    </tr>\n",
       "    <tr>\n",
       "      <th>18249</th>\n",
       "      <td>1480</td>\n",
       "      <td>HOUSE</td>\n",
       "      <td>HOUSE</td>\n",
       "      <td>450000.0</td>\n",
       "      <td>4</td>\n",
       "      <td>180.0</td>\n",
       "      <td>1</td>\n",
       "      <td>0</td>\n",
       "      <td>1</td>\n",
       "      <td>1</td>\n",
       "      <td>None</td>\n",
       "      <td>0</td>\n",
       "      <td>None</td>\n",
       "      <td>1389.0</td>\n",
       "      <td>4.0</td>\n",
       "      <td>0</td>\n",
       "      <td>GOOD</td>\n",
       "    </tr>\n",
       "  </tbody>\n",
       "</table>\n",
       "<p>18246 rows × 17 columns</p>\n",
       "</div>"
      ],
      "text/plain": [
       "       location   type subtype      price  room_number   area  \\\n",
       "0          6800  HOUSE   HOUSE   295000.0            5  460.0   \n",
       "1          7800  HOUSE   HOUSE   230000.0            4  128.0   \n",
       "2          8760  HOUSE   HOUSE   145000.0            6   None   \n",
       "3          6044  HOUSE   HOUSE   130000.0            2  110.0   \n",
       "4          4970  HOUSE   HOUSE   450000.0            9  400.0   \n",
       "...         ...    ...     ...        ...          ...    ...   \n",
       "18245      8300  HOUSE   HOUSE  1495000.0            4   None   \n",
       "18246      2140  HOUSE   HOUSE   435000.0            4  200.0   \n",
       "18247      4367  HOUSE   VILLA   375000.0            3  117.0   \n",
       "18248      8210  HOUSE   VILLA   435000.0            4  282.0   \n",
       "18249      1480  HOUSE   HOUSE   450000.0            4  180.0   \n",
       "\n",
       "       kitchen_equipped  furnished  fireplace  terrace terrace_area  garden  \\\n",
       "0                     1          0          0        1         10.0       0   \n",
       "1                     0          0          0        0         None       0   \n",
       "2                     0          0          0        0         None       1   \n",
       "3                     1          1          0        1         None       1   \n",
       "4                     1          0          0        0         None       1   \n",
       "...                 ...        ...        ...      ...          ...     ...   \n",
       "18245                 0          0          0        1         None       1   \n",
       "18246                 1          0          0        1         15.0       1   \n",
       "18247                 1          0          0        1         25.0       1   \n",
       "18248                 1          0          1        1         None       1   \n",
       "18249                 1          0          1        1         None       0   \n",
       "\n",
       "      garden_area land_surface facade_count  swimming_pool building_condition  \n",
       "0            None        321.0          2.0              0      TO_BE_DONE_UP  \n",
       "1            None        570.0          4.0              0               None  \n",
       "2            None        233.0         None              0        TO_RENOVATE  \n",
       "3           300.0        470.0          3.0              0      TO_BE_DONE_UP  \n",
       "4          1300.0       1500.0          4.0              0               None  \n",
       "...           ...          ...          ...            ...                ...  \n",
       "18245        None        813.0         None              0               None  \n",
       "18246       120.0        248.0          2.0              0             AS_NEW  \n",
       "18247       891.0       1002.0          4.0              0               GOOD  \n",
       "18248        None        989.0         None              0               None  \n",
       "18249        None       1389.0          4.0              0               GOOD  \n",
       "\n",
       "[18246 rows x 17 columns]"
      ]
     },
     "execution_count": 13,
     "metadata": {},
     "output_type": "execute_result"
    }
   ],
   "source": [
    "#replace all NaN with 'None'\n",
    "\n",
    "df=df.fillna('None')\n",
    "df"
   ]
  },
  {
   "cell_type": "code",
   "execution_count": null,
   "id": "8ed9031d",
   "metadata": {},
   "outputs": [],
   "source": []
  },
  {
   "cell_type": "code",
   "execution_count": null,
   "id": "992cf86a",
   "metadata": {},
   "outputs": [],
   "source": []
  },
  {
   "cell_type": "markdown",
   "id": "65da877b",
   "metadata": {},
   "source": [
    "## cleaning different columns"
   ]
  },
  {
   "cell_type": "markdown",
   "id": "de325122",
   "metadata": {},
   "source": [
    "### price"
   ]
  },
  {
   "cell_type": "code",
   "execution_count": 14,
   "id": "57e8c7e0",
   "metadata": {},
   "outputs": [
    {
     "data": {
      "text/plain": [
       "295000.0    240\n",
       "249000.0    239\n",
       "299000.0    237\n",
       "275000.0    209\n",
       "225000.0    197\n",
       "           ... \n",
       "499185.0      1\n",
       "154500.0      1\n",
       "436050.0      1\n",
       "584750.0      1\n",
       "283700.0      1\n",
       "Name: price, Length: 1948, dtype: int64"
      ]
     },
     "execution_count": 14,
     "metadata": {},
     "output_type": "execute_result"
    }
   ],
   "source": [
    "df.price.value_counts()"
   ]
  },
  {
   "cell_type": "code",
   "execution_count": 15,
   "id": "1cfdd897",
   "metadata": {},
   "outputs": [
    {
     "data": {
      "text/plain": [
       "0"
      ]
     },
     "execution_count": 15,
     "metadata": {},
     "output_type": "execute_result"
    }
   ],
   "source": [
    "df.price.isna().sum()"
   ]
  },
  {
   "cell_type": "code",
   "execution_count": 16,
   "id": "ded20847",
   "metadata": {},
   "outputs": [
    {
     "data": {
      "text/plain": [
       "dtype('float64')"
      ]
     },
     "execution_count": 16,
     "metadata": {},
     "output_type": "execute_result"
    }
   ],
   "source": [
    "df.price.dtype"
   ]
  },
  {
   "cell_type": "code",
   "execution_count": 17,
   "id": "73ab6b9d",
   "metadata": {
    "scrolled": true
   },
   "outputs": [
    {
     "data": {
      "text/plain": [
       "14113       1000.0\n",
       "2048        5000.0\n",
       "7260       10000.0\n",
       "9743       10000.0\n",
       "12988      15000.0\n",
       "           ...    \n",
       "8210     9500000.0\n",
       "15492    9500000.0\n",
       "7773     9500000.0\n",
       "14495    9500000.0\n",
       "13555    9999999.0\n",
       "Name: price, Length: 18246, dtype: float64"
      ]
     },
     "execution_count": 17,
     "metadata": {},
     "output_type": "execute_result"
    }
   ],
   "source": [
    "df.price.sort_values(ascending=True)"
   ]
  },
  {
   "cell_type": "code",
   "execution_count": 18,
   "id": "4825516e",
   "metadata": {},
   "outputs": [],
   "source": [
    "df=df[df.price>50000]"
   ]
  },
  {
   "cell_type": "code",
   "execution_count": 19,
   "id": "4310a1bb",
   "metadata": {},
   "outputs": [
    {
     "name": "stderr",
     "output_type": "stream",
     "text": [
      "C:\\Users\\atefe\\anaconda3\\lib\\site-packages\\pandas\\core\\generic.py:5494: SettingWithCopyWarning: \n",
      "A value is trying to be set on a copy of a slice from a DataFrame.\n",
      "Try using .loc[row_indexer,col_indexer] = value instead\n",
      "\n",
      "See the caveats in the documentation: https://pandas.pydata.org/pandas-docs/stable/user_guide/indexing.html#returning-a-view-versus-a-copy\n",
      "  self[name] = value\n"
     ]
    }
   ],
   "source": [
    "df.price=df.price.astype(int)"
   ]
  },
  {
   "cell_type": "code",
   "execution_count": 20,
   "id": "bf562d8d",
   "metadata": {},
   "outputs": [
    {
     "data": {
      "text/html": [
       "<div>\n",
       "<style scoped>\n",
       "    .dataframe tbody tr th:only-of-type {\n",
       "        vertical-align: middle;\n",
       "    }\n",
       "\n",
       "    .dataframe tbody tr th {\n",
       "        vertical-align: top;\n",
       "    }\n",
       "\n",
       "    .dataframe thead th {\n",
       "        text-align: right;\n",
       "    }\n",
       "</style>\n",
       "<table border=\"1\" class=\"dataframe\">\n",
       "  <thead>\n",
       "    <tr style=\"text-align: right;\">\n",
       "      <th></th>\n",
       "      <th>location</th>\n",
       "      <th>type</th>\n",
       "      <th>subtype</th>\n",
       "      <th>price</th>\n",
       "      <th>room_number</th>\n",
       "      <th>area</th>\n",
       "      <th>kitchen_equipped</th>\n",
       "      <th>furnished</th>\n",
       "      <th>fireplace</th>\n",
       "      <th>terrace</th>\n",
       "      <th>terrace_area</th>\n",
       "      <th>garden</th>\n",
       "      <th>garden_area</th>\n",
       "      <th>land_surface</th>\n",
       "      <th>facade_count</th>\n",
       "      <th>swimming_pool</th>\n",
       "      <th>building_condition</th>\n",
       "    </tr>\n",
       "  </thead>\n",
       "  <tbody>\n",
       "    <tr>\n",
       "      <th>0</th>\n",
       "      <td>6800</td>\n",
       "      <td>HOUSE</td>\n",
       "      <td>HOUSE</td>\n",
       "      <td>295000</td>\n",
       "      <td>5</td>\n",
       "      <td>460.0</td>\n",
       "      <td>1</td>\n",
       "      <td>0</td>\n",
       "      <td>0</td>\n",
       "      <td>1</td>\n",
       "      <td>10.0</td>\n",
       "      <td>0</td>\n",
       "      <td>None</td>\n",
       "      <td>321.0</td>\n",
       "      <td>2.0</td>\n",
       "      <td>0</td>\n",
       "      <td>TO_BE_DONE_UP</td>\n",
       "    </tr>\n",
       "    <tr>\n",
       "      <th>1</th>\n",
       "      <td>7800</td>\n",
       "      <td>HOUSE</td>\n",
       "      <td>HOUSE</td>\n",
       "      <td>230000</td>\n",
       "      <td>4</td>\n",
       "      <td>128.0</td>\n",
       "      <td>0</td>\n",
       "      <td>0</td>\n",
       "      <td>0</td>\n",
       "      <td>0</td>\n",
       "      <td>None</td>\n",
       "      <td>0</td>\n",
       "      <td>None</td>\n",
       "      <td>570.0</td>\n",
       "      <td>4.0</td>\n",
       "      <td>0</td>\n",
       "      <td>None</td>\n",
       "    </tr>\n",
       "    <tr>\n",
       "      <th>2</th>\n",
       "      <td>8760</td>\n",
       "      <td>HOUSE</td>\n",
       "      <td>HOUSE</td>\n",
       "      <td>145000</td>\n",
       "      <td>6</td>\n",
       "      <td>None</td>\n",
       "      <td>0</td>\n",
       "      <td>0</td>\n",
       "      <td>0</td>\n",
       "      <td>0</td>\n",
       "      <td>None</td>\n",
       "      <td>1</td>\n",
       "      <td>None</td>\n",
       "      <td>233.0</td>\n",
       "      <td>None</td>\n",
       "      <td>0</td>\n",
       "      <td>TO_RENOVATE</td>\n",
       "    </tr>\n",
       "    <tr>\n",
       "      <th>3</th>\n",
       "      <td>6044</td>\n",
       "      <td>HOUSE</td>\n",
       "      <td>HOUSE</td>\n",
       "      <td>130000</td>\n",
       "      <td>2</td>\n",
       "      <td>110.0</td>\n",
       "      <td>1</td>\n",
       "      <td>1</td>\n",
       "      <td>0</td>\n",
       "      <td>1</td>\n",
       "      <td>None</td>\n",
       "      <td>1</td>\n",
       "      <td>300.0</td>\n",
       "      <td>470.0</td>\n",
       "      <td>3.0</td>\n",
       "      <td>0</td>\n",
       "      <td>TO_BE_DONE_UP</td>\n",
       "    </tr>\n",
       "    <tr>\n",
       "      <th>4</th>\n",
       "      <td>4970</td>\n",
       "      <td>HOUSE</td>\n",
       "      <td>HOUSE</td>\n",
       "      <td>450000</td>\n",
       "      <td>9</td>\n",
       "      <td>400.0</td>\n",
       "      <td>1</td>\n",
       "      <td>0</td>\n",
       "      <td>0</td>\n",
       "      <td>0</td>\n",
       "      <td>None</td>\n",
       "      <td>1</td>\n",
       "      <td>1300.0</td>\n",
       "      <td>1500.0</td>\n",
       "      <td>4.0</td>\n",
       "      <td>0</td>\n",
       "      <td>None</td>\n",
       "    </tr>\n",
       "    <tr>\n",
       "      <th>...</th>\n",
       "      <td>...</td>\n",
       "      <td>...</td>\n",
       "      <td>...</td>\n",
       "      <td>...</td>\n",
       "      <td>...</td>\n",
       "      <td>...</td>\n",
       "      <td>...</td>\n",
       "      <td>...</td>\n",
       "      <td>...</td>\n",
       "      <td>...</td>\n",
       "      <td>...</td>\n",
       "      <td>...</td>\n",
       "      <td>...</td>\n",
       "      <td>...</td>\n",
       "      <td>...</td>\n",
       "      <td>...</td>\n",
       "      <td>...</td>\n",
       "    </tr>\n",
       "    <tr>\n",
       "      <th>18245</th>\n",
       "      <td>8300</td>\n",
       "      <td>HOUSE</td>\n",
       "      <td>HOUSE</td>\n",
       "      <td>1495000</td>\n",
       "      <td>4</td>\n",
       "      <td>None</td>\n",
       "      <td>0</td>\n",
       "      <td>0</td>\n",
       "      <td>0</td>\n",
       "      <td>1</td>\n",
       "      <td>None</td>\n",
       "      <td>1</td>\n",
       "      <td>None</td>\n",
       "      <td>813.0</td>\n",
       "      <td>None</td>\n",
       "      <td>0</td>\n",
       "      <td>None</td>\n",
       "    </tr>\n",
       "    <tr>\n",
       "      <th>18246</th>\n",
       "      <td>2140</td>\n",
       "      <td>HOUSE</td>\n",
       "      <td>HOUSE</td>\n",
       "      <td>435000</td>\n",
       "      <td>4</td>\n",
       "      <td>200.0</td>\n",
       "      <td>1</td>\n",
       "      <td>0</td>\n",
       "      <td>0</td>\n",
       "      <td>1</td>\n",
       "      <td>15.0</td>\n",
       "      <td>1</td>\n",
       "      <td>120.0</td>\n",
       "      <td>248.0</td>\n",
       "      <td>2.0</td>\n",
       "      <td>0</td>\n",
       "      <td>AS_NEW</td>\n",
       "    </tr>\n",
       "    <tr>\n",
       "      <th>18247</th>\n",
       "      <td>4367</td>\n",
       "      <td>HOUSE</td>\n",
       "      <td>VILLA</td>\n",
       "      <td>375000</td>\n",
       "      <td>3</td>\n",
       "      <td>117.0</td>\n",
       "      <td>1</td>\n",
       "      <td>0</td>\n",
       "      <td>0</td>\n",
       "      <td>1</td>\n",
       "      <td>25.0</td>\n",
       "      <td>1</td>\n",
       "      <td>891.0</td>\n",
       "      <td>1002.0</td>\n",
       "      <td>4.0</td>\n",
       "      <td>0</td>\n",
       "      <td>GOOD</td>\n",
       "    </tr>\n",
       "    <tr>\n",
       "      <th>18248</th>\n",
       "      <td>8210</td>\n",
       "      <td>HOUSE</td>\n",
       "      <td>VILLA</td>\n",
       "      <td>435000</td>\n",
       "      <td>4</td>\n",
       "      <td>282.0</td>\n",
       "      <td>1</td>\n",
       "      <td>0</td>\n",
       "      <td>1</td>\n",
       "      <td>1</td>\n",
       "      <td>None</td>\n",
       "      <td>1</td>\n",
       "      <td>None</td>\n",
       "      <td>989.0</td>\n",
       "      <td>None</td>\n",
       "      <td>0</td>\n",
       "      <td>None</td>\n",
       "    </tr>\n",
       "    <tr>\n",
       "      <th>18249</th>\n",
       "      <td>1480</td>\n",
       "      <td>HOUSE</td>\n",
       "      <td>HOUSE</td>\n",
       "      <td>450000</td>\n",
       "      <td>4</td>\n",
       "      <td>180.0</td>\n",
       "      <td>1</td>\n",
       "      <td>0</td>\n",
       "      <td>1</td>\n",
       "      <td>1</td>\n",
       "      <td>None</td>\n",
       "      <td>0</td>\n",
       "      <td>None</td>\n",
       "      <td>1389.0</td>\n",
       "      <td>4.0</td>\n",
       "      <td>0</td>\n",
       "      <td>GOOD</td>\n",
       "    </tr>\n",
       "  </tbody>\n",
       "</table>\n",
       "<p>18158 rows × 17 columns</p>\n",
       "</div>"
      ],
      "text/plain": [
       "       location   type subtype    price  room_number   area  kitchen_equipped  \\\n",
       "0          6800  HOUSE   HOUSE   295000            5  460.0                 1   \n",
       "1          7800  HOUSE   HOUSE   230000            4  128.0                 0   \n",
       "2          8760  HOUSE   HOUSE   145000            6   None                 0   \n",
       "3          6044  HOUSE   HOUSE   130000            2  110.0                 1   \n",
       "4          4970  HOUSE   HOUSE   450000            9  400.0                 1   \n",
       "...         ...    ...     ...      ...          ...    ...               ...   \n",
       "18245      8300  HOUSE   HOUSE  1495000            4   None                 0   \n",
       "18246      2140  HOUSE   HOUSE   435000            4  200.0                 1   \n",
       "18247      4367  HOUSE   VILLA   375000            3  117.0                 1   \n",
       "18248      8210  HOUSE   VILLA   435000            4  282.0                 1   \n",
       "18249      1480  HOUSE   HOUSE   450000            4  180.0                 1   \n",
       "\n",
       "       furnished  fireplace  terrace terrace_area  garden garden_area  \\\n",
       "0              0          0        1         10.0       0        None   \n",
       "1              0          0        0         None       0        None   \n",
       "2              0          0        0         None       1        None   \n",
       "3              1          0        1         None       1       300.0   \n",
       "4              0          0        0         None       1      1300.0   \n",
       "...          ...        ...      ...          ...     ...         ...   \n",
       "18245          0          0        1         None       1        None   \n",
       "18246          0          0        1         15.0       1       120.0   \n",
       "18247          0          0        1         25.0       1       891.0   \n",
       "18248          0          1        1         None       1        None   \n",
       "18249          0          1        1         None       0        None   \n",
       "\n",
       "      land_surface facade_count  swimming_pool building_condition  \n",
       "0            321.0          2.0              0      TO_BE_DONE_UP  \n",
       "1            570.0          4.0              0               None  \n",
       "2            233.0         None              0        TO_RENOVATE  \n",
       "3            470.0          3.0              0      TO_BE_DONE_UP  \n",
       "4           1500.0          4.0              0               None  \n",
       "...            ...          ...            ...                ...  \n",
       "18245        813.0         None              0               None  \n",
       "18246        248.0          2.0              0             AS_NEW  \n",
       "18247       1002.0          4.0              0               GOOD  \n",
       "18248        989.0         None              0               None  \n",
       "18249       1389.0          4.0              0               GOOD  \n",
       "\n",
       "[18158 rows x 17 columns]"
      ]
     },
     "execution_count": 20,
     "metadata": {},
     "output_type": "execute_result"
    }
   ],
   "source": [
    "df"
   ]
  },
  {
   "cell_type": "code",
   "execution_count": 21,
   "id": "b766463a",
   "metadata": {},
   "outputs": [
    {
     "data": {
      "text/plain": [
       "count    1.815800e+04\n",
       "mean     4.643076e+05\n",
       "std      5.446284e+05\n",
       "min      5.250000e+04\n",
       "25%      2.250000e+05\n",
       "50%      3.100000e+05\n",
       "75%      4.767500e+05\n",
       "max      9.999999e+06\n",
       "Name: price, dtype: float64"
      ]
     },
     "execution_count": 21,
     "metadata": {},
     "output_type": "execute_result"
    }
   ],
   "source": [
    "df.price.describe()"
   ]
  },
  {
   "cell_type": "markdown",
   "id": "e71ecbc6",
   "metadata": {},
   "source": [
    "## type and sub-type op property , room_number, area"
   ]
  },
  {
   "cell_type": "code",
   "execution_count": 22,
   "id": "edcf0b91",
   "metadata": {},
   "outputs": [
    {
     "data": {
      "text/plain": [
       "HOUSE        9486\n",
       "APARTMENT    8672\n",
       "Name: type, dtype: int64"
      ]
     },
     "execution_count": 22,
     "metadata": {},
     "output_type": "execute_result"
    }
   ],
   "source": [
    "df.type.value_counts()"
   ]
  },
  {
   "cell_type": "code",
   "execution_count": 23,
   "id": "05bd0168",
   "metadata": {},
   "outputs": [
    {
     "data": {
      "text/plain": [
       "dtype('O')"
      ]
     },
     "execution_count": 23,
     "metadata": {},
     "output_type": "execute_result"
    }
   ],
   "source": [
    "df.type.dtype"
   ]
  },
  {
   "cell_type": "code",
   "execution_count": 24,
   "id": "51c934aa",
   "metadata": {},
   "outputs": [
    {
     "data": {
      "text/plain": [
       "HOUSE                   6774\n",
       "APARTMENT               6543\n",
       "VILLA                   1074\n",
       "PENTHOUSE                553\n",
       "DUPLEX                   534\n",
       "GROUND_FLOOR             471\n",
       "APARTMENT_BLOCK          391\n",
       "MIXED_USE_BUILDING       365\n",
       "EXCEPTIONAL_PROPERTY     270\n",
       "FLAT_STUDIO              265\n",
       "MANSION                  201\n",
       "SERVICE_FLAT             130\n",
       "LOFT                     121\n",
       "TOWN_HOUSE               116\n",
       "COUNTRY_COTTAGE          106\n",
       "BUNGALOW                  77\n",
       "FARMHOUSE                 42\n",
       "TRIPLEX                   40\n",
       "MANOR_HOUSE               22\n",
       "CASTLE                    21\n",
       "OTHER_PROPERTY            18\n",
       "KOT                       15\n",
       "CHALET                     9\n",
       "Name: subtype, dtype: int64"
      ]
     },
     "execution_count": 24,
     "metadata": {},
     "output_type": "execute_result"
    }
   ],
   "source": [
    "df.subtype.value_counts()"
   ]
  },
  {
   "cell_type": "code",
   "execution_count": 25,
   "id": "3f387522",
   "metadata": {},
   "outputs": [
    {
     "data": {
      "text/plain": [
       "HOUSE                   6774\n",
       "APARTMENT               6543\n",
       "VILLA                   1074\n",
       "PENTHOUSE                553\n",
       "DUPLEX                   534\n",
       "GROUND_FLOOR             471\n",
       "MIXED_USE_BUILDING       365\n",
       "EXCEPTIONAL_PROPERTY     270\n",
       "FLAT_STUDIO              265\n",
       "MANSION                  201\n",
       "SERVICE_FLAT             130\n",
       "LOFT                     121\n",
       "TOWN_HOUSE               116\n",
       "COUNTRY_COTTAGE          106\n",
       "BUNGALOW                  77\n",
       "FARMHOUSE                 42\n",
       "TRIPLEX                   40\n",
       "MANOR_HOUSE               22\n",
       "CASTLE                    21\n",
       "OTHER_PROPERTY            18\n",
       "KOT                       15\n",
       "CHALET                     9\n",
       "Name: subtype, dtype: int64"
      ]
     },
     "execution_count": 25,
     "metadata": {},
     "output_type": "execute_result"
    }
   ],
   "source": [
    "# drope APARTMENT_BLOCK\n",
    "df=df[df['subtype']!='APARTMENT_BLOCK']\n",
    "df.subtype.value_counts()"
   ]
  },
  {
   "cell_type": "code",
   "execution_count": 26,
   "id": "d14750e1",
   "metadata": {},
   "outputs": [
    {
     "data": {
      "text/plain": [
       "(17767, 17)"
      ]
     },
     "execution_count": 26,
     "metadata": {},
     "output_type": "execute_result"
    }
   ],
   "source": [
    "df.shape"
   ]
  },
  {
   "cell_type": "code",
   "execution_count": 27,
   "id": "aa961db3",
   "metadata": {},
   "outputs": [
    {
     "data": {
      "text/plain": [
       "2      5667\n",
       "3      5633\n",
       "4      2517\n",
       "1      1792\n",
       "5      1052\n",
       "6       446\n",
       "0       281\n",
       "7       164\n",
       "8        92\n",
       "10       41\n",
       "9        39\n",
       "12        8\n",
       "11        8\n",
       "20        5\n",
       "15        4\n",
       "18        3\n",
       "204       3\n",
       "16        2\n",
       "41        2\n",
       "13        2\n",
       "14        2\n",
       "50        1\n",
       "17        1\n",
       "30        1\n",
       "22        1\n",
       "Name: room_number, dtype: int64"
      ]
     },
     "execution_count": 27,
     "metadata": {},
     "output_type": "execute_result"
    }
   ],
   "source": [
    "df.room_number.value_counts()"
   ]
  },
  {
   "cell_type": "code",
   "execution_count": 28,
   "id": "690445a4",
   "metadata": {},
   "outputs": [
    {
     "data": {
      "text/plain": [
       "(17754, 17)"
      ]
     },
     "execution_count": 28,
     "metadata": {},
     "output_type": "execute_result"
    }
   ],
   "source": [
    "# drop the type with more than 20 rooms\n",
    "df = df[(df['room_number'] < 20)]\n",
    "df.shape"
   ]
  },
  {
   "cell_type": "code",
   "execution_count": 29,
   "id": "efb85370",
   "metadata": {},
   "outputs": [
    {
     "data": {
      "text/plain": [
       "2     5667\n",
       "3     5633\n",
       "4     2517\n",
       "1     1792\n",
       "5     1052\n",
       "6      446\n",
       "0      281\n",
       "7      164\n",
       "8       92\n",
       "10      41\n",
       "9       39\n",
       "11       8\n",
       "12       8\n",
       "15       4\n",
       "18       3\n",
       "16       2\n",
       "13       2\n",
       "14       2\n",
       "17       1\n",
       "Name: room_number, dtype: int64"
      ]
     },
     "execution_count": 29,
     "metadata": {},
     "output_type": "execute_result"
    }
   ],
   "source": [
    "df.room_number.value_counts()"
   ]
  },
  {
   "cell_type": "code",
   "execution_count": 30,
   "id": "0c2952f4",
   "metadata": {},
   "outputs": [
    {
     "data": {
      "text/plain": [
       "None      1785\n",
       "100.0      319\n",
       "120.0      290\n",
       "90.0       285\n",
       "110.0      260\n",
       "          ... \n",
       "602.0        1\n",
       "604.0        1\n",
       "607.0        1\n",
       "609.0        1\n",
       "2000.0       1\n",
       "Name: area, Length: 649, dtype: int64"
      ]
     },
     "execution_count": 30,
     "metadata": {},
     "output_type": "execute_result"
    }
   ],
   "source": [
    "df.area.value_counts()"
   ]
  },
  {
   "cell_type": "code",
   "execution_count": 31,
   "id": "17f0ca92",
   "metadata": {},
   "outputs": [
    {
     "data": {
      "text/plain": [
       "10"
      ]
     },
     "execution_count": 31,
     "metadata": {},
     "output_type": "execute_result"
    }
   ],
   "source": [
    "percentage_None=round(((df.area.value_counts()[0])/(df.shape[0]))*100)\n",
    "percentage_None"
   ]
  },
  {
   "cell_type": "markdown",
   "id": "2aef7831",
   "metadata": {},
   "source": [
    "area is an important variable, so we drop the None values."
   ]
  },
  {
   "cell_type": "code",
   "execution_count": 32,
   "id": "e8a3aee3",
   "metadata": {},
   "outputs": [],
   "source": [
    "\n",
    "df = df[(df['area'] != 'None')]"
   ]
  },
  {
   "cell_type": "code",
   "execution_count": 33,
   "id": "774a7cf4",
   "metadata": {},
   "outputs": [
    {
     "data": {
      "text/plain": [
       "(15969, 17)"
      ]
     },
     "execution_count": 33,
     "metadata": {},
     "output_type": "execute_result"
    }
   ],
   "source": [
    "df.shape"
   ]
  },
  {
   "cell_type": "code",
   "execution_count": 34,
   "id": "1f8ad3ff",
   "metadata": {},
   "outputs": [],
   "source": [
    "df['area'] = df['area'].astype(int)"
   ]
  },
  {
   "cell_type": "code",
   "execution_count": 35,
   "id": "05681943",
   "metadata": {},
   "outputs": [
    {
     "data": {
      "text/plain": [
       "11278       5\n",
       "9573       15\n",
       "17744      15\n",
       "2684       15\n",
       "2279       16\n",
       "         ... \n",
       "2300     2280\n",
       "2208     2280\n",
       "10588    2341\n",
       "12350    3800\n",
       "9306     4709\n",
       "Name: area, Length: 15969, dtype: int32"
      ]
     },
     "execution_count": 35,
     "metadata": {},
     "output_type": "execute_result"
    }
   ],
   "source": [
    "df.area.sort_values()"
   ]
  },
  {
   "cell_type": "markdown",
   "id": "ee6072de",
   "metadata": {},
   "source": [
    "### Kitchen_equipped , fireplace"
   ]
  },
  {
   "cell_type": "code",
   "execution_count": 36,
   "id": "23182a98",
   "metadata": {},
   "outputs": [
    {
     "data": {
      "text/plain": [
       "1    12442\n",
       "0     3527\n",
       "Name: kitchen_equipped, dtype: int64"
      ]
     },
     "execution_count": 36,
     "metadata": {},
     "output_type": "execute_result"
    }
   ],
   "source": [
    "df.kitchen_equipped.value_counts() "
   ]
  },
  {
   "cell_type": "code",
   "execution_count": 37,
   "id": "edfaa98f",
   "metadata": {},
   "outputs": [
    {
     "data": {
      "text/plain": [
       "dtype('int64')"
      ]
     },
     "execution_count": 37,
     "metadata": {},
     "output_type": "execute_result"
    }
   ],
   "source": [
    "df.kitchen_equipped.dtype"
   ]
  },
  {
   "cell_type": "code",
   "execution_count": 38,
   "id": "0ce59fb4",
   "metadata": {},
   "outputs": [
    {
     "data": {
      "text/plain": [
       "0    15096\n",
       "1      873\n",
       "Name: fireplace, dtype: int64"
      ]
     },
     "execution_count": 38,
     "metadata": {},
     "output_type": "execute_result"
    }
   ],
   "source": [
    "df.fireplace.value_counts() "
   ]
  },
  {
   "cell_type": "code",
   "execution_count": 39,
   "id": "2a5f41be",
   "metadata": {},
   "outputs": [
    {
     "data": {
      "text/plain": [
       "dtype('int64')"
      ]
     },
     "execution_count": 39,
     "metadata": {},
     "output_type": "execute_result"
    }
   ],
   "source": [
    "df.fireplace.dtype"
   ]
  },
  {
   "cell_type": "markdown",
   "id": "bbd888c4",
   "metadata": {},
   "source": [
    "#### terrace , terrace_area  and None values"
   ]
  },
  {
   "cell_type": "code",
   "execution_count": 40,
   "id": "30aed6fa",
   "metadata": {},
   "outputs": [
    {
     "data": {
      "text/plain": [
       "1    11137\n",
       "0     4832\n",
       "Name: terrace, dtype: int64"
      ]
     },
     "execution_count": 40,
     "metadata": {},
     "output_type": "execute_result"
    }
   ],
   "source": [
    "df.terrace.value_counts()"
   ]
  },
  {
   "cell_type": "code",
   "execution_count": 41,
   "id": "b58f9ed7",
   "metadata": {},
   "outputs": [
    {
     "data": {
      "text/plain": [
       "dtype('int64')"
      ]
     },
     "execution_count": 41,
     "metadata": {},
     "output_type": "execute_result"
    }
   ],
   "source": [
    "df.terrace.dtype"
   ]
  },
  {
   "cell_type": "code",
   "execution_count": 42,
   "id": "55a95ecb",
   "metadata": {},
   "outputs": [
    {
     "data": {
      "text/plain": [
       "None      8386\n",
       "10.0       452\n",
       "20.0       447\n",
       "15.0       364\n",
       "12.0       314\n",
       "          ... \n",
       "152.0        1\n",
       "158.0        1\n",
       "190.0        1\n",
       "197.0        1\n",
       "1383.0       1\n",
       "Name: terrace_area, Length: 177, dtype: int64"
      ]
     },
     "execution_count": 42,
     "metadata": {},
     "output_type": "execute_result"
    }
   ],
   "source": [
    "df.terrace_area.value_counts()"
   ]
  },
  {
   "cell_type": "code",
   "execution_count": 43,
   "id": "239fb2e3",
   "metadata": {},
   "outputs": [
    {
     "data": {
      "text/plain": [
       "53"
      ]
     },
     "execution_count": 43,
     "metadata": {},
     "output_type": "execute_result"
    }
   ],
   "source": [
    "percentage_None=round(((df.terrace_area.value_counts()[0])/(df.shape[0]))*100)\n",
    "percentage_None\n"
   ]
  },
  {
   "cell_type": "code",
   "execution_count": 44,
   "id": "01694df9",
   "metadata": {},
   "outputs": [
    {
     "data": {
      "text/plain": [
       "dtype('O')"
      ]
     },
     "execution_count": 44,
     "metadata": {},
     "output_type": "execute_result"
    }
   ],
   "source": [
    "df.terrace_area.dtype"
   ]
  },
  {
   "cell_type": "markdown",
   "id": "9e4e5f01",
   "metadata": {},
   "source": [
    "#### garden and garden_area and None values"
   ]
  },
  {
   "cell_type": "code",
   "execution_count": 45,
   "id": "d291247f",
   "metadata": {},
   "outputs": [
    {
     "data": {
      "text/plain": [
       "0    10508\n",
       "1     5461\n",
       "Name: garden, dtype: int64"
      ]
     },
     "execution_count": 45,
     "metadata": {},
     "output_type": "execute_result"
    }
   ],
   "source": [
    "df.garden.value_counts()\n"
   ]
  },
  {
   "cell_type": "code",
   "execution_count": 46,
   "id": "30d60eb9",
   "metadata": {},
   "outputs": [
    {
     "data": {
      "text/plain": [
       "dtype('int64')"
      ]
     },
     "execution_count": 46,
     "metadata": {},
     "output_type": "execute_result"
    }
   ],
   "source": [
    "df.garden.dtype"
   ]
  },
  {
   "cell_type": "code",
   "execution_count": 47,
   "id": "3f140213",
   "metadata": {},
   "outputs": [
    {
     "data": {
      "text/plain": [
       "None      12502\n",
       "100.0       108\n",
       "50.0         87\n",
       "150.0        83\n",
       "200.0        75\n",
       "          ...  \n",
       "681.0         1\n",
       "677.0         1\n",
       "142.0         1\n",
       "2716.0        1\n",
       "474.0         1\n",
       "Name: garden_area, Length: 784, dtype: int64"
      ]
     },
     "execution_count": 47,
     "metadata": {},
     "output_type": "execute_result"
    }
   ],
   "source": [
    "df.garden_area.value_counts()\n"
   ]
  },
  {
   "cell_type": "code",
   "execution_count": 48,
   "id": "4ad72ebc",
   "metadata": {},
   "outputs": [
    {
     "data": {
      "text/plain": [
       "78"
      ]
     },
     "execution_count": 48,
     "metadata": {},
     "output_type": "execute_result"
    }
   ],
   "source": [
    "percentage_None=round(((df.garden_area.value_counts()[0])/(df.shape[0]))*100)\n",
    "percentage_None"
   ]
  },
  {
   "cell_type": "code",
   "execution_count": 49,
   "id": "be3973a3",
   "metadata": {},
   "outputs": [
    {
     "data": {
      "text/plain": [
       "dtype('O')"
      ]
     },
     "execution_count": 49,
     "metadata": {},
     "output_type": "execute_result"
    }
   ],
   "source": [
    "df.garden_area.dtype"
   ]
  },
  {
   "cell_type": "markdown",
   "id": "e9799bed",
   "metadata": {},
   "source": [
    "### land_surface, facade_count, swiming_pool, building_condition"
   ]
  },
  {
   "cell_type": "code",
   "execution_count": 50,
   "id": "9f89c84e",
   "metadata": {},
   "outputs": [
    {
     "data": {
      "text/plain": [
       "None       8061\n",
       "0.0         562\n",
       "150.0        56\n",
       "100.0        52\n",
       "300.0        52\n",
       "           ... \n",
       "732.0         1\n",
       "21780.0       1\n",
       "728.0         1\n",
       "7925.0        1\n",
       "12284.0       1\n",
       "Name: land_surface, Length: 2032, dtype: int64"
      ]
     },
     "execution_count": 50,
     "metadata": {},
     "output_type": "execute_result"
    }
   ],
   "source": [
    "df.land_surface.value_counts()"
   ]
  },
  {
   "cell_type": "code",
   "execution_count": 51,
   "id": "9e4ee713",
   "metadata": {},
   "outputs": [
    {
     "data": {
      "text/plain": [
       "50"
      ]
     },
     "execution_count": 51,
     "metadata": {},
     "output_type": "execute_result"
    }
   ],
   "source": [
    "percentage_None=round(((df.land_surface.value_counts()[0])/(df.shape[0]))*100)\n",
    "percentage_None\n"
   ]
  },
  {
   "cell_type": "code",
   "execution_count": 52,
   "id": "15d26b3a",
   "metadata": {},
   "outputs": [
    {
     "data": {
      "text/plain": [
       "dtype('O')"
      ]
     },
     "execution_count": 52,
     "metadata": {},
     "output_type": "execute_result"
    }
   ],
   "source": [
    "df.land_surface.dtype"
   ]
  },
  {
   "cell_type": "code",
   "execution_count": 53,
   "id": "9a6b1e5c",
   "metadata": {},
   "outputs": [],
   "source": [
    "df['land_surface'] = df['land_surface'].replace({\"None\":0})"
   ]
  },
  {
   "cell_type": "code",
   "execution_count": 54,
   "id": "98367723",
   "metadata": {},
   "outputs": [
    {
     "data": {
      "text/plain": [
       "0.0       8623\n",
       "150.0       56\n",
       "100.0       52\n",
       "300.0       52\n",
       "120.0       49\n",
       "          ... \n",
       "828.0        1\n",
       "1991.0       1\n",
       "1708.0       1\n",
       "3100.0       1\n",
       "7357.0       1\n",
       "Name: land_surface, Length: 2031, dtype: int64"
      ]
     },
     "execution_count": 54,
     "metadata": {},
     "output_type": "execute_result"
    }
   ],
   "source": [
    "df.land_surface.value_counts()"
   ]
  },
  {
   "cell_type": "code",
   "execution_count": 55,
   "id": "4ba5d381",
   "metadata": {},
   "outputs": [
    {
     "data": {
      "text/plain": [
       "dtype('float64')"
      ]
     },
     "execution_count": 55,
     "metadata": {},
     "output_type": "execute_result"
    }
   ],
   "source": [
    "df.land_surface.dtype"
   ]
  },
  {
   "cell_type": "code",
   "execution_count": 56,
   "id": "ee7e0061",
   "metadata": {},
   "outputs": [
    {
     "data": {
      "text/plain": [
       "0         321\n",
       "1         570\n",
       "3         470\n",
       "4        1500\n",
       "5         460\n",
       "         ... \n",
       "18244     820\n",
       "18246     248\n",
       "18247    1002\n",
       "18248     989\n",
       "18249    1389\n",
       "Name: land_surface, Length: 15969, dtype: int32"
      ]
     },
     "execution_count": 56,
     "metadata": {},
     "output_type": "execute_result"
    }
   ],
   "source": [
    "df.land_surface.astype(int)"
   ]
  },
  {
   "cell_type": "code",
   "execution_count": 57,
   "id": "b150e2f9",
   "metadata": {},
   "outputs": [
    {
     "data": {
      "text/plain": [
       "2.0     5460\n",
       "None    4910\n",
       "4.0     2970\n",
       "3.0     2545\n",
       "1.0       76\n",
       "6.0        4\n",
       "5.0        1\n",
       "7.0        1\n",
       "16.0       1\n",
       "30.0       1\n",
       "Name: facade_count, dtype: int64"
      ]
     },
     "execution_count": 57,
     "metadata": {},
     "output_type": "execute_result"
    }
   ],
   "source": [
    "df.facade_count.value_counts()\n"
   ]
  },
  {
   "cell_type": "code",
   "execution_count": 58,
   "id": "56ad0d60",
   "metadata": {},
   "outputs": [
    {
     "data": {
      "text/plain": [
       "31"
      ]
     },
     "execution_count": 58,
     "metadata": {},
     "output_type": "execute_result"
    }
   ],
   "source": [
    "percentage_None=round(((df.facade_count.value_counts()[1])/(df.shape[0]))*100)\n",
    "percentage_None"
   ]
  },
  {
   "cell_type": "code",
   "execution_count": 59,
   "id": "42160888",
   "metadata": {},
   "outputs": [
    {
     "data": {
      "text/plain": [
       "dtype('O')"
      ]
     },
     "execution_count": 59,
     "metadata": {},
     "output_type": "execute_result"
    }
   ],
   "source": [
    "df.facade_count.dtype"
   ]
  },
  {
   "cell_type": "code",
   "execution_count": 60,
   "id": "35ff91c8",
   "metadata": {},
   "outputs": [],
   "source": [
    "# Replace 'None' by O\n",
    "df['facade_count'] = df['facade_count'].replace({\"None\": 0}).astype(int)"
   ]
  },
  {
   "cell_type": "code",
   "execution_count": 61,
   "id": "a126d16c",
   "metadata": {},
   "outputs": [],
   "source": [
    "# Drop theproperties with more than 4 facades\n",
    "df = df[(df['facade_count'] != 7)]\n",
    "df = df[(df['facade_count'] != 16)]\n",
    "df = df[(df['facade_count'] != 30)]\n",
    "df = df[(df['facade_count'] != 6)]\n",
    "df = df[(df['facade_count'] != 5)]\n"
   ]
  },
  {
   "cell_type": "code",
   "execution_count": 62,
   "id": "7f8ee9a9",
   "metadata": {},
   "outputs": [
    {
     "data": {
      "text/plain": [
       "2    5460\n",
       "0    4910\n",
       "4    2970\n",
       "3    2545\n",
       "1      76\n",
       "Name: facade_count, dtype: int64"
      ]
     },
     "execution_count": 62,
     "metadata": {},
     "output_type": "execute_result"
    }
   ],
   "source": [
    "df.facade_count.value_counts()"
   ]
  },
  {
   "cell_type": "code",
   "execution_count": 63,
   "id": "80d2d374",
   "metadata": {},
   "outputs": [
    {
     "data": {
      "text/plain": [
       "0    15480\n",
       "1      481\n",
       "Name: swimming_pool, dtype: int64"
      ]
     },
     "execution_count": 63,
     "metadata": {},
     "output_type": "execute_result"
    }
   ],
   "source": [
    "df.swimming_pool.value_counts()\n"
   ]
  },
  {
   "cell_type": "code",
   "execution_count": 64,
   "id": "d58f54af",
   "metadata": {},
   "outputs": [
    {
     "data": {
      "text/plain": [
       "dtype('int64')"
      ]
     },
     "execution_count": 64,
     "metadata": {},
     "output_type": "execute_result"
    }
   ],
   "source": [
    "df.swimming_pool.dtype"
   ]
  },
  {
   "cell_type": "code",
   "execution_count": 65,
   "id": "4d4406c3",
   "metadata": {},
   "outputs": [
    {
     "data": {
      "text/plain": [
       "AS_NEW            5458\n",
       "GOOD              4044\n",
       "None              3536\n",
       "TO_BE_DONE_UP     1052\n",
       "TO_RENOVATE        994\n",
       "JUST_RENOVATED     840\n",
       "TO_RESTORE          37\n",
       "Name: building_condition, dtype: int64"
      ]
     },
     "execution_count": 65,
     "metadata": {},
     "output_type": "execute_result"
    }
   ],
   "source": [
    "df.building_condition.value_counts()\n"
   ]
  },
  {
   "cell_type": "code",
   "execution_count": 66,
   "id": "136bb845",
   "metadata": {},
   "outputs": [
    {
     "data": {
      "text/plain": [
       "22"
      ]
     },
     "execution_count": 66,
     "metadata": {},
     "output_type": "execute_result"
    }
   ],
   "source": [
    "percentage_None=round(((df.building_condition.value_counts()[2])/(df.shape[0]))*100)\n",
    "percentage_None\n"
   ]
  },
  {
   "cell_type": "code",
   "execution_count": 67,
   "id": "66e6b26f",
   "metadata": {},
   "outputs": [
    {
     "data": {
      "text/plain": [
       "dtype('O')"
      ]
     },
     "execution_count": 67,
     "metadata": {},
     "output_type": "execute_result"
    }
   ],
   "source": [
    "df.building_condition.dtype"
   ]
  },
  {
   "cell_type": "code",
   "execution_count": 68,
   "id": "277b7856",
   "metadata": {},
   "outputs": [
    {
     "data": {
      "text/plain": [
       "AS_NEW            5458\n",
       "GOOD              4044\n",
       "No_information    3536\n",
       "TO_BE_DONE_UP     1052\n",
       "TO_RENOVATE        994\n",
       "JUST_RENOVATED     840\n",
       "TO_RESTORE          37\n",
       "Name: building_condition, dtype: int64"
      ]
     },
     "execution_count": 68,
     "metadata": {},
     "output_type": "execute_result"
    }
   ],
   "source": [
    "\n",
    "df['building_condition'] = df['building_condition'].replace({\"None\": \"No_information\"})\n",
    "df.building_condition.value_counts()"
   ]
  },
  {
   "cell_type": "code",
   "execution_count": 69,
   "id": "ba608852",
   "metadata": {},
   "outputs": [
    {
     "data": {
      "text/plain": [
       "(15961, 17)"
      ]
     },
     "execution_count": 69,
     "metadata": {},
     "output_type": "execute_result"
    }
   ],
   "source": [
    "df.shape"
   ]
  },
  {
   "cell_type": "markdown",
   "id": "e0bc0719",
   "metadata": {},
   "source": [
    "### Drop duplication"
   ]
  },
  {
   "cell_type": "code",
   "execution_count": 71,
   "id": "5e5d1e69",
   "metadata": {},
   "outputs": [],
   "source": [
    "# drop duplicate rows\n",
    "df.drop_duplicates(inplace=True)"
   ]
  },
  {
   "cell_type": "code",
   "execution_count": 72,
   "id": "d615db08",
   "metadata": {},
   "outputs": [
    {
     "data": {
      "text/plain": [
       "(15651, 17)"
      ]
     },
     "execution_count": 72,
     "metadata": {},
     "output_type": "execute_result"
    }
   ],
   "source": [
    "df.shape"
   ]
  },
  {
   "cell_type": "markdown",
   "id": "a1f07c3b",
   "metadata": {},
   "source": [
    "### Import dataset for Belgium : postal code"
   ]
  },
  {
   "cell_type": "markdown",
   "id": "a450bbc1",
   "metadata": {},
   "source": [
    "we will clean this dataset and then we will merge it on  df"
   ]
  },
  {
   "cell_type": "code",
   "execution_count": 81,
   "id": "1cc7129b",
   "metadata": {},
   "outputs": [
    {
     "data": {
      "text/html": [
       "<div>\n",
       "<style scoped>\n",
       "    .dataframe tbody tr th:only-of-type {\n",
       "        vertical-align: middle;\n",
       "    }\n",
       "\n",
       "    .dataframe tbody tr th {\n",
       "        vertical-align: top;\n",
       "    }\n",
       "\n",
       "    .dataframe thead th {\n",
       "        text-align: right;\n",
       "    }\n",
       "</style>\n",
       "<table border=\"1\" class=\"dataframe\">\n",
       "  <thead>\n",
       "    <tr style=\"text-align: right;\">\n",
       "      <th></th>\n",
       "      <th>column_1</th>\n",
       "      <th>column_2</th>\n",
       "      <th>column_3</th>\n",
       "      <th>column_4</th>\n",
       "      <th>coordonnees</th>\n",
       "      <th>geom</th>\n",
       "    </tr>\n",
       "  </thead>\n",
       "  <tbody>\n",
       "    <tr>\n",
       "      <th>0</th>\n",
       "      <td>1050</td>\n",
       "      <td>Ixelles</td>\n",
       "      <td>4.381571</td>\n",
       "      <td>50.822285</td>\n",
       "      <td>50.8222854, 4.3815707</td>\n",
       "      <td>NaN</td>\n",
       "    </tr>\n",
       "    <tr>\n",
       "      <th>1</th>\n",
       "      <td>1081</td>\n",
       "      <td>Koekelberg</td>\n",
       "      <td>4.325708</td>\n",
       "      <td>50.862263</td>\n",
       "      <td>50.8622633, 4.3257084</td>\n",
       "      <td>NaN</td>\n",
       "    </tr>\n",
       "    <tr>\n",
       "      <th>2</th>\n",
       "      <td>1130</td>\n",
       "      <td>Haren</td>\n",
       "      <td>4.412571</td>\n",
       "      <td>50.891966</td>\n",
       "      <td>50.8919661, 4.41257087324</td>\n",
       "      <td>NaN</td>\n",
       "    </tr>\n",
       "    <tr>\n",
       "      <th>3</th>\n",
       "      <td>1150</td>\n",
       "      <td>Woluwe-Saint-Pierre</td>\n",
       "      <td>4.443297</td>\n",
       "      <td>50.829243</td>\n",
       "      <td>50.8292429, 4.4432967</td>\n",
       "      <td>NaN</td>\n",
       "    </tr>\n",
       "    <tr>\n",
       "      <th>4</th>\n",
       "      <td>1315</td>\n",
       "      <td>Incourt</td>\n",
       "      <td>4.798944</td>\n",
       "      <td>50.691800</td>\n",
       "      <td>50.6918004, 4.798944</td>\n",
       "      <td>NaN</td>\n",
       "    </tr>\n",
       "  </tbody>\n",
       "</table>\n",
       "</div>"
      ],
      "text/plain": [
       "   column_1             column_2  column_3   column_4  \\\n",
       "0      1050              Ixelles  4.381571  50.822285   \n",
       "1      1081           Koekelberg  4.325708  50.862263   \n",
       "2      1130                Haren  4.412571  50.891966   \n",
       "3      1150  Woluwe-Saint-Pierre  4.443297  50.829243   \n",
       "4      1315              Incourt  4.798944  50.691800   \n",
       "\n",
       "                 coordonnees  geom  \n",
       "0      50.8222854, 4.3815707   NaN  \n",
       "1      50.8622633, 4.3257084   NaN  \n",
       "2  50.8919661, 4.41257087324   NaN  \n",
       "3      50.8292429, 4.4432967   NaN  \n",
       "4       50.6918004, 4.798944   NaN  "
      ]
     },
     "execution_count": 81,
     "metadata": {},
     "output_type": "execute_result"
    }
   ],
   "source": [
    "code_post=pd.read_csv('code-postaux-belge.csv',sep=';')\n",
    "code_post.head()"
   ]
  },
  {
   "cell_type": "code",
   "execution_count": 84,
   "id": "9b6113af",
   "metadata": {},
   "outputs": [
    {
     "data": {
      "text/plain": [
       "(2757, 6)"
      ]
     },
     "execution_count": 84,
     "metadata": {},
     "output_type": "execute_result"
    }
   ],
   "source": [
    "code_post.shape"
   ]
  },
  {
   "cell_type": "code",
   "execution_count": 87,
   "id": "1c781ed9",
   "metadata": {},
   "outputs": [
    {
     "data": {
      "text/plain": [
       "3700    19\n",
       "4280    18\n",
       "5600    17\n",
       "5310    16\n",
       "3840    15\n",
       "        ..\n",
       "9950     1\n",
       "9960     1\n",
       "1770     1\n",
       "9970     1\n",
       "6141     1\n",
       "Name: column_1, Length: 1145, dtype: int64"
      ]
     },
     "execution_count": 87,
     "metadata": {},
     "output_type": "execute_result"
    }
   ],
   "source": [
    "code_post.column_1.value_counts()"
   ]
  },
  {
   "cell_type": "code",
   "execution_count": 88,
   "id": "0123842c",
   "metadata": {},
   "outputs": [
    {
     "data": {
      "text/plain": [
       "(1145, 6)"
      ]
     },
     "execution_count": 88,
     "metadata": {},
     "output_type": "execute_result"
    }
   ],
   "source": [
    "#drop duplication\n",
    "code_post.drop_duplicates(subset=['column_1'], inplace=True)\n",
    "code_post.shape"
   ]
  },
  {
   "cell_type": "code",
   "execution_count": 96,
   "id": "e2960f08",
   "metadata": {},
   "outputs": [
    {
     "data": {
      "text/plain": [
       "6730    1\n",
       "9571    1\n",
       "1390    1\n",
       "4430    1\n",
       "7532    1\n",
       "       ..\n",
       "8906    1\n",
       "6860    1\n",
       "4820    1\n",
       "4821    1\n",
       "6142    1\n",
       "Name: column_1, Length: 1145, dtype: int64"
      ]
     },
     "execution_count": 96,
     "metadata": {},
     "output_type": "execute_result"
    }
   ],
   "source": [
    "code_post.column_1.value_counts()"
   ]
  },
  {
   "cell_type": "code",
   "execution_count": 97,
   "id": "2097c10a",
   "metadata": {},
   "outputs": [
    {
     "data": {
      "text/html": [
       "<div>\n",
       "<style scoped>\n",
       "    .dataframe tbody tr th:only-of-type {\n",
       "        vertical-align: middle;\n",
       "    }\n",
       "\n",
       "    .dataframe tbody tr th {\n",
       "        vertical-align: top;\n",
       "    }\n",
       "\n",
       "    .dataframe thead th {\n",
       "        text-align: right;\n",
       "    }\n",
       "</style>\n",
       "<table border=\"1\" class=\"dataframe\">\n",
       "  <thead>\n",
       "    <tr style=\"text-align: right;\">\n",
       "      <th></th>\n",
       "      <th>location</th>\n",
       "      <th>city</th>\n",
       "    </tr>\n",
       "  </thead>\n",
       "  <tbody>\n",
       "    <tr>\n",
       "      <th>0</th>\n",
       "      <td>1050</td>\n",
       "      <td>Ixelles</td>\n",
       "    </tr>\n",
       "    <tr>\n",
       "      <th>1</th>\n",
       "      <td>1081</td>\n",
       "      <td>Koekelberg</td>\n",
       "    </tr>\n",
       "    <tr>\n",
       "      <th>2</th>\n",
       "      <td>1130</td>\n",
       "      <td>Haren</td>\n",
       "    </tr>\n",
       "    <tr>\n",
       "      <th>3</th>\n",
       "      <td>1150</td>\n",
       "      <td>Woluwe-Saint-Pierre</td>\n",
       "    </tr>\n",
       "    <tr>\n",
       "      <th>4</th>\n",
       "      <td>1315</td>\n",
       "      <td>Incourt</td>\n",
       "    </tr>\n",
       "    <tr>\n",
       "      <th>...</th>\n",
       "      <td>...</td>\n",
       "      <td>...</td>\n",
       "    </tr>\n",
       "    <tr>\n",
       "      <th>2721</th>\n",
       "      <td>9551</td>\n",
       "      <td>Ressegem</td>\n",
       "    </tr>\n",
       "    <tr>\n",
       "      <th>2722</th>\n",
       "      <td>9552</td>\n",
       "      <td>Borsbeke</td>\n",
       "    </tr>\n",
       "    <tr>\n",
       "      <th>2748</th>\n",
       "      <td>9831</td>\n",
       "      <td>Deurle</td>\n",
       "    </tr>\n",
       "    <tr>\n",
       "      <th>2754</th>\n",
       "      <td>9932</td>\n",
       "      <td>Ronsele</td>\n",
       "    </tr>\n",
       "    <tr>\n",
       "      <th>2756</th>\n",
       "      <td>9980</td>\n",
       "      <td>Sint-Laureins</td>\n",
       "    </tr>\n",
       "  </tbody>\n",
       "</table>\n",
       "<p>1145 rows × 2 columns</p>\n",
       "</div>"
      ],
      "text/plain": [
       "      location                 city\n",
       "0         1050              Ixelles\n",
       "1         1081           Koekelberg\n",
       "2         1130                Haren\n",
       "3         1150  Woluwe-Saint-Pierre\n",
       "4         1315              Incourt\n",
       "...        ...                  ...\n",
       "2721      9551             Ressegem\n",
       "2722      9552             Borsbeke\n",
       "2748      9831               Deurle\n",
       "2754      9932              Ronsele\n",
       "2756      9980        Sint-Laureins\n",
       "\n",
       "[1145 rows x 2 columns]"
      ]
     },
     "execution_count": 97,
     "metadata": {},
     "output_type": "execute_result"
    }
   ],
   "source": [
    "# rename and drop\n",
    "code_post.rename(columns={\"column_1\": \"location\", \"column_2\": \"city\"}, inplace=True)\n",
    "code_post.drop(columns=['column_3','column_4','coordonnees', 'geom'], inplace=True)\n",
    "code_post"
   ]
  },
  {
   "cell_type": "code",
   "execution_count": 99,
   "id": "c53e5907",
   "metadata": {},
   "outputs": [],
   "source": [
    "#merge 2 dataset for add name of city\n",
    "\n",
    "df_merged=df.merge(code_post, on=['location'], how='inner', copy=True)"
   ]
  },
  {
   "cell_type": "code",
   "execution_count": 100,
   "id": "2be9b809",
   "metadata": {},
   "outputs": [
    {
     "data": {
      "text/html": [
       "<div>\n",
       "<style scoped>\n",
       "    .dataframe tbody tr th:only-of-type {\n",
       "        vertical-align: middle;\n",
       "    }\n",
       "\n",
       "    .dataframe tbody tr th {\n",
       "        vertical-align: top;\n",
       "    }\n",
       "\n",
       "    .dataframe thead th {\n",
       "        text-align: right;\n",
       "    }\n",
       "</style>\n",
       "<table border=\"1\" class=\"dataframe\">\n",
       "  <thead>\n",
       "    <tr style=\"text-align: right;\">\n",
       "      <th></th>\n",
       "      <th>location</th>\n",
       "      <th>type</th>\n",
       "      <th>subtype</th>\n",
       "      <th>price</th>\n",
       "      <th>room_number</th>\n",
       "      <th>area</th>\n",
       "      <th>kitchen_equipped</th>\n",
       "      <th>furnished</th>\n",
       "      <th>fireplace</th>\n",
       "      <th>terrace</th>\n",
       "      <th>terrace_area</th>\n",
       "      <th>garden</th>\n",
       "      <th>garden_area</th>\n",
       "      <th>land_surface</th>\n",
       "      <th>facade_count</th>\n",
       "      <th>swimming_pool</th>\n",
       "      <th>building_condition</th>\n",
       "      <th>city</th>\n",
       "    </tr>\n",
       "  </thead>\n",
       "  <tbody>\n",
       "    <tr>\n",
       "      <th>0</th>\n",
       "      <td>6800</td>\n",
       "      <td>HOUSE</td>\n",
       "      <td>HOUSE</td>\n",
       "      <td>295000</td>\n",
       "      <td>5</td>\n",
       "      <td>460</td>\n",
       "      <td>1</td>\n",
       "      <td>0</td>\n",
       "      <td>0</td>\n",
       "      <td>1</td>\n",
       "      <td>10.0</td>\n",
       "      <td>0</td>\n",
       "      <td>None</td>\n",
       "      <td>321.0</td>\n",
       "      <td>2</td>\n",
       "      <td>0</td>\n",
       "      <td>TO_BE_DONE_UP</td>\n",
       "      <td>Remagne</td>\n",
       "    </tr>\n",
       "    <tr>\n",
       "      <th>1</th>\n",
       "      <td>6800</td>\n",
       "      <td>HOUSE</td>\n",
       "      <td>HOUSE</td>\n",
       "      <td>175000</td>\n",
       "      <td>3</td>\n",
       "      <td>172</td>\n",
       "      <td>0</td>\n",
       "      <td>0</td>\n",
       "      <td>0</td>\n",
       "      <td>1</td>\n",
       "      <td>None</td>\n",
       "      <td>1</td>\n",
       "      <td>1000.0</td>\n",
       "      <td>1254.0</td>\n",
       "      <td>4</td>\n",
       "      <td>0</td>\n",
       "      <td>TO_RENOVATE</td>\n",
       "      <td>Remagne</td>\n",
       "    </tr>\n",
       "    <tr>\n",
       "      <th>2</th>\n",
       "      <td>6800</td>\n",
       "      <td>HOUSE</td>\n",
       "      <td>HOUSE</td>\n",
       "      <td>539000</td>\n",
       "      <td>5</td>\n",
       "      <td>596</td>\n",
       "      <td>1</td>\n",
       "      <td>0</td>\n",
       "      <td>1</td>\n",
       "      <td>1</td>\n",
       "      <td>38.0</td>\n",
       "      <td>1</td>\n",
       "      <td>1300.0</td>\n",
       "      <td>1500.0</td>\n",
       "      <td>4</td>\n",
       "      <td>0</td>\n",
       "      <td>AS_NEW</td>\n",
       "      <td>Remagne</td>\n",
       "    </tr>\n",
       "    <tr>\n",
       "      <th>3</th>\n",
       "      <td>6800</td>\n",
       "      <td>APARTMENT</td>\n",
       "      <td>APARTMENT</td>\n",
       "      <td>154000</td>\n",
       "      <td>2</td>\n",
       "      <td>62</td>\n",
       "      <td>0</td>\n",
       "      <td>0</td>\n",
       "      <td>0</td>\n",
       "      <td>1</td>\n",
       "      <td>6.0</td>\n",
       "      <td>0</td>\n",
       "      <td>None</td>\n",
       "      <td>0.0</td>\n",
       "      <td>4</td>\n",
       "      <td>0</td>\n",
       "      <td>No_information</td>\n",
       "      <td>Remagne</td>\n",
       "    </tr>\n",
       "    <tr>\n",
       "      <th>4</th>\n",
       "      <td>6800</td>\n",
       "      <td>APARTMENT</td>\n",
       "      <td>APARTMENT</td>\n",
       "      <td>179000</td>\n",
       "      <td>2</td>\n",
       "      <td>79</td>\n",
       "      <td>0</td>\n",
       "      <td>0</td>\n",
       "      <td>0</td>\n",
       "      <td>1</td>\n",
       "      <td>6.0</td>\n",
       "      <td>0</td>\n",
       "      <td>None</td>\n",
       "      <td>0.0</td>\n",
       "      <td>4</td>\n",
       "      <td>0</td>\n",
       "      <td>No_information</td>\n",
       "      <td>Remagne</td>\n",
       "    </tr>\n",
       "    <tr>\n",
       "      <th>...</th>\n",
       "      <td>...</td>\n",
       "      <td>...</td>\n",
       "      <td>...</td>\n",
       "      <td>...</td>\n",
       "      <td>...</td>\n",
       "      <td>...</td>\n",
       "      <td>...</td>\n",
       "      <td>...</td>\n",
       "      <td>...</td>\n",
       "      <td>...</td>\n",
       "      <td>...</td>\n",
       "      <td>...</td>\n",
       "      <td>...</td>\n",
       "      <td>...</td>\n",
       "      <td>...</td>\n",
       "      <td>...</td>\n",
       "      <td>...</td>\n",
       "      <td>...</td>\n",
       "    </tr>\n",
       "    <tr>\n",
       "      <th>15646</th>\n",
       "      <td>4557</td>\n",
       "      <td>HOUSE</td>\n",
       "      <td>COUNTRY_COTTAGE</td>\n",
       "      <td>139000</td>\n",
       "      <td>2</td>\n",
       "      <td>81</td>\n",
       "      <td>1</td>\n",
       "      <td>0</td>\n",
       "      <td>0</td>\n",
       "      <td>0</td>\n",
       "      <td>None</td>\n",
       "      <td>1</td>\n",
       "      <td>350.0</td>\n",
       "      <td>443.0</td>\n",
       "      <td>3</td>\n",
       "      <td>0</td>\n",
       "      <td>TO_RENOVATE</td>\n",
       "      <td>Seny</td>\n",
       "    </tr>\n",
       "    <tr>\n",
       "      <th>15647</th>\n",
       "      <td>9881</td>\n",
       "      <td>HOUSE</td>\n",
       "      <td>HOUSE</td>\n",
       "      <td>499000</td>\n",
       "      <td>6</td>\n",
       "      <td>274</td>\n",
       "      <td>1</td>\n",
       "      <td>0</td>\n",
       "      <td>0</td>\n",
       "      <td>0</td>\n",
       "      <td>None</td>\n",
       "      <td>1</td>\n",
       "      <td>None</td>\n",
       "      <td>1036.0</td>\n",
       "      <td>3</td>\n",
       "      <td>0</td>\n",
       "      <td>TO_RENOVATE</td>\n",
       "      <td>Bellem</td>\n",
       "    </tr>\n",
       "    <tr>\n",
       "      <th>15648</th>\n",
       "      <td>6851</td>\n",
       "      <td>HOUSE</td>\n",
       "      <td>HOUSE</td>\n",
       "      <td>115000</td>\n",
       "      <td>4</td>\n",
       "      <td>160</td>\n",
       "      <td>0</td>\n",
       "      <td>0</td>\n",
       "      <td>0</td>\n",
       "      <td>1</td>\n",
       "      <td>None</td>\n",
       "      <td>1</td>\n",
       "      <td>None</td>\n",
       "      <td>1555.0</td>\n",
       "      <td>4</td>\n",
       "      <td>0</td>\n",
       "      <td>TO_RENOVATE</td>\n",
       "      <td>Nollevaux</td>\n",
       "    </tr>\n",
       "    <tr>\n",
       "      <th>15649</th>\n",
       "      <td>4342</td>\n",
       "      <td>HOUSE</td>\n",
       "      <td>HOUSE</td>\n",
       "      <td>210000</td>\n",
       "      <td>3</td>\n",
       "      <td>110</td>\n",
       "      <td>1</td>\n",
       "      <td>0</td>\n",
       "      <td>0</td>\n",
       "      <td>1</td>\n",
       "      <td>15.0</td>\n",
       "      <td>1</td>\n",
       "      <td>1200.0</td>\n",
       "      <td>1400.0</td>\n",
       "      <td>3</td>\n",
       "      <td>0</td>\n",
       "      <td>TO_BE_DONE_UP</td>\n",
       "      <td>Hognoul</td>\n",
       "    </tr>\n",
       "    <tr>\n",
       "      <th>15650</th>\n",
       "      <td>1981</td>\n",
       "      <td>HOUSE</td>\n",
       "      <td>VILLA</td>\n",
       "      <td>1085000</td>\n",
       "      <td>4</td>\n",
       "      <td>1307</td>\n",
       "      <td>1</td>\n",
       "      <td>0</td>\n",
       "      <td>1</td>\n",
       "      <td>1</td>\n",
       "      <td>100.0</td>\n",
       "      <td>1</td>\n",
       "      <td>1.0</td>\n",
       "      <td>1307.0</td>\n",
       "      <td>4</td>\n",
       "      <td>1</td>\n",
       "      <td>AS_NEW</td>\n",
       "      <td>Hofstade</td>\n",
       "    </tr>\n",
       "  </tbody>\n",
       "</table>\n",
       "<p>15651 rows × 18 columns</p>\n",
       "</div>"
      ],
      "text/plain": [
       "       location       type          subtype    price  room_number  area  \\\n",
       "0          6800      HOUSE            HOUSE   295000            5   460   \n",
       "1          6800      HOUSE            HOUSE   175000            3   172   \n",
       "2          6800      HOUSE            HOUSE   539000            5   596   \n",
       "3          6800  APARTMENT        APARTMENT   154000            2    62   \n",
       "4          6800  APARTMENT        APARTMENT   179000            2    79   \n",
       "...         ...        ...              ...      ...          ...   ...   \n",
       "15646      4557      HOUSE  COUNTRY_COTTAGE   139000            2    81   \n",
       "15647      9881      HOUSE            HOUSE   499000            6   274   \n",
       "15648      6851      HOUSE            HOUSE   115000            4   160   \n",
       "15649      4342      HOUSE            HOUSE   210000            3   110   \n",
       "15650      1981      HOUSE            VILLA  1085000            4  1307   \n",
       "\n",
       "       kitchen_equipped  furnished  fireplace  terrace terrace_area  garden  \\\n",
       "0                     1          0          0        1         10.0       0   \n",
       "1                     0          0          0        1         None       1   \n",
       "2                     1          0          1        1         38.0       1   \n",
       "3                     0          0          0        1          6.0       0   \n",
       "4                     0          0          0        1          6.0       0   \n",
       "...                 ...        ...        ...      ...          ...     ...   \n",
       "15646                 1          0          0        0         None       1   \n",
       "15647                 1          0          0        0         None       1   \n",
       "15648                 0          0          0        1         None       1   \n",
       "15649                 1          0          0        1         15.0       1   \n",
       "15650                 1          0          1        1        100.0       1   \n",
       "\n",
       "      garden_area  land_surface  facade_count  swimming_pool  \\\n",
       "0            None         321.0             2              0   \n",
       "1          1000.0        1254.0             4              0   \n",
       "2          1300.0        1500.0             4              0   \n",
       "3            None           0.0             4              0   \n",
       "4            None           0.0             4              0   \n",
       "...           ...           ...           ...            ...   \n",
       "15646       350.0         443.0             3              0   \n",
       "15647        None        1036.0             3              0   \n",
       "15648        None        1555.0             4              0   \n",
       "15649      1200.0        1400.0             3              0   \n",
       "15650         1.0        1307.0             4              1   \n",
       "\n",
       "      building_condition       city  \n",
       "0          TO_BE_DONE_UP    Remagne  \n",
       "1            TO_RENOVATE    Remagne  \n",
       "2                 AS_NEW    Remagne  \n",
       "3         No_information    Remagne  \n",
       "4         No_information    Remagne  \n",
       "...                  ...        ...  \n",
       "15646        TO_RENOVATE       Seny  \n",
       "15647        TO_RENOVATE     Bellem  \n",
       "15648        TO_RENOVATE  Nollevaux  \n",
       "15649      TO_BE_DONE_UP    Hognoul  \n",
       "15650             AS_NEW   Hofstade  \n",
       "\n",
       "[15651 rows x 18 columns]"
      ]
     },
     "execution_count": 100,
     "metadata": {},
     "output_type": "execute_result"
    }
   ],
   "source": [
    "df_merged"
   ]
  },
  {
   "cell_type": "markdown",
   "id": "a10c5c53",
   "metadata": {},
   "source": [
    "## define function to find province and region from location ('postal code')."
   ]
  },
  {
   "cell_type": "code",
   "execution_count": 102,
   "id": "c54d31a0",
   "metadata": {},
   "outputs": [],
   "source": [
    "def province(locality):\n",
    "    if 1000< locality < 1299:\n",
    "        return \"Brussels_Capital\"\n",
    "    elif 1300< locality < 1499:\n",
    "        return \"Walloon_Brabant\"\n",
    "    elif 1500< locality < 1999:\n",
    "        return \"Flemish_Brabant\"\n",
    "    elif 2000< locality < 2999:\n",
    "        return \"Antwerp\"\n",
    "    elif 3000< locality < 3499:\n",
    "        return \"Flemish_Brabant\"\n",
    "    elif 3500< locality < 3999:\n",
    "        return \"Limburg\"\n",
    "    elif 4000< locality < 4999:\n",
    "        return \"Liege\"\n",
    "    elif 5000< locality < 5999:\n",
    "        return \"Namur\"\n",
    "    elif 6000< locality < 6599:\n",
    "        return \"Hainaut\"\n",
    "    elif 6600< locality < 6999:\n",
    "        return \"Luxembourg\"\n",
    "    elif 7000< locality < 7999:\n",
    "        return \"Hainaut\"\n",
    "    elif 8000< locality < 8999:\n",
    "        return \"West_Flanders\"\n",
    "    elif 9000< locality < 9999:\n",
    "        return \"East_Flanders\""
   ]
  },
  {
   "cell_type": "code",
   "execution_count": 103,
   "id": "e482eead",
   "metadata": {},
   "outputs": [],
   "source": [
    "def region(province):\n",
    "    if province == \"Brussels_Capital\":\n",
    "        return \"Brussels_Capital\"\n",
    "    elif province in [\"Walloon_Brabant\",\"Liege\",\"Namur\",\"Hainaut\",\"Luxembourg\"]:\n",
    "        return \"Wallonia\" \n",
    "    else:\n",
    "        return \"Flanders\""
   ]
  },
  {
   "cell_type": "markdown",
   "id": "8ad3f1ef",
   "metadata": {},
   "source": [
    "use these functions to add 2 columns en dataset and then remove douplicate "
   ]
  },
  {
   "cell_type": "code",
   "execution_count": 106,
   "id": "845419e1",
   "metadata": {},
   "outputs": [],
   "source": [
    "\n",
    "df_merged['province'] = df_merged['location'].apply(province)\n"
   ]
  },
  {
   "cell_type": "code",
   "execution_count": 107,
   "id": "a154a86d",
   "metadata": {},
   "outputs": [],
   "source": [
    "df_merged.drop_duplicates(inplace=True)"
   ]
  },
  {
   "cell_type": "code",
   "execution_count": 108,
   "id": "46f8ea58",
   "metadata": {},
   "outputs": [
    {
     "data": {
      "text/html": [
       "<div>\n",
       "<style scoped>\n",
       "    .dataframe tbody tr th:only-of-type {\n",
       "        vertical-align: middle;\n",
       "    }\n",
       "\n",
       "    .dataframe tbody tr th {\n",
       "        vertical-align: top;\n",
       "    }\n",
       "\n",
       "    .dataframe thead th {\n",
       "        text-align: right;\n",
       "    }\n",
       "</style>\n",
       "<table border=\"1\" class=\"dataframe\">\n",
       "  <thead>\n",
       "    <tr style=\"text-align: right;\">\n",
       "      <th></th>\n",
       "      <th>location</th>\n",
       "      <th>type</th>\n",
       "      <th>subtype</th>\n",
       "      <th>price</th>\n",
       "      <th>room_number</th>\n",
       "      <th>area</th>\n",
       "      <th>kitchen_equipped</th>\n",
       "      <th>furnished</th>\n",
       "      <th>fireplace</th>\n",
       "      <th>terrace</th>\n",
       "      <th>terrace_area</th>\n",
       "      <th>garden</th>\n",
       "      <th>garden_area</th>\n",
       "      <th>land_surface</th>\n",
       "      <th>facade_count</th>\n",
       "      <th>swimming_pool</th>\n",
       "      <th>building_condition</th>\n",
       "      <th>city</th>\n",
       "      <th>province</th>\n",
       "    </tr>\n",
       "  </thead>\n",
       "  <tbody>\n",
       "    <tr>\n",
       "      <th>0</th>\n",
       "      <td>6800</td>\n",
       "      <td>HOUSE</td>\n",
       "      <td>HOUSE</td>\n",
       "      <td>295000</td>\n",
       "      <td>5</td>\n",
       "      <td>460</td>\n",
       "      <td>1</td>\n",
       "      <td>0</td>\n",
       "      <td>0</td>\n",
       "      <td>1</td>\n",
       "      <td>10.0</td>\n",
       "      <td>0</td>\n",
       "      <td>None</td>\n",
       "      <td>321.0</td>\n",
       "      <td>2</td>\n",
       "      <td>0</td>\n",
       "      <td>TO_BE_DONE_UP</td>\n",
       "      <td>Remagne</td>\n",
       "      <td>Luxembourg</td>\n",
       "    </tr>\n",
       "    <tr>\n",
       "      <th>1</th>\n",
       "      <td>6800</td>\n",
       "      <td>HOUSE</td>\n",
       "      <td>HOUSE</td>\n",
       "      <td>175000</td>\n",
       "      <td>3</td>\n",
       "      <td>172</td>\n",
       "      <td>0</td>\n",
       "      <td>0</td>\n",
       "      <td>0</td>\n",
       "      <td>1</td>\n",
       "      <td>None</td>\n",
       "      <td>1</td>\n",
       "      <td>1000.0</td>\n",
       "      <td>1254.0</td>\n",
       "      <td>4</td>\n",
       "      <td>0</td>\n",
       "      <td>TO_RENOVATE</td>\n",
       "      <td>Remagne</td>\n",
       "      <td>Luxembourg</td>\n",
       "    </tr>\n",
       "    <tr>\n",
       "      <th>2</th>\n",
       "      <td>6800</td>\n",
       "      <td>HOUSE</td>\n",
       "      <td>HOUSE</td>\n",
       "      <td>539000</td>\n",
       "      <td>5</td>\n",
       "      <td>596</td>\n",
       "      <td>1</td>\n",
       "      <td>0</td>\n",
       "      <td>1</td>\n",
       "      <td>1</td>\n",
       "      <td>38.0</td>\n",
       "      <td>1</td>\n",
       "      <td>1300.0</td>\n",
       "      <td>1500.0</td>\n",
       "      <td>4</td>\n",
       "      <td>0</td>\n",
       "      <td>AS_NEW</td>\n",
       "      <td>Remagne</td>\n",
       "      <td>Luxembourg</td>\n",
       "    </tr>\n",
       "    <tr>\n",
       "      <th>3</th>\n",
       "      <td>6800</td>\n",
       "      <td>APARTMENT</td>\n",
       "      <td>APARTMENT</td>\n",
       "      <td>154000</td>\n",
       "      <td>2</td>\n",
       "      <td>62</td>\n",
       "      <td>0</td>\n",
       "      <td>0</td>\n",
       "      <td>0</td>\n",
       "      <td>1</td>\n",
       "      <td>6.0</td>\n",
       "      <td>0</td>\n",
       "      <td>None</td>\n",
       "      <td>0.0</td>\n",
       "      <td>4</td>\n",
       "      <td>0</td>\n",
       "      <td>No_information</td>\n",
       "      <td>Remagne</td>\n",
       "      <td>Luxembourg</td>\n",
       "    </tr>\n",
       "    <tr>\n",
       "      <th>4</th>\n",
       "      <td>6800</td>\n",
       "      <td>APARTMENT</td>\n",
       "      <td>APARTMENT</td>\n",
       "      <td>179000</td>\n",
       "      <td>2</td>\n",
       "      <td>79</td>\n",
       "      <td>0</td>\n",
       "      <td>0</td>\n",
       "      <td>0</td>\n",
       "      <td>1</td>\n",
       "      <td>6.0</td>\n",
       "      <td>0</td>\n",
       "      <td>None</td>\n",
       "      <td>0.0</td>\n",
       "      <td>4</td>\n",
       "      <td>0</td>\n",
       "      <td>No_information</td>\n",
       "      <td>Remagne</td>\n",
       "      <td>Luxembourg</td>\n",
       "    </tr>\n",
       "    <tr>\n",
       "      <th>...</th>\n",
       "      <td>...</td>\n",
       "      <td>...</td>\n",
       "      <td>...</td>\n",
       "      <td>...</td>\n",
       "      <td>...</td>\n",
       "      <td>...</td>\n",
       "      <td>...</td>\n",
       "      <td>...</td>\n",
       "      <td>...</td>\n",
       "      <td>...</td>\n",
       "      <td>...</td>\n",
       "      <td>...</td>\n",
       "      <td>...</td>\n",
       "      <td>...</td>\n",
       "      <td>...</td>\n",
       "      <td>...</td>\n",
       "      <td>...</td>\n",
       "      <td>...</td>\n",
       "      <td>...</td>\n",
       "    </tr>\n",
       "    <tr>\n",
       "      <th>15646</th>\n",
       "      <td>4557</td>\n",
       "      <td>HOUSE</td>\n",
       "      <td>COUNTRY_COTTAGE</td>\n",
       "      <td>139000</td>\n",
       "      <td>2</td>\n",
       "      <td>81</td>\n",
       "      <td>1</td>\n",
       "      <td>0</td>\n",
       "      <td>0</td>\n",
       "      <td>0</td>\n",
       "      <td>None</td>\n",
       "      <td>1</td>\n",
       "      <td>350.0</td>\n",
       "      <td>443.0</td>\n",
       "      <td>3</td>\n",
       "      <td>0</td>\n",
       "      <td>TO_RENOVATE</td>\n",
       "      <td>Seny</td>\n",
       "      <td>Liege</td>\n",
       "    </tr>\n",
       "    <tr>\n",
       "      <th>15647</th>\n",
       "      <td>9881</td>\n",
       "      <td>HOUSE</td>\n",
       "      <td>HOUSE</td>\n",
       "      <td>499000</td>\n",
       "      <td>6</td>\n",
       "      <td>274</td>\n",
       "      <td>1</td>\n",
       "      <td>0</td>\n",
       "      <td>0</td>\n",
       "      <td>0</td>\n",
       "      <td>None</td>\n",
       "      <td>1</td>\n",
       "      <td>None</td>\n",
       "      <td>1036.0</td>\n",
       "      <td>3</td>\n",
       "      <td>0</td>\n",
       "      <td>TO_RENOVATE</td>\n",
       "      <td>Bellem</td>\n",
       "      <td>East_Flanders</td>\n",
       "    </tr>\n",
       "    <tr>\n",
       "      <th>15648</th>\n",
       "      <td>6851</td>\n",
       "      <td>HOUSE</td>\n",
       "      <td>HOUSE</td>\n",
       "      <td>115000</td>\n",
       "      <td>4</td>\n",
       "      <td>160</td>\n",
       "      <td>0</td>\n",
       "      <td>0</td>\n",
       "      <td>0</td>\n",
       "      <td>1</td>\n",
       "      <td>None</td>\n",
       "      <td>1</td>\n",
       "      <td>None</td>\n",
       "      <td>1555.0</td>\n",
       "      <td>4</td>\n",
       "      <td>0</td>\n",
       "      <td>TO_RENOVATE</td>\n",
       "      <td>Nollevaux</td>\n",
       "      <td>Luxembourg</td>\n",
       "    </tr>\n",
       "    <tr>\n",
       "      <th>15649</th>\n",
       "      <td>4342</td>\n",
       "      <td>HOUSE</td>\n",
       "      <td>HOUSE</td>\n",
       "      <td>210000</td>\n",
       "      <td>3</td>\n",
       "      <td>110</td>\n",
       "      <td>1</td>\n",
       "      <td>0</td>\n",
       "      <td>0</td>\n",
       "      <td>1</td>\n",
       "      <td>15.0</td>\n",
       "      <td>1</td>\n",
       "      <td>1200.0</td>\n",
       "      <td>1400.0</td>\n",
       "      <td>3</td>\n",
       "      <td>0</td>\n",
       "      <td>TO_BE_DONE_UP</td>\n",
       "      <td>Hognoul</td>\n",
       "      <td>Liege</td>\n",
       "    </tr>\n",
       "    <tr>\n",
       "      <th>15650</th>\n",
       "      <td>1981</td>\n",
       "      <td>HOUSE</td>\n",
       "      <td>VILLA</td>\n",
       "      <td>1085000</td>\n",
       "      <td>4</td>\n",
       "      <td>1307</td>\n",
       "      <td>1</td>\n",
       "      <td>0</td>\n",
       "      <td>1</td>\n",
       "      <td>1</td>\n",
       "      <td>100.0</td>\n",
       "      <td>1</td>\n",
       "      <td>1.0</td>\n",
       "      <td>1307.0</td>\n",
       "      <td>4</td>\n",
       "      <td>1</td>\n",
       "      <td>AS_NEW</td>\n",
       "      <td>Hofstade</td>\n",
       "      <td>Flemish_Brabant</td>\n",
       "    </tr>\n",
       "  </tbody>\n",
       "</table>\n",
       "<p>15651 rows × 19 columns</p>\n",
       "</div>"
      ],
      "text/plain": [
       "       location       type          subtype    price  room_number  area  \\\n",
       "0          6800      HOUSE            HOUSE   295000            5   460   \n",
       "1          6800      HOUSE            HOUSE   175000            3   172   \n",
       "2          6800      HOUSE            HOUSE   539000            5   596   \n",
       "3          6800  APARTMENT        APARTMENT   154000            2    62   \n",
       "4          6800  APARTMENT        APARTMENT   179000            2    79   \n",
       "...         ...        ...              ...      ...          ...   ...   \n",
       "15646      4557      HOUSE  COUNTRY_COTTAGE   139000            2    81   \n",
       "15647      9881      HOUSE            HOUSE   499000            6   274   \n",
       "15648      6851      HOUSE            HOUSE   115000            4   160   \n",
       "15649      4342      HOUSE            HOUSE   210000            3   110   \n",
       "15650      1981      HOUSE            VILLA  1085000            4  1307   \n",
       "\n",
       "       kitchen_equipped  furnished  fireplace  terrace terrace_area  garden  \\\n",
       "0                     1          0          0        1         10.0       0   \n",
       "1                     0          0          0        1         None       1   \n",
       "2                     1          0          1        1         38.0       1   \n",
       "3                     0          0          0        1          6.0       0   \n",
       "4                     0          0          0        1          6.0       0   \n",
       "...                 ...        ...        ...      ...          ...     ...   \n",
       "15646                 1          0          0        0         None       1   \n",
       "15647                 1          0          0        0         None       1   \n",
       "15648                 0          0          0        1         None       1   \n",
       "15649                 1          0          0        1         15.0       1   \n",
       "15650                 1          0          1        1        100.0       1   \n",
       "\n",
       "      garden_area  land_surface  facade_count  swimming_pool  \\\n",
       "0            None         321.0             2              0   \n",
       "1          1000.0        1254.0             4              0   \n",
       "2          1300.0        1500.0             4              0   \n",
       "3            None           0.0             4              0   \n",
       "4            None           0.0             4              0   \n",
       "...           ...           ...           ...            ...   \n",
       "15646       350.0         443.0             3              0   \n",
       "15647        None        1036.0             3              0   \n",
       "15648        None        1555.0             4              0   \n",
       "15649      1200.0        1400.0             3              0   \n",
       "15650         1.0        1307.0             4              1   \n",
       "\n",
       "      building_condition       city         province  \n",
       "0          TO_BE_DONE_UP    Remagne       Luxembourg  \n",
       "1            TO_RENOVATE    Remagne       Luxembourg  \n",
       "2                 AS_NEW    Remagne       Luxembourg  \n",
       "3         No_information    Remagne       Luxembourg  \n",
       "4         No_information    Remagne       Luxembourg  \n",
       "...                  ...        ...              ...  \n",
       "15646        TO_RENOVATE       Seny            Liege  \n",
       "15647        TO_RENOVATE     Bellem    East_Flanders  \n",
       "15648        TO_RENOVATE  Nollevaux       Luxembourg  \n",
       "15649      TO_BE_DONE_UP    Hognoul            Liege  \n",
       "15650             AS_NEW   Hofstade  Flemish_Brabant  \n",
       "\n",
       "[15651 rows x 19 columns]"
      ]
     },
     "execution_count": 108,
     "metadata": {},
     "output_type": "execute_result"
    }
   ],
   "source": [
    "df_merged"
   ]
  },
  {
   "cell_type": "code",
   "execution_count": 109,
   "id": "ce5a0119",
   "metadata": {},
   "outputs": [
    {
     "data": {
      "text/plain": [
       "(15651, 17)"
      ]
     },
     "execution_count": 109,
     "metadata": {},
     "output_type": "execute_result"
    }
   ],
   "source": [
    "df.shape"
   ]
  },
  {
   "cell_type": "code",
   "execution_count": 110,
   "id": "52dd88fd",
   "metadata": {},
   "outputs": [],
   "source": [
    "df_merged['region'] =df_merged['province'].apply(region)"
   ]
  },
  {
   "cell_type": "code",
   "execution_count": 111,
   "id": "684442ba",
   "metadata": {},
   "outputs": [
    {
     "data": {
      "text/html": [
       "<div>\n",
       "<style scoped>\n",
       "    .dataframe tbody tr th:only-of-type {\n",
       "        vertical-align: middle;\n",
       "    }\n",
       "\n",
       "    .dataframe tbody tr th {\n",
       "        vertical-align: top;\n",
       "    }\n",
       "\n",
       "    .dataframe thead th {\n",
       "        text-align: right;\n",
       "    }\n",
       "</style>\n",
       "<table border=\"1\" class=\"dataframe\">\n",
       "  <thead>\n",
       "    <tr style=\"text-align: right;\">\n",
       "      <th></th>\n",
       "      <th>location</th>\n",
       "      <th>type</th>\n",
       "      <th>subtype</th>\n",
       "      <th>price</th>\n",
       "      <th>room_number</th>\n",
       "      <th>area</th>\n",
       "      <th>kitchen_equipped</th>\n",
       "      <th>furnished</th>\n",
       "      <th>fireplace</th>\n",
       "      <th>terrace</th>\n",
       "      <th>terrace_area</th>\n",
       "      <th>garden</th>\n",
       "      <th>garden_area</th>\n",
       "      <th>land_surface</th>\n",
       "      <th>facade_count</th>\n",
       "      <th>swimming_pool</th>\n",
       "      <th>building_condition</th>\n",
       "      <th>city</th>\n",
       "      <th>province</th>\n",
       "      <th>region</th>\n",
       "    </tr>\n",
       "  </thead>\n",
       "  <tbody>\n",
       "    <tr>\n",
       "      <th>0</th>\n",
       "      <td>6800</td>\n",
       "      <td>HOUSE</td>\n",
       "      <td>HOUSE</td>\n",
       "      <td>295000</td>\n",
       "      <td>5</td>\n",
       "      <td>460</td>\n",
       "      <td>1</td>\n",
       "      <td>0</td>\n",
       "      <td>0</td>\n",
       "      <td>1</td>\n",
       "      <td>10.0</td>\n",
       "      <td>0</td>\n",
       "      <td>None</td>\n",
       "      <td>321.0</td>\n",
       "      <td>2</td>\n",
       "      <td>0</td>\n",
       "      <td>TO_BE_DONE_UP</td>\n",
       "      <td>Remagne</td>\n",
       "      <td>Luxembourg</td>\n",
       "      <td>Wallonia</td>\n",
       "    </tr>\n",
       "    <tr>\n",
       "      <th>1</th>\n",
       "      <td>6800</td>\n",
       "      <td>HOUSE</td>\n",
       "      <td>HOUSE</td>\n",
       "      <td>175000</td>\n",
       "      <td>3</td>\n",
       "      <td>172</td>\n",
       "      <td>0</td>\n",
       "      <td>0</td>\n",
       "      <td>0</td>\n",
       "      <td>1</td>\n",
       "      <td>None</td>\n",
       "      <td>1</td>\n",
       "      <td>1000.0</td>\n",
       "      <td>1254.0</td>\n",
       "      <td>4</td>\n",
       "      <td>0</td>\n",
       "      <td>TO_RENOVATE</td>\n",
       "      <td>Remagne</td>\n",
       "      <td>Luxembourg</td>\n",
       "      <td>Wallonia</td>\n",
       "    </tr>\n",
       "    <tr>\n",
       "      <th>2</th>\n",
       "      <td>6800</td>\n",
       "      <td>HOUSE</td>\n",
       "      <td>HOUSE</td>\n",
       "      <td>539000</td>\n",
       "      <td>5</td>\n",
       "      <td>596</td>\n",
       "      <td>1</td>\n",
       "      <td>0</td>\n",
       "      <td>1</td>\n",
       "      <td>1</td>\n",
       "      <td>38.0</td>\n",
       "      <td>1</td>\n",
       "      <td>1300.0</td>\n",
       "      <td>1500.0</td>\n",
       "      <td>4</td>\n",
       "      <td>0</td>\n",
       "      <td>AS_NEW</td>\n",
       "      <td>Remagne</td>\n",
       "      <td>Luxembourg</td>\n",
       "      <td>Wallonia</td>\n",
       "    </tr>\n",
       "    <tr>\n",
       "      <th>3</th>\n",
       "      <td>6800</td>\n",
       "      <td>APARTMENT</td>\n",
       "      <td>APARTMENT</td>\n",
       "      <td>154000</td>\n",
       "      <td>2</td>\n",
       "      <td>62</td>\n",
       "      <td>0</td>\n",
       "      <td>0</td>\n",
       "      <td>0</td>\n",
       "      <td>1</td>\n",
       "      <td>6.0</td>\n",
       "      <td>0</td>\n",
       "      <td>None</td>\n",
       "      <td>0.0</td>\n",
       "      <td>4</td>\n",
       "      <td>0</td>\n",
       "      <td>No_information</td>\n",
       "      <td>Remagne</td>\n",
       "      <td>Luxembourg</td>\n",
       "      <td>Wallonia</td>\n",
       "    </tr>\n",
       "    <tr>\n",
       "      <th>4</th>\n",
       "      <td>6800</td>\n",
       "      <td>APARTMENT</td>\n",
       "      <td>APARTMENT</td>\n",
       "      <td>179000</td>\n",
       "      <td>2</td>\n",
       "      <td>79</td>\n",
       "      <td>0</td>\n",
       "      <td>0</td>\n",
       "      <td>0</td>\n",
       "      <td>1</td>\n",
       "      <td>6.0</td>\n",
       "      <td>0</td>\n",
       "      <td>None</td>\n",
       "      <td>0.0</td>\n",
       "      <td>4</td>\n",
       "      <td>0</td>\n",
       "      <td>No_information</td>\n",
       "      <td>Remagne</td>\n",
       "      <td>Luxembourg</td>\n",
       "      <td>Wallonia</td>\n",
       "    </tr>\n",
       "    <tr>\n",
       "      <th>...</th>\n",
       "      <td>...</td>\n",
       "      <td>...</td>\n",
       "      <td>...</td>\n",
       "      <td>...</td>\n",
       "      <td>...</td>\n",
       "      <td>...</td>\n",
       "      <td>...</td>\n",
       "      <td>...</td>\n",
       "      <td>...</td>\n",
       "      <td>...</td>\n",
       "      <td>...</td>\n",
       "      <td>...</td>\n",
       "      <td>...</td>\n",
       "      <td>...</td>\n",
       "      <td>...</td>\n",
       "      <td>...</td>\n",
       "      <td>...</td>\n",
       "      <td>...</td>\n",
       "      <td>...</td>\n",
       "      <td>...</td>\n",
       "    </tr>\n",
       "    <tr>\n",
       "      <th>15646</th>\n",
       "      <td>4557</td>\n",
       "      <td>HOUSE</td>\n",
       "      <td>COUNTRY_COTTAGE</td>\n",
       "      <td>139000</td>\n",
       "      <td>2</td>\n",
       "      <td>81</td>\n",
       "      <td>1</td>\n",
       "      <td>0</td>\n",
       "      <td>0</td>\n",
       "      <td>0</td>\n",
       "      <td>None</td>\n",
       "      <td>1</td>\n",
       "      <td>350.0</td>\n",
       "      <td>443.0</td>\n",
       "      <td>3</td>\n",
       "      <td>0</td>\n",
       "      <td>TO_RENOVATE</td>\n",
       "      <td>Seny</td>\n",
       "      <td>Liege</td>\n",
       "      <td>Wallonia</td>\n",
       "    </tr>\n",
       "    <tr>\n",
       "      <th>15647</th>\n",
       "      <td>9881</td>\n",
       "      <td>HOUSE</td>\n",
       "      <td>HOUSE</td>\n",
       "      <td>499000</td>\n",
       "      <td>6</td>\n",
       "      <td>274</td>\n",
       "      <td>1</td>\n",
       "      <td>0</td>\n",
       "      <td>0</td>\n",
       "      <td>0</td>\n",
       "      <td>None</td>\n",
       "      <td>1</td>\n",
       "      <td>None</td>\n",
       "      <td>1036.0</td>\n",
       "      <td>3</td>\n",
       "      <td>0</td>\n",
       "      <td>TO_RENOVATE</td>\n",
       "      <td>Bellem</td>\n",
       "      <td>East_Flanders</td>\n",
       "      <td>Flanders</td>\n",
       "    </tr>\n",
       "    <tr>\n",
       "      <th>15648</th>\n",
       "      <td>6851</td>\n",
       "      <td>HOUSE</td>\n",
       "      <td>HOUSE</td>\n",
       "      <td>115000</td>\n",
       "      <td>4</td>\n",
       "      <td>160</td>\n",
       "      <td>0</td>\n",
       "      <td>0</td>\n",
       "      <td>0</td>\n",
       "      <td>1</td>\n",
       "      <td>None</td>\n",
       "      <td>1</td>\n",
       "      <td>None</td>\n",
       "      <td>1555.0</td>\n",
       "      <td>4</td>\n",
       "      <td>0</td>\n",
       "      <td>TO_RENOVATE</td>\n",
       "      <td>Nollevaux</td>\n",
       "      <td>Luxembourg</td>\n",
       "      <td>Wallonia</td>\n",
       "    </tr>\n",
       "    <tr>\n",
       "      <th>15649</th>\n",
       "      <td>4342</td>\n",
       "      <td>HOUSE</td>\n",
       "      <td>HOUSE</td>\n",
       "      <td>210000</td>\n",
       "      <td>3</td>\n",
       "      <td>110</td>\n",
       "      <td>1</td>\n",
       "      <td>0</td>\n",
       "      <td>0</td>\n",
       "      <td>1</td>\n",
       "      <td>15.0</td>\n",
       "      <td>1</td>\n",
       "      <td>1200.0</td>\n",
       "      <td>1400.0</td>\n",
       "      <td>3</td>\n",
       "      <td>0</td>\n",
       "      <td>TO_BE_DONE_UP</td>\n",
       "      <td>Hognoul</td>\n",
       "      <td>Liege</td>\n",
       "      <td>Wallonia</td>\n",
       "    </tr>\n",
       "    <tr>\n",
       "      <th>15650</th>\n",
       "      <td>1981</td>\n",
       "      <td>HOUSE</td>\n",
       "      <td>VILLA</td>\n",
       "      <td>1085000</td>\n",
       "      <td>4</td>\n",
       "      <td>1307</td>\n",
       "      <td>1</td>\n",
       "      <td>0</td>\n",
       "      <td>1</td>\n",
       "      <td>1</td>\n",
       "      <td>100.0</td>\n",
       "      <td>1</td>\n",
       "      <td>1.0</td>\n",
       "      <td>1307.0</td>\n",
       "      <td>4</td>\n",
       "      <td>1</td>\n",
       "      <td>AS_NEW</td>\n",
       "      <td>Hofstade</td>\n",
       "      <td>Flemish_Brabant</td>\n",
       "      <td>Flanders</td>\n",
       "    </tr>\n",
       "  </tbody>\n",
       "</table>\n",
       "<p>15651 rows × 20 columns</p>\n",
       "</div>"
      ],
      "text/plain": [
       "       location       type          subtype    price  room_number  area  \\\n",
       "0          6800      HOUSE            HOUSE   295000            5   460   \n",
       "1          6800      HOUSE            HOUSE   175000            3   172   \n",
       "2          6800      HOUSE            HOUSE   539000            5   596   \n",
       "3          6800  APARTMENT        APARTMENT   154000            2    62   \n",
       "4          6800  APARTMENT        APARTMENT   179000            2    79   \n",
       "...         ...        ...              ...      ...          ...   ...   \n",
       "15646      4557      HOUSE  COUNTRY_COTTAGE   139000            2    81   \n",
       "15647      9881      HOUSE            HOUSE   499000            6   274   \n",
       "15648      6851      HOUSE            HOUSE   115000            4   160   \n",
       "15649      4342      HOUSE            HOUSE   210000            3   110   \n",
       "15650      1981      HOUSE            VILLA  1085000            4  1307   \n",
       "\n",
       "       kitchen_equipped  furnished  fireplace  terrace terrace_area  garden  \\\n",
       "0                     1          0          0        1         10.0       0   \n",
       "1                     0          0          0        1         None       1   \n",
       "2                     1          0          1        1         38.0       1   \n",
       "3                     0          0          0        1          6.0       0   \n",
       "4                     0          0          0        1          6.0       0   \n",
       "...                 ...        ...        ...      ...          ...     ...   \n",
       "15646                 1          0          0        0         None       1   \n",
       "15647                 1          0          0        0         None       1   \n",
       "15648                 0          0          0        1         None       1   \n",
       "15649                 1          0          0        1         15.0       1   \n",
       "15650                 1          0          1        1        100.0       1   \n",
       "\n",
       "      garden_area  land_surface  facade_count  swimming_pool  \\\n",
       "0            None         321.0             2              0   \n",
       "1          1000.0        1254.0             4              0   \n",
       "2          1300.0        1500.0             4              0   \n",
       "3            None           0.0             4              0   \n",
       "4            None           0.0             4              0   \n",
       "...           ...           ...           ...            ...   \n",
       "15646       350.0         443.0             3              0   \n",
       "15647        None        1036.0             3              0   \n",
       "15648        None        1555.0             4              0   \n",
       "15649      1200.0        1400.0             3              0   \n",
       "15650         1.0        1307.0             4              1   \n",
       "\n",
       "      building_condition       city         province    region  \n",
       "0          TO_BE_DONE_UP    Remagne       Luxembourg  Wallonia  \n",
       "1            TO_RENOVATE    Remagne       Luxembourg  Wallonia  \n",
       "2                 AS_NEW    Remagne       Luxembourg  Wallonia  \n",
       "3         No_information    Remagne       Luxembourg  Wallonia  \n",
       "4         No_information    Remagne       Luxembourg  Wallonia  \n",
       "...                  ...        ...              ...       ...  \n",
       "15646        TO_RENOVATE       Seny            Liege  Wallonia  \n",
       "15647        TO_RENOVATE     Bellem    East_Flanders  Flanders  \n",
       "15648        TO_RENOVATE  Nollevaux       Luxembourg  Wallonia  \n",
       "15649      TO_BE_DONE_UP    Hognoul            Liege  Wallonia  \n",
       "15650             AS_NEW   Hofstade  Flemish_Brabant  Flanders  \n",
       "\n",
       "[15651 rows x 20 columns]"
      ]
     },
     "execution_count": 111,
     "metadata": {},
     "output_type": "execute_result"
    }
   ],
   "source": [
    "df_merged"
   ]
  },
  {
   "cell_type": "code",
   "execution_count": 112,
   "id": "1e75a4bc",
   "metadata": {},
   "outputs": [],
   "source": [
    "df_merged.drop_duplicates(inplace=True)"
   ]
  },
  {
   "cell_type": "code",
   "execution_count": 113,
   "id": "96392c15",
   "metadata": {},
   "outputs": [
    {
     "data": {
      "text/html": [
       "<div>\n",
       "<style scoped>\n",
       "    .dataframe tbody tr th:only-of-type {\n",
       "        vertical-align: middle;\n",
       "    }\n",
       "\n",
       "    .dataframe tbody tr th {\n",
       "        vertical-align: top;\n",
       "    }\n",
       "\n",
       "    .dataframe thead th {\n",
       "        text-align: right;\n",
       "    }\n",
       "</style>\n",
       "<table border=\"1\" class=\"dataframe\">\n",
       "  <thead>\n",
       "    <tr style=\"text-align: right;\">\n",
       "      <th></th>\n",
       "      <th>location</th>\n",
       "      <th>type</th>\n",
       "      <th>subtype</th>\n",
       "      <th>price</th>\n",
       "      <th>room_number</th>\n",
       "      <th>area</th>\n",
       "      <th>kitchen_equipped</th>\n",
       "      <th>furnished</th>\n",
       "      <th>fireplace</th>\n",
       "      <th>terrace</th>\n",
       "      <th>terrace_area</th>\n",
       "      <th>garden</th>\n",
       "      <th>garden_area</th>\n",
       "      <th>land_surface</th>\n",
       "      <th>facade_count</th>\n",
       "      <th>swimming_pool</th>\n",
       "      <th>building_condition</th>\n",
       "      <th>city</th>\n",
       "      <th>province</th>\n",
       "      <th>region</th>\n",
       "    </tr>\n",
       "  </thead>\n",
       "  <tbody>\n",
       "    <tr>\n",
       "      <th>0</th>\n",
       "      <td>6800</td>\n",
       "      <td>HOUSE</td>\n",
       "      <td>HOUSE</td>\n",
       "      <td>295000</td>\n",
       "      <td>5</td>\n",
       "      <td>460</td>\n",
       "      <td>1</td>\n",
       "      <td>0</td>\n",
       "      <td>0</td>\n",
       "      <td>1</td>\n",
       "      <td>10.0</td>\n",
       "      <td>0</td>\n",
       "      <td>None</td>\n",
       "      <td>321.0</td>\n",
       "      <td>2</td>\n",
       "      <td>0</td>\n",
       "      <td>TO_BE_DONE_UP</td>\n",
       "      <td>Remagne</td>\n",
       "      <td>Luxembourg</td>\n",
       "      <td>Wallonia</td>\n",
       "    </tr>\n",
       "    <tr>\n",
       "      <th>1</th>\n",
       "      <td>6800</td>\n",
       "      <td>HOUSE</td>\n",
       "      <td>HOUSE</td>\n",
       "      <td>175000</td>\n",
       "      <td>3</td>\n",
       "      <td>172</td>\n",
       "      <td>0</td>\n",
       "      <td>0</td>\n",
       "      <td>0</td>\n",
       "      <td>1</td>\n",
       "      <td>None</td>\n",
       "      <td>1</td>\n",
       "      <td>1000.0</td>\n",
       "      <td>1254.0</td>\n",
       "      <td>4</td>\n",
       "      <td>0</td>\n",
       "      <td>TO_RENOVATE</td>\n",
       "      <td>Remagne</td>\n",
       "      <td>Luxembourg</td>\n",
       "      <td>Wallonia</td>\n",
       "    </tr>\n",
       "    <tr>\n",
       "      <th>2</th>\n",
       "      <td>6800</td>\n",
       "      <td>HOUSE</td>\n",
       "      <td>HOUSE</td>\n",
       "      <td>539000</td>\n",
       "      <td>5</td>\n",
       "      <td>596</td>\n",
       "      <td>1</td>\n",
       "      <td>0</td>\n",
       "      <td>1</td>\n",
       "      <td>1</td>\n",
       "      <td>38.0</td>\n",
       "      <td>1</td>\n",
       "      <td>1300.0</td>\n",
       "      <td>1500.0</td>\n",
       "      <td>4</td>\n",
       "      <td>0</td>\n",
       "      <td>AS_NEW</td>\n",
       "      <td>Remagne</td>\n",
       "      <td>Luxembourg</td>\n",
       "      <td>Wallonia</td>\n",
       "    </tr>\n",
       "    <tr>\n",
       "      <th>3</th>\n",
       "      <td>6800</td>\n",
       "      <td>APARTMENT</td>\n",
       "      <td>APARTMENT</td>\n",
       "      <td>154000</td>\n",
       "      <td>2</td>\n",
       "      <td>62</td>\n",
       "      <td>0</td>\n",
       "      <td>0</td>\n",
       "      <td>0</td>\n",
       "      <td>1</td>\n",
       "      <td>6.0</td>\n",
       "      <td>0</td>\n",
       "      <td>None</td>\n",
       "      <td>0.0</td>\n",
       "      <td>4</td>\n",
       "      <td>0</td>\n",
       "      <td>No_information</td>\n",
       "      <td>Remagne</td>\n",
       "      <td>Luxembourg</td>\n",
       "      <td>Wallonia</td>\n",
       "    </tr>\n",
       "    <tr>\n",
       "      <th>4</th>\n",
       "      <td>6800</td>\n",
       "      <td>APARTMENT</td>\n",
       "      <td>APARTMENT</td>\n",
       "      <td>179000</td>\n",
       "      <td>2</td>\n",
       "      <td>79</td>\n",
       "      <td>0</td>\n",
       "      <td>0</td>\n",
       "      <td>0</td>\n",
       "      <td>1</td>\n",
       "      <td>6.0</td>\n",
       "      <td>0</td>\n",
       "      <td>None</td>\n",
       "      <td>0.0</td>\n",
       "      <td>4</td>\n",
       "      <td>0</td>\n",
       "      <td>No_information</td>\n",
       "      <td>Remagne</td>\n",
       "      <td>Luxembourg</td>\n",
       "      <td>Wallonia</td>\n",
       "    </tr>\n",
       "    <tr>\n",
       "      <th>...</th>\n",
       "      <td>...</td>\n",
       "      <td>...</td>\n",
       "      <td>...</td>\n",
       "      <td>...</td>\n",
       "      <td>...</td>\n",
       "      <td>...</td>\n",
       "      <td>...</td>\n",
       "      <td>...</td>\n",
       "      <td>...</td>\n",
       "      <td>...</td>\n",
       "      <td>...</td>\n",
       "      <td>...</td>\n",
       "      <td>...</td>\n",
       "      <td>...</td>\n",
       "      <td>...</td>\n",
       "      <td>...</td>\n",
       "      <td>...</td>\n",
       "      <td>...</td>\n",
       "      <td>...</td>\n",
       "      <td>...</td>\n",
       "    </tr>\n",
       "    <tr>\n",
       "      <th>15646</th>\n",
       "      <td>4557</td>\n",
       "      <td>HOUSE</td>\n",
       "      <td>COUNTRY_COTTAGE</td>\n",
       "      <td>139000</td>\n",
       "      <td>2</td>\n",
       "      <td>81</td>\n",
       "      <td>1</td>\n",
       "      <td>0</td>\n",
       "      <td>0</td>\n",
       "      <td>0</td>\n",
       "      <td>None</td>\n",
       "      <td>1</td>\n",
       "      <td>350.0</td>\n",
       "      <td>443.0</td>\n",
       "      <td>3</td>\n",
       "      <td>0</td>\n",
       "      <td>TO_RENOVATE</td>\n",
       "      <td>Seny</td>\n",
       "      <td>Liege</td>\n",
       "      <td>Wallonia</td>\n",
       "    </tr>\n",
       "    <tr>\n",
       "      <th>15647</th>\n",
       "      <td>9881</td>\n",
       "      <td>HOUSE</td>\n",
       "      <td>HOUSE</td>\n",
       "      <td>499000</td>\n",
       "      <td>6</td>\n",
       "      <td>274</td>\n",
       "      <td>1</td>\n",
       "      <td>0</td>\n",
       "      <td>0</td>\n",
       "      <td>0</td>\n",
       "      <td>None</td>\n",
       "      <td>1</td>\n",
       "      <td>None</td>\n",
       "      <td>1036.0</td>\n",
       "      <td>3</td>\n",
       "      <td>0</td>\n",
       "      <td>TO_RENOVATE</td>\n",
       "      <td>Bellem</td>\n",
       "      <td>East_Flanders</td>\n",
       "      <td>Flanders</td>\n",
       "    </tr>\n",
       "    <tr>\n",
       "      <th>15648</th>\n",
       "      <td>6851</td>\n",
       "      <td>HOUSE</td>\n",
       "      <td>HOUSE</td>\n",
       "      <td>115000</td>\n",
       "      <td>4</td>\n",
       "      <td>160</td>\n",
       "      <td>0</td>\n",
       "      <td>0</td>\n",
       "      <td>0</td>\n",
       "      <td>1</td>\n",
       "      <td>None</td>\n",
       "      <td>1</td>\n",
       "      <td>None</td>\n",
       "      <td>1555.0</td>\n",
       "      <td>4</td>\n",
       "      <td>0</td>\n",
       "      <td>TO_RENOVATE</td>\n",
       "      <td>Nollevaux</td>\n",
       "      <td>Luxembourg</td>\n",
       "      <td>Wallonia</td>\n",
       "    </tr>\n",
       "    <tr>\n",
       "      <th>15649</th>\n",
       "      <td>4342</td>\n",
       "      <td>HOUSE</td>\n",
       "      <td>HOUSE</td>\n",
       "      <td>210000</td>\n",
       "      <td>3</td>\n",
       "      <td>110</td>\n",
       "      <td>1</td>\n",
       "      <td>0</td>\n",
       "      <td>0</td>\n",
       "      <td>1</td>\n",
       "      <td>15.0</td>\n",
       "      <td>1</td>\n",
       "      <td>1200.0</td>\n",
       "      <td>1400.0</td>\n",
       "      <td>3</td>\n",
       "      <td>0</td>\n",
       "      <td>TO_BE_DONE_UP</td>\n",
       "      <td>Hognoul</td>\n",
       "      <td>Liege</td>\n",
       "      <td>Wallonia</td>\n",
       "    </tr>\n",
       "    <tr>\n",
       "      <th>15650</th>\n",
       "      <td>1981</td>\n",
       "      <td>HOUSE</td>\n",
       "      <td>VILLA</td>\n",
       "      <td>1085000</td>\n",
       "      <td>4</td>\n",
       "      <td>1307</td>\n",
       "      <td>1</td>\n",
       "      <td>0</td>\n",
       "      <td>1</td>\n",
       "      <td>1</td>\n",
       "      <td>100.0</td>\n",
       "      <td>1</td>\n",
       "      <td>1.0</td>\n",
       "      <td>1307.0</td>\n",
       "      <td>4</td>\n",
       "      <td>1</td>\n",
       "      <td>AS_NEW</td>\n",
       "      <td>Hofstade</td>\n",
       "      <td>Flemish_Brabant</td>\n",
       "      <td>Flanders</td>\n",
       "    </tr>\n",
       "  </tbody>\n",
       "</table>\n",
       "<p>15651 rows × 20 columns</p>\n",
       "</div>"
      ],
      "text/plain": [
       "       location       type          subtype    price  room_number  area  \\\n",
       "0          6800      HOUSE            HOUSE   295000            5   460   \n",
       "1          6800      HOUSE            HOUSE   175000            3   172   \n",
       "2          6800      HOUSE            HOUSE   539000            5   596   \n",
       "3          6800  APARTMENT        APARTMENT   154000            2    62   \n",
       "4          6800  APARTMENT        APARTMENT   179000            2    79   \n",
       "...         ...        ...              ...      ...          ...   ...   \n",
       "15646      4557      HOUSE  COUNTRY_COTTAGE   139000            2    81   \n",
       "15647      9881      HOUSE            HOUSE   499000            6   274   \n",
       "15648      6851      HOUSE            HOUSE   115000            4   160   \n",
       "15649      4342      HOUSE            HOUSE   210000            3   110   \n",
       "15650      1981      HOUSE            VILLA  1085000            4  1307   \n",
       "\n",
       "       kitchen_equipped  furnished  fireplace  terrace terrace_area  garden  \\\n",
       "0                     1          0          0        1         10.0       0   \n",
       "1                     0          0          0        1         None       1   \n",
       "2                     1          0          1        1         38.0       1   \n",
       "3                     0          0          0        1          6.0       0   \n",
       "4                     0          0          0        1          6.0       0   \n",
       "...                 ...        ...        ...      ...          ...     ...   \n",
       "15646                 1          0          0        0         None       1   \n",
       "15647                 1          0          0        0         None       1   \n",
       "15648                 0          0          0        1         None       1   \n",
       "15649                 1          0          0        1         15.0       1   \n",
       "15650                 1          0          1        1        100.0       1   \n",
       "\n",
       "      garden_area  land_surface  facade_count  swimming_pool  \\\n",
       "0            None         321.0             2              0   \n",
       "1          1000.0        1254.0             4              0   \n",
       "2          1300.0        1500.0             4              0   \n",
       "3            None           0.0             4              0   \n",
       "4            None           0.0             4              0   \n",
       "...           ...           ...           ...            ...   \n",
       "15646       350.0         443.0             3              0   \n",
       "15647        None        1036.0             3              0   \n",
       "15648        None        1555.0             4              0   \n",
       "15649      1200.0        1400.0             3              0   \n",
       "15650         1.0        1307.0             4              1   \n",
       "\n",
       "      building_condition       city         province    region  \n",
       "0          TO_BE_DONE_UP    Remagne       Luxembourg  Wallonia  \n",
       "1            TO_RENOVATE    Remagne       Luxembourg  Wallonia  \n",
       "2                 AS_NEW    Remagne       Luxembourg  Wallonia  \n",
       "3         No_information    Remagne       Luxembourg  Wallonia  \n",
       "4         No_information    Remagne       Luxembourg  Wallonia  \n",
       "...                  ...        ...              ...       ...  \n",
       "15646        TO_RENOVATE       Seny            Liege  Wallonia  \n",
       "15647        TO_RENOVATE     Bellem    East_Flanders  Flanders  \n",
       "15648        TO_RENOVATE  Nollevaux       Luxembourg  Wallonia  \n",
       "15649      TO_BE_DONE_UP    Hognoul            Liege  Wallonia  \n",
       "15650             AS_NEW   Hofstade  Flemish_Brabant  Flanders  \n",
       "\n",
       "[15651 rows x 20 columns]"
      ]
     },
     "execution_count": 113,
     "metadata": {},
     "output_type": "execute_result"
    }
   ],
   "source": [
    "df_merged"
   ]
  },
  {
   "cell_type": "markdown",
   "id": "896f2d01",
   "metadata": {},
   "source": [
    "## save our cleaned dataset as a csv file"
   ]
  },
  {
   "cell_type": "code",
   "execution_count": 114,
   "id": "717b94da",
   "metadata": {},
   "outputs": [],
   "source": [
    "df_merged.to_csv('cleaneddata1.csv')"
   ]
  },
  {
   "cell_type": "code",
   "execution_count": null,
   "id": "5f97fa0a",
   "metadata": {},
   "outputs": [],
   "source": []
  }
 ],
 "metadata": {
  "kernelspec": {
   "display_name": "Python 3",
   "language": "python",
   "name": "python3"
  },
  "language_info": {
   "codemirror_mode": {
    "name": "ipython",
    "version": 3
   },
   "file_extension": ".py",
   "mimetype": "text/x-python",
   "name": "python",
   "nbconvert_exporter": "python",
   "pygments_lexer": "ipython3",
   "version": "3.8.8"
  }
 },
 "nbformat": 4,
 "nbformat_minor": 5
}
